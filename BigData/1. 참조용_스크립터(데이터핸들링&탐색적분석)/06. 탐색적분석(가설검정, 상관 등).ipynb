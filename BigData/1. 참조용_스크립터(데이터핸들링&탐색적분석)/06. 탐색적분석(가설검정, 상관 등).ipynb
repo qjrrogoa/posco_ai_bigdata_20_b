{
 "cells": [
  {
   "cell_type": "code",
   "execution_count": 6,
   "metadata": {},
   "outputs": [],
   "source": [
    "import numpy as np\n",
    "import pandas as pd\n",
    "\n",
    "# Data 시각화 패키지\n",
    "import matplotlib\n",
    "import matplotlib.pyplot as plt\n",
    "import seaborn as sns\n",
    "\n",
    "from statsmodels.formula.api import ols\n",
    "\n",
    "# 선형모델 formula(y~x1+x2+...)\n",
    "import statsmodels.formula.api as smf\n",
    "import statsmodels.api as sm\n",
    "\n",
    "from statsmodels.stats.proportion import proportions_ztest\n",
    "from statsmodels.stats.anova import anova_lm\n",
    "\n",
    "# 통계분석 패키지\n",
    "from scipy import stats\n",
    "import scipy.stats\n",
    "\n",
    "from scipy.stats import shapiro\n",
    "# 주피터노트북에 그래프 바로 그리기 위한 설정\n",
    "%matplotlib inline\n",
    "\n",
    "plt.rcParams['axes.unicode_minus'] = False # 음수값이 깨지는 경우, 방지"
   ]
  },
  {
   "cell_type": "markdown",
   "metadata": {},
   "source": [
    "# [평균검정]\n",
    "## ② 2-sample t-test"
   ]
  },
  {
   "cell_type": "code",
   "execution_count": 35,
   "metadata": {},
   "outputs": [
    {
     "data": {
      "text/html": [
       "<div>\n",
       "<style scoped>\n",
       "    .dataframe tbody tr th:only-of-type {\n",
       "        vertical-align: middle;\n",
       "    }\n",
       "\n",
       "    .dataframe tbody tr th {\n",
       "        vertical-align: top;\n",
       "    }\n",
       "\n",
       "    .dataframe thead th {\n",
       "        text-align: right;\n",
       "    }\n",
       "</style>\n",
       "<table border=\"1\" class=\"dataframe\">\n",
       "  <thead>\n",
       "    <tr style=\"text-align: right;\">\n",
       "      <th></th>\n",
       "      <th>cust A</th>\n",
       "      <th>cust B</th>\n",
       "    </tr>\n",
       "  </thead>\n",
       "  <tbody>\n",
       "    <tr>\n",
       "      <th>0</th>\n",
       "      <td>6</td>\n",
       "      <td>7</td>\n",
       "    </tr>\n",
       "    <tr>\n",
       "      <th>1</th>\n",
       "      <td>5</td>\n",
       "      <td>5</td>\n",
       "    </tr>\n",
       "    <tr>\n",
       "      <th>2</th>\n",
       "      <td>5</td>\n",
       "      <td>7</td>\n",
       "    </tr>\n",
       "    <tr>\n",
       "      <th>3</th>\n",
       "      <td>4</td>\n",
       "      <td>8</td>\n",
       "    </tr>\n",
       "    <tr>\n",
       "      <th>4</th>\n",
       "      <td>6</td>\n",
       "      <td>7</td>\n",
       "    </tr>\n",
       "  </tbody>\n",
       "</table>\n",
       "</div>"
      ],
      "text/plain": [
       "   cust A  cust B\n",
       "0       6       7\n",
       "1       5       5\n",
       "2       5       7\n",
       "3       4       8\n",
       "4       6       7"
      ]
     },
     "execution_count": 35,
     "metadata": {},
     "output_type": "execute_result"
    }
   ],
   "source": [
    "df = pd.read_csv(\"bigdata_csv/2sample.csv\")\n",
    "df.head()"
   ]
  },
  {
   "cell_type": "markdown",
   "metadata": {},
   "source": [
    "##### box plot\n"
   ]
  },
  {
   "cell_type": "code",
   "execution_count": 36,
   "metadata": {},
   "outputs": [
    {
     "data": {
      "text/plain": [
       "<AxesSubplot:>"
      ]
     },
     "execution_count": 36,
     "metadata": {},
     "output_type": "execute_result"
    },
    {
     "data": {
      "image/png": "[encoded data removed]",
      "text/plain": [
       "<Figure size 432x288 with 1 Axes>"
      ]
     },
     "metadata": {
      "needs_background": "light"
     },
     "output_type": "display_data"
    }
   ],
   "source": [
    "df.boxplot(['cust A', 'cust B'])"
   ]
  },
  {
   "cell_type": "markdown",
   "metadata": {},
   "source": [
    "#### 해석\n",
    "검정 전, 상자그림을 그려보면, A의 Q1 = 5, Q3 = 6으로 Data의 50%가 median가 B와 차이가 있어보인다. <br>\n",
    "Q3 + 1.5xIQR을 벗어난 데이터 = 이상치 <br>\n",
    "Q1 - 1.5xIQR을 벗어난 데이터 = 이상치"
   ]
  },
  {
   "cell_type": "code",
   "execution_count": 11,
   "metadata": {},
   "outputs": [
    {
     "data": {
      "text/plain": [
       "<AxesSubplot:>"
      ]
     },
     "execution_count": 11,
     "metadata": {},
     "output_type": "execute_result"
    },
    {
     "data": {
      "image/png": "[encoded data removed]",
      "text/plain": [
       "<Figure size 432x288 with 1 Axes>"
      ]
     },
     "metadata": {
      "needs_background": "light"
     },
     "output_type": "display_data"
    }
   ],
   "source": [
    "df[['cust A', 'cust B']].boxplot()"
   ]
  },
  {
   "cell_type": "markdown",
   "metadata": {},
   "source": [
    "##### 정규성 검정\n",
    "H0: 정규성을 따른다. <br>\n",
    "H1: 정규성을 따르지 않는다."
   ]
  },
  {
   "cell_type": "code",
   "execution_count": 12,
   "metadata": {},
   "outputs": [
    {
     "data": {
      "text/plain": [
       "ShapiroResult(statistic=0.9094840288162231, pvalue=0.06230909377336502)"
      ]
     },
     "execution_count": 12,
     "metadata": {},
     "output_type": "execute_result"
    }
   ],
   "source": [
    "from scipy.stats import shapiro\n",
    "\n",
    "shapiro(df['cust A'])"
   ]
  },
  {
   "cell_type": "code",
   "execution_count": 13,
   "metadata": {},
   "outputs": [
    {
     "data": {
      "text/plain": [
       "ShapiroResult(statistic=0.9119446873664856, pvalue=0.06941930204629898)"
      ]
     },
     "execution_count": 13,
     "metadata": {},
     "output_type": "execute_result"
    }
   ],
   "source": [
    "shapiro(df['cust B'])"
   ]
  },
  {
   "cell_type": "markdown",
   "metadata": {},
   "source": [
    "#### 해석\n",
    "두 데이터 모두 정규성을 따른다."
   ]
  },
  {
   "cell_type": "markdown",
   "metadata": {},
   "source": [
    "##### 등분산성 검정\n",
    "H0: 두 집단의 분산이 같다. <br>\n",
    "H1: 두 집단의 분산이 같지않다."
   ]
  },
  {
   "cell_type": "code",
   "execution_count": 15,
   "metadata": {},
   "outputs": [
    {
     "data": {
      "text/plain": [
       "BartlettResult(statistic=0.3717065402376611, pvalue=0.5420755238642572)"
      ]
     },
     "execution_count": 15,
     "metadata": {},
     "output_type": "execute_result"
    }
   ],
   "source": [
    "# 바틀렛 사용 이유: 데이터가 정규성을 갖고 있으면 바틀렛 사용\n",
    "stats.bartlett(df['cust A'], df['cust B'])"
   ]
  },
  {
   "cell_type": "markdown",
   "metadata": {},
   "source": [
    "#### 해석\n",
    "등분산성 검정 결과 두 집단의 분산 동일."
   ]
  },
  {
   "cell_type": "code",
   "execution_count": null,
   "metadata": {},
   "outputs": [],
   "source": []
  },
  {
   "cell_type": "markdown",
   "metadata": {},
   "source": [
    "##### 독립적인 2-sample T-test"
   ]
  },
  {
   "cell_type": "code",
   "execution_count": 16,
   "metadata": {},
   "outputs": [
    {
     "data": {
      "text/plain": [
       "(-3.596, 0.001)"
      ]
     },
     "execution_count": 16,
     "metadata": {},
     "output_type": "execute_result"
    }
   ],
   "source": [
    "t_result = stats.ttest_ind(df['cust A'], df['cust B'], equal_var=True) # 2-sample t-tst\n",
    "\n",
    "t, p = t_result.statistic.round(3), t_result.pvalue.round(3)\n",
    "t, p"
   ]
  },
  {
   "cell_type": "markdown",
   "metadata": {},
   "source": [
    "#### 해석\n",
    "검정통계랑이 약 -4, 유의수준 5%에서 A고객층과 B고객층의 만족도는 차이가 있다고 할 수 있다."
   ]
  },
  {
   "cell_type": "code",
   "execution_count": null,
   "metadata": {},
   "outputs": [],
   "source": []
  },
  {
   "cell_type": "markdown",
   "metadata": {},
   "source": [
    "### i. 실습"
   ]
  },
  {
   "cell_type": "code",
   "execution_count": 3,
   "metadata": {},
   "outputs": [],
   "source": [
    "df = pd.DataFrame({\"A\":[1.883,1.715,1.799,1.768,1.711,1.832,1.427,1.344],\n",
    "                  \"B\":[1.435,1.572,1.486,1.511,1.457,1.548,1.404,1.883]})"
   ]
  },
  {
   "cell_type": "code",
   "execution_count": 4,
   "metadata": {},
   "outputs": [
    {
     "data": {
      "text/plain": [
       "<AxesSubplot:>"
      ]
     },
     "execution_count": 4,
     "metadata": {},
     "output_type": "execute_result"
    },
    {
     "data": {
      "image/png": "[encoded data removed]",
      "text/plain": [
       "<Figure size 432x288 with 1 Axes>"
      ]
     },
     "metadata": {
      "needs_background": "light"
     },
     "output_type": "display_data"
    }
   ],
   "source": [
    "df.boxplot()"
   ]
  },
  {
   "cell_type": "markdown",
   "metadata": {},
   "source": [
    "#### 해석\n",
    "검정 전, 데이터의 특징을 살펴보기 위해 상자그림을 그려보면, A의 Q1(데이터의 25% 지점)은 약 1.65, Q3(데이터의 75% 지점)은 약 1.8이다. <br>\n",
    "B는 Q1이 1.5, Q3이 약 1.55임을 알 수 있으며 Data의 median이 B와 차이가 있어보인다. <br>\n",
    "또한, 각 데이터는 이상치로 보이는 값을 갖고 있다.<br>\n",
    "Q3 + 1.5xIQR을 벗어난 데이터 = 이상치 <br>\n",
    "Q1 - 1.5xIQR을 벗어난 데이터 = 이상치"
   ]
  },
  {
   "cell_type": "markdown",
   "metadata": {},
   "source": [
    "##### 정규성 검정\n",
    "- $H_0$: 모집단이 정규성을 따른다.\n",
    "- $H_1$: 모집단이 정규성을 따르지 않는다."
   ]
  },
  {
   "cell_type": "code",
   "execution_count": 7,
   "metadata": {},
   "outputs": [
    {
     "data": {
      "text/plain": [
       "ShapiroResult(statistic=0.8425756096839905, pvalue=0.08004552870988846)"
      ]
     },
     "execution_count": 7,
     "metadata": {},
     "output_type": "execute_result"
    }
   ],
   "source": [
    "shapiro(df['A'])"
   ]
  },
  {
   "cell_type": "code",
   "execution_count": 8,
   "metadata": {},
   "outputs": [
    {
     "data": {
      "text/plain": [
       "ShapiroResult(statistic=0.7734811902046204, pvalue=0.014793740585446358)"
      ]
     },
     "execution_count": 8,
     "metadata": {},
     "output_type": "execute_result"
    }
   ],
   "source": [
    "shapiro(df['B'])"
   ]
  },
  {
   "cell_type": "markdown",
   "metadata": {},
   "source": [
    "#### 해석\n",
    "위 가설하에서, A와 B 각각에 대한 정규성 검사 결과,\n",
    "A의 통계량 = 0.843, p-value = 0.08로 유의수준 5%하에서 귀무가설을 기각하지 못한다. <br>\n",
    "따라서 **A에 대해서는 정규성을 따른다**고 볼 수 있으며 B에 대해서는 통계량 = 0.77, p-value = 0.01로<br>\n",
    "유의수준 5%하에서 귀무가설을 기각하여 **데이터 B는 정규성을 따르지 않는다**고 볼 수 있다. <br>\n",
    "따라서, 데이터 B는 층별 추출이나 Data를 늘리는 등의 정규성을 따르도록 값을 수정/처리할 필요가 있다.<br>\n",
    "하지만, 해당 실습에서는 그 과정을 수행하지 않고 **Levene를 사용해 등분산성을 검정**한다."
   ]
  },
  {
   "cell_type": "markdown",
   "metadata": {},
   "source": [
    "##### 등분산성 검정\n",
    "- $H_0$: 두 집단의 분산이 동일하다.\n",
    "- $H_1$: 두 집단의 분산이 다르다."
   ]
  },
  {
   "cell_type": "code",
   "execution_count": 9,
   "metadata": {},
   "outputs": [
    {
     "data": {
      "text/plain": [
       "LeveneResult(statistic=0.4408416728536036, pvalue=0.5175025061092301)"
      ]
     },
     "execution_count": 9,
     "metadata": {},
     "output_type": "execute_result"
    }
   ],
   "source": [
    "# levene 사용 이유: 데이터가 정규성을 갖고 있지않아 levene를 이용하여 등분산성 검정\n",
    "stats.levene(df['A'], df['B'])"
   ]
  },
  {
   "cell_type": "markdown",
   "metadata": {},
   "source": [
    "#### 해석\n",
    "위 가설하에서, A와 B의 등분산성 검정 결과, F-통계량은 0.44이고 p-value = 0.517로 유의수준 5%하에서<br>\n",
    "귀무가설을 기각하지 못한다. 따라서 **두 집단의 분산이 동일**하다고 볼 수 있다."
   ]
  },
  {
   "cell_type": "markdown",
   "metadata": {},
   "source": [
    "##### 독립적인 2-sample T-test\n",
    "- $H_0$: A와 B 공급자 간에 모평균의 차이가 없다.\n",
    "- $H_1$: A와 B 공급자 간에 모평균의 차이가 있다."
   ]
  },
  {
   "cell_type": "code",
   "execution_count": 10,
   "metadata": {},
   "outputs": [
    {
     "data": {
      "text/plain": [
       "(1.7, 0.111)"
      ]
     },
     "execution_count": 10,
     "metadata": {},
     "output_type": "execute_result"
    }
   ],
   "source": [
    "t_result = stats.ttest_ind(df['A'], df['B'], equal_var=True) # 2-sample t-tst\n",
    "\n",
    "t, p = t_result.statistic.round(3), t_result.pvalue.round(3)\n",
    "t, p"
   ]
  },
  {
   "cell_type": "markdown",
   "metadata": {},
   "source": [
    "#### 해석\n",
    "등분산성 검정 결과, 두 분산이 동일한 결과가 나와서 equal_var=True를 설정하였고<br>\n",
    "2표본 T-test 검정 결과, 검정통계랑이 약 1.7이고 p-value = 0.11로 유의수준 5%에서 귀무가설을 기각하지 못한다.<br>\n",
    "따라서, A와 B공급 자 간의 모평균 차이가 없다고 할 수 있다."
   ]
  },
  {
   "cell_type": "code",
   "execution_count": null,
   "metadata": {},
   "outputs": [],
   "source": []
  },
  {
   "cell_type": "markdown",
   "metadata": {},
   "source": [
    "## ③ Paired T-test"
   ]
  },
  {
   "cell_type": "code",
   "execution_count": 17,
   "metadata": {},
   "outputs": [
    {
     "data": {
      "text/html": [
       "<div>\n",
       "<style scoped>\n",
       "    .dataframe tbody tr th:only-of-type {\n",
       "        vertical-align: middle;\n",
       "    }\n",
       "\n",
       "    .dataframe tbody tr th {\n",
       "        vertical-align: top;\n",
       "    }\n",
       "\n",
       "    .dataframe thead th {\n",
       "        text-align: right;\n",
       "    }\n",
       "</style>\n",
       "<table border=\"1\" class=\"dataframe\">\n",
       "  <thead>\n",
       "    <tr style=\"text-align: right;\">\n",
       "      <th></th>\n",
       "      <th>before</th>\n",
       "      <th>after</th>\n",
       "    </tr>\n",
       "  </thead>\n",
       "  <tbody>\n",
       "    <tr>\n",
       "      <th>0</th>\n",
       "      <td>720</td>\n",
       "      <td>810</td>\n",
       "    </tr>\n",
       "    <tr>\n",
       "      <th>1</th>\n",
       "      <td>589</td>\n",
       "      <td>670</td>\n",
       "    </tr>\n",
       "    <tr>\n",
       "      <th>2</th>\n",
       "      <td>780</td>\n",
       "      <td>790</td>\n",
       "    </tr>\n",
       "    <tr>\n",
       "      <th>3</th>\n",
       "      <td>648</td>\n",
       "      <td>712</td>\n",
       "    </tr>\n",
       "    <tr>\n",
       "      <th>4</th>\n",
       "      <td>720</td>\n",
       "      <td>810</td>\n",
       "    </tr>\n",
       "  </tbody>\n",
       "</table>\n",
       "</div>"
      ],
      "text/plain": [
       "   before  after\n",
       "0     720    810\n",
       "1     589    670\n",
       "2     780    790\n",
       "3     648    712\n",
       "4     720    810"
      ]
     },
     "execution_count": 17,
     "metadata": {},
     "output_type": "execute_result"
    }
   ],
   "source": [
    "df = pd.read_csv(\"bigdata_csv/paired.csv\")\n",
    "df.head()"
   ]
  },
  {
   "cell_type": "code",
   "execution_count": 18,
   "metadata": {},
   "outputs": [
    {
     "data": {
      "text/plain": [
       "(-5.324, 0.0)"
      ]
     },
     "execution_count": 18,
     "metadata": {},
     "output_type": "execute_result"
    }
   ],
   "source": [
    "t_result = stats.ttest_rel(df['before'], df['after']) # Paired t-tst\n",
    "\n",
    "t, p = t_result.statistic.round(3), t_result.pvalue.round(3)\n",
    "t, p"
   ]
  },
  {
   "cell_type": "markdown",
   "metadata": {},
   "source": [
    "#### 해석\n",
    "H0: 두 자료의 전후 차이가 없다. <br>\n",
    "H1: 두 자료의 전후 차이가 있다. <br>\n",
    "paired T test는 이전/이후 자료로 등분산성 검정을 하지 않아도 된다. <br>\n",
    "검정통계량이 -5.3으로 p-value는 약 0이다. 따라서 성적 차이가 있다."
   ]
  },
  {
   "cell_type": "markdown",
   "metadata": {},
   "source": [
    "p-value가 작을수록 통계적으로 유의미하다."
   ]
  },
  {
   "cell_type": "markdown",
   "metadata": {},
   "source": [
    "### ii. 실습"
   ]
  },
  {
   "cell_type": "code",
   "execution_count": 11,
   "metadata": {},
   "outputs": [
    {
     "data": {
      "text/html": [
       "<div>\n",
       "<style scoped>\n",
       "    .dataframe tbody tr th:only-of-type {\n",
       "        vertical-align: middle;\n",
       "    }\n",
       "\n",
       "    .dataframe tbody tr th {\n",
       "        vertical-align: top;\n",
       "    }\n",
       "\n",
       "    .dataframe thead th {\n",
       "        text-align: right;\n",
       "    }\n",
       "</style>\n",
       "<table border=\"1\" class=\"dataframe\">\n",
       "  <thead>\n",
       "    <tr style=\"text-align: right;\">\n",
       "      <th></th>\n",
       "      <th>before</th>\n",
       "      <th>after</th>\n",
       "    </tr>\n",
       "  </thead>\n",
       "  <tbody>\n",
       "    <tr>\n",
       "      <th>0</th>\n",
       "      <td>720</td>\n",
       "      <td>710</td>\n",
       "    </tr>\n",
       "    <tr>\n",
       "      <th>1</th>\n",
       "      <td>589</td>\n",
       "      <td>580</td>\n",
       "    </tr>\n",
       "    <tr>\n",
       "      <th>2</th>\n",
       "      <td>780</td>\n",
       "      <td>787</td>\n",
       "    </tr>\n",
       "    <tr>\n",
       "      <th>3</th>\n",
       "      <td>648</td>\n",
       "      <td>712</td>\n",
       "    </tr>\n",
       "    <tr>\n",
       "      <th>4</th>\n",
       "      <td>720</td>\n",
       "      <td>750</td>\n",
       "    </tr>\n",
       "  </tbody>\n",
       "</table>\n",
       "</div>"
      ],
      "text/plain": [
       "   before  after\n",
       "0     720    710\n",
       "1     589    580\n",
       "2     780    787\n",
       "3     648    712\n",
       "4     720    750"
      ]
     },
     "execution_count": 11,
     "metadata": {},
     "output_type": "execute_result"
    }
   ],
   "source": [
    "women_eng = pd.DataFrame({\"before\":[720,589,780,648,720,589,780,648,780,648],\n",
    "                      \"after\":[710,580,787,712,750,600,782,670,790,680]})\n",
    "women_eng.head()"
   ]
  },
  {
   "cell_type": "code",
   "execution_count": 12,
   "metadata": {},
   "outputs": [
    {
     "data": {
      "text/plain": [
       "(-2.266, 0.05)"
      ]
     },
     "execution_count": 12,
     "metadata": {},
     "output_type": "execute_result"
    }
   ],
   "source": [
    "t_result = stats.ttest_rel(women_eng['before'], women_eng['after']) # Paired t-tst\n",
    "\n",
    "t, p = t_result.statistic.round(3), t_result.pvalue.round(3)\n",
    "t, p"
   ]
  },
  {
   "cell_type": "markdown",
   "metadata": {},
   "source": [
    "#### 해석\n",
    "$H_0$: 학원을 가기 전과 간 후의 영어성적에 차이가 없다. <br>\n",
    "$H_1$: 학원을 가기 전과 간 후의 영어성적에 차이가 있다. <br>\n",
    "paired T test는 이전/이후 자료로 등분산성 검정을 하지 않아도 된다. <br>\n",
    "짝지어진 t-test 검정 결과, 검정통계량이 -2.266, p-value는 약 0.05이다. <br>\n",
    "따라서, 유의수준 5%에서 H0를 기각하지 못하고 학원을 가기 전과 간 후의 성적 차이가 없다고 볼 수 있다. <br>\n",
    "하지만, 유의수준 10%에서 검정하면 차이가 있다고 볼 수도 있을 것이다."
   ]
  },
  {
   "cell_type": "code",
   "execution_count": null,
   "metadata": {},
   "outputs": [],
   "source": []
  },
  {
   "cell_type": "markdown",
   "metadata": {},
   "source": [
    "## ④ 1 Proportion Test"
   ]
  },
  {
   "cell_type": "code",
   "execution_count": 40,
   "metadata": {},
   "outputs": [
    {
     "name": "stdout",
     "output_type": "stream",
     "text": [
      "1 Proportion Test\n",
      "z:1.4\t p-value:0.161\n"
     ]
    }
   ],
   "source": [
    "# H0: p = 0.1, H1: p /= 0.1\n",
    "\n",
    "count = 15\n",
    "n_obs = 100\n",
    "\n",
    "p0 = 0.1\n",
    "\n",
    "stat, p = proportions_ztest(count, n_obs, p0)\n",
    "print(\"1 Proportion Test\")\n",
    "print(\"z:{}\\t p-value:{}\".format(stat.round(3), p.round(3)))"
   ]
  },
  {
   "cell_type": "markdown",
   "metadata": {},
   "source": [
    "### iii. 실습"
   ]
  },
  {
   "cell_type": "code",
   "execution_count": 42,
   "metadata": {},
   "outputs": [
    {
     "name": "stdout",
     "output_type": "stream",
     "text": [
      "1 Proportion Test\n",
      "z:-2.041\t p-value:0.041\n"
     ]
    }
   ],
   "source": [
    "count = 40\n",
    "n_obs = 100\n",
    "\n",
    "p0 = 0.5\n",
    "stat, p = proportions_ztest(count, n_obs, p0)\n",
    "print(\"1 Proportion Test\")\n",
    "print(\"z:{}\\t p-value:{}\".format(stat.round(3), p.round(3)))"
   ]
  },
  {
   "cell_type": "markdown",
   "metadata": {},
   "source": [
    "#### 해석\n",
    "$H_0$: 앞면이 나올 확률은 0.5이다.(모집단의 비율 = 0.5) <br>\n",
    "$H_1$: 앞면이 나올 확률은 0.5이 아니다. (모집단의 비율 /= 0.5)<br>\n",
    "1 proportion 검정 결과, z 통계량은 -2.041이고 p-value = 0.041이다.<br>\n",
    "유의수준 5% 하에서 귀무가설을 기각하고 앞면이 나올 확률은 0.5가 아니라고 볼 수 있다."
   ]
  },
  {
   "cell_type": "markdown",
   "metadata": {},
   "source": [
    "## ⑤ 2 Proportion Test\n",
    "$H_0$: 두 공장의 불량률이 같다. ($p_1$ = $p_2$) <br>\n",
    "$H_1$: 두 공장의 불량률이 다르다. ($p_1$ /= $p_2$)"
   ]
  },
  {
   "cell_type": "code",
   "execution_count": 41,
   "metadata": {},
   "outputs": [
    {
     "name": "stdout",
     "output_type": "stream",
     "text": [
      "2 Proportion Test\n",
      "z:1.553\t p-value:0.12\n"
     ]
    }
   ],
   "source": [
    "count = np.array([4, 1])\n",
    "n_obs = np.array([1000, 1200])\n",
    "\n",
    "stat, p = proportions_ztest(count, n_obs)\n",
    "print(\"2 Proportion Test\")\n",
    "print(\"z:{}\\t p-value:{}\".format(stat.round(3), p.round(3)))"
   ]
  },
  {
   "cell_type": "markdown",
   "metadata": {},
   "source": [
    "#### 해석\n",
    "유의수준 5%에서 2 proportion Test를 시행할 때, p-value가 더 크기때문에 H0를 채택한다. <br>\n",
    "즉, 두 공장의 불량률의 차이가 없다고 볼 수 있다."
   ]
  },
  {
   "cell_type": "markdown",
   "metadata": {},
   "source": [
    "### iv. 실습\n",
    "$H_0$: 동일한 제품을 생산하는 두 공정의 불량률은 같다. ($p_A$ = $p_B$) <br>\n",
    "$H_1$: 동일한 제품을 생산하는 두 공정의 불량률은 다르다. ($p_A$ /= $p_B$)"
   ]
  },
  {
   "cell_type": "code",
   "execution_count": 43,
   "metadata": {},
   "outputs": [
    {
     "name": "stdout",
     "output_type": "stream",
     "text": [
      "2 Proportion Test\n",
      "z:2.073\t p-value:0.038\n"
     ]
    }
   ],
   "source": [
    "count = np.array([14, 5])\n",
    "n_obs = np.array([1200, 1200])\n",
    "\n",
    "stat, p = proportions_ztest(count, n_obs)\n",
    "print(\"2 Proportion Test\")\n",
    "print(\"z:{}\\t p-value:{}\".format(stat.round(3), p.round(3)))"
   ]
  },
  {
   "cell_type": "markdown",
   "metadata": {},
   "source": [
    "#### 해석\n",
    "위 가설하에서 2 proportion Test를 시행할 때, z통계량은 2.073이고 유의수준 5% 하에서 p-value=0.038로 귀무가설을 기각한다. <br>\n",
    "즉, 두 공장의 불량률의 차이가 있다고 볼 수 있다."
   ]
  },
  {
   "cell_type": "markdown",
   "metadata": {},
   "source": [
    "# 2. 카이제곱 검정\n",
    "- \n",
    "1. 동일성 검정\n",
    "2. 독립성 검정\n",
    "3. 적합도 검정"
   ]
  },
  {
   "cell_type": "markdown",
   "metadata": {},
   "source": [
    "## ① 동일성 검정\n",
    "- $H_0$: 근무조별로 제품을 생산하는 부하의 차이가 없다.\n",
    "- $H_1$: 근무조별로 제품을 생산하는 부하의 차이가 있다."
   ]
  },
  {
   "cell_type": "code",
   "execution_count": 53,
   "metadata": {},
   "outputs": [
    {
     "data": {
      "text/html": [
       "<div>\n",
       "<style scoped>\n",
       "    .dataframe tbody tr th:only-of-type {\n",
       "        vertical-align: middle;\n",
       "    }\n",
       "\n",
       "    .dataframe tbody tr th {\n",
       "        vertical-align: top;\n",
       "    }\n",
       "\n",
       "    .dataframe thead th {\n",
       "        text-align: right;\n",
       "    }\n",
       "</style>\n",
       "<table border=\"1\" class=\"dataframe\">\n",
       "  <thead>\n",
       "    <tr style=\"text-align: right;\">\n",
       "      <th></th>\n",
       "      <th>work_1</th>\n",
       "      <th>work_2</th>\n",
       "      <th>work_3</th>\n",
       "      <th>work_4</th>\n",
       "    </tr>\n",
       "  </thead>\n",
       "  <tbody>\n",
       "    <tr>\n",
       "      <th>0</th>\n",
       "      <td>270</td>\n",
       "      <td>260</td>\n",
       "      <td>236</td>\n",
       "      <td>234</td>\n",
       "    </tr>\n",
       "    <tr>\n",
       "      <th>1</th>\n",
       "      <td>228</td>\n",
       "      <td>285</td>\n",
       "      <td>225</td>\n",
       "      <td>262</td>\n",
       "    </tr>\n",
       "    <tr>\n",
       "      <th>2</th>\n",
       "      <td>277</td>\n",
       "      <td>284</td>\n",
       "      <td>231</td>\n",
       "      <td>208</td>\n",
       "    </tr>\n",
       "  </tbody>\n",
       "</table>\n",
       "</div>"
      ],
      "text/plain": [
       "   work_1  work_2  work_3  work_4\n",
       "0     270     260     236     234\n",
       "1     228     285     225     262\n",
       "2     277     284     231     208"
      ]
     },
     "execution_count": 53,
     "metadata": {},
     "output_type": "execute_result"
    }
   ],
   "source": [
    "df = pd.read_csv(\"bigdata_csv/카이제곱_근무조.csv\")\n",
    "df"
   ]
  },
  {
   "cell_type": "code",
   "execution_count": 62,
   "metadata": {},
   "outputs": [
    {
     "name": "stdout",
     "output_type": "stream",
     "text": [
      "카이제곱 검정 - 동일성 검정\n",
      "chisq: 13.366\t p-value: 0.038\n",
      "df: 6\n",
      "기대치: \n",
      "[[258.3 276.3 230.7 234.7]\n",
      " [258.3 276.3 230.7 234.7]\n",
      " [258.3 276.3 230.7 234.7]]\n"
     ]
    }
   ],
   "source": [
    "chi, p, dof, expected = stats.chi2_contingency(df)\n",
    "\n",
    "print(\"카이제곱 검정 - 동일성 검정\")\n",
    "print(\"chisq: {}\\t p-value: {}\".format(chi.round(3), p.round(3)))\n",
    "print(\"df: {}\".format(dof))\n",
    "print(\"기대치: \\n{}\".format(expected.round(1)))"
   ]
  },
  {
   "cell_type": "markdown",
   "metadata": {},
   "source": [
    "#### 해석\n",
    "유의수준 5%에서 근무조별로 제품을 생산하는 부하의 차이가 있다고 할 수 있다."
   ]
  },
  {
   "cell_type": "markdown",
   "metadata": {},
   "source": [
    "### v. 실습\n",
    "- $H_0$: 각 제품의 이미지에 대한 차이가 없다.\n",
    "- $H_1$: 각 제품의 이미지에 대한 차이가 있다."
   ]
  },
  {
   "cell_type": "code",
   "execution_count": 14,
   "metadata": {},
   "outputs": [
    {
     "data": {
      "text/html": [
       "<div>\n",
       "<style scoped>\n",
       "    .dataframe tbody tr th:only-of-type {\n",
       "        vertical-align: middle;\n",
       "    }\n",
       "\n",
       "    .dataframe tbody tr th {\n",
       "        vertical-align: top;\n",
       "    }\n",
       "\n",
       "    .dataframe thead th {\n",
       "        text-align: right;\n",
       "    }\n",
       "</style>\n",
       "<table border=\"1\" class=\"dataframe\">\n",
       "  <thead>\n",
       "    <tr style=\"text-align: right;\">\n",
       "      <th></th>\n",
       "      <th>A</th>\n",
       "      <th>B</th>\n",
       "      <th>C</th>\n",
       "      <th>D</th>\n",
       "      <th>E</th>\n",
       "      <th>F</th>\n",
       "    </tr>\n",
       "  </thead>\n",
       "  <tbody>\n",
       "    <tr>\n",
       "      <th>0</th>\n",
       "      <td>18</td>\n",
       "      <td>8</td>\n",
       "      <td>4</td>\n",
       "      <td>4</td>\n",
       "      <td>3</td>\n",
       "      <td>3</td>\n",
       "    </tr>\n",
       "    <tr>\n",
       "      <th>1</th>\n",
       "      <td>2</td>\n",
       "      <td>2</td>\n",
       "      <td>1</td>\n",
       "      <td>1</td>\n",
       "      <td>1</td>\n",
       "      <td>25</td>\n",
       "    </tr>\n",
       "    <tr>\n",
       "      <th>2</th>\n",
       "      <td>14</td>\n",
       "      <td>14</td>\n",
       "      <td>3</td>\n",
       "      <td>2</td>\n",
       "      <td>3</td>\n",
       "      <td>8</td>\n",
       "    </tr>\n",
       "    <tr>\n",
       "      <th>3</th>\n",
       "      <td>5</td>\n",
       "      <td>5</td>\n",
       "      <td>4</td>\n",
       "      <td>3</td>\n",
       "      <td>1</td>\n",
       "      <td>10</td>\n",
       "    </tr>\n",
       "    <tr>\n",
       "      <th>4</th>\n",
       "      <td>5</td>\n",
       "      <td>5</td>\n",
       "      <td>9</td>\n",
       "      <td>2</td>\n",
       "      <td>1</td>\n",
       "      <td>2</td>\n",
       "    </tr>\n",
       "    <tr>\n",
       "      <th>5</th>\n",
       "      <td>9</td>\n",
       "      <td>9</td>\n",
       "      <td>5</td>\n",
       "      <td>7</td>\n",
       "      <td>1</td>\n",
       "      <td>1</td>\n",
       "    </tr>\n",
       "    <tr>\n",
       "      <th>6</th>\n",
       "      <td>4</td>\n",
       "      <td>4</td>\n",
       "      <td>4</td>\n",
       "      <td>3</td>\n",
       "      <td>1</td>\n",
       "      <td>7</td>\n",
       "    </tr>\n",
       "  </tbody>\n",
       "</table>\n",
       "</div>"
      ],
      "text/plain": [
       "    A   B  C  D  E   F\n",
       "0  18   8  4  4  3   3\n",
       "1   2   2  1  1  1  25\n",
       "2  14  14  3  2  3   8\n",
       "3   5   5  4  3  1  10\n",
       "4   5   5  9  2  1   2\n",
       "5   9   9  5  7  1   1\n",
       "6   4   4  4  3  1   7"
      ]
     },
     "execution_count": 14,
     "metadata": {},
     "output_type": "execute_result"
    }
   ],
   "source": [
    "df = pd.read_csv(\"bigdata_csv/카이제곱_노트북.csv\")\n",
    "df"
   ]
  },
  {
   "cell_type": "code",
   "execution_count": 15,
   "metadata": {},
   "outputs": [
    {
     "name": "stdout",
     "output_type": "stream",
     "text": [
      "카이제곱 검정 - 동일성 검정\n",
      "chisq: 95.759\t p-value: 0.0\n",
      "df: 30\n",
      "기대치: \n",
      "[[10.2  8.4  5.4  3.9  2.  10. ]\n",
      " [ 8.2  6.7  4.3  3.2  1.6  8. ]\n",
      " [11.2  9.3  5.9  4.3  2.2 11. ]\n",
      " [ 7.2  5.9  3.8  2.8  1.4  7. ]\n",
      " [ 6.1  5.1  3.2  2.4  1.2  6. ]\n",
      " [ 8.2  6.7  4.3  3.2  1.6  8. ]\n",
      " [ 5.9  4.8  3.1  2.3  1.1  5.8]]\n"
     ]
    }
   ],
   "source": [
    "chi, p, dof, expected = stats.chi2_contingency(df)\n",
    "\n",
    "print(\"카이제곱 검정 - 동일성 검정\")\n",
    "print(\"chisq: {}\\t p-value: {}\".format(chi.round(3), p.round(3)))\n",
    "print(\"df: {}\".format(dof))\n",
    "print(\"기대치: \\n{}\".format(expected.round(1)))"
   ]
  },
  {
   "cell_type": "markdown",
   "metadata": {},
   "source": [
    "#### 해석\n",
    "위 가설하에서, 동일성 검정 결과, $\\chi^2$ 검정통계량 = 95.759이며 p-value는 약 0이 나왔다.<br>\n",
    "따라서, 유의수준 5%에서 귀무가설을 기각하며 각 제품에 대한 이미지 차이가 있다고 할 수 있다."
   ]
  },
  {
   "cell_type": "code",
   "execution_count": null,
   "metadata": {},
   "outputs": [],
   "source": []
  },
  {
   "cell_type": "markdown",
   "metadata": {},
   "source": [
    "## ② ANOVA(정규성, 등분산성 검정 해야함)\n",
    "- $H_0$: 그룹별 영어성적의 차이가 없다.\n",
    "- $H_1$: 적어도 하나는 다르다."
   ]
  },
  {
   "cell_type": "code",
   "execution_count": 63,
   "metadata": {},
   "outputs": [
    {
     "data": {
      "text/html": [
       "<div>\n",
       "<style scoped>\n",
       "    .dataframe tbody tr th:only-of-type {\n",
       "        vertical-align: middle;\n",
       "    }\n",
       "\n",
       "    .dataframe tbody tr th {\n",
       "        vertical-align: top;\n",
       "    }\n",
       "\n",
       "    .dataframe thead th {\n",
       "        text-align: right;\n",
       "    }\n",
       "</style>\n",
       "<table border=\"1\" class=\"dataframe\">\n",
       "  <thead>\n",
       "    <tr style=\"text-align: right;\">\n",
       "      <th></th>\n",
       "      <th>A_G</th>\n",
       "      <th>B_G</th>\n",
       "      <th>C_G</th>\n",
       "    </tr>\n",
       "  </thead>\n",
       "  <tbody>\n",
       "    <tr>\n",
       "      <th>0</th>\n",
       "      <td>892</td>\n",
       "      <td>721</td>\n",
       "      <td>621</td>\n",
       "    </tr>\n",
       "    <tr>\n",
       "      <th>1</th>\n",
       "      <td>623</td>\n",
       "      <td>821</td>\n",
       "      <td>915</td>\n",
       "    </tr>\n",
       "    <tr>\n",
       "      <th>2</th>\n",
       "      <td>721</td>\n",
       "      <td>910</td>\n",
       "      <td>888</td>\n",
       "    </tr>\n",
       "    <tr>\n",
       "      <th>3</th>\n",
       "      <td>678</td>\n",
       "      <td>678</td>\n",
       "      <td>721</td>\n",
       "    </tr>\n",
       "    <tr>\n",
       "      <th>4</th>\n",
       "      <td>723</td>\n",
       "      <td>723</td>\n",
       "      <td>894</td>\n",
       "    </tr>\n",
       "    <tr>\n",
       "      <th>5</th>\n",
       "      <td>790</td>\n",
       "      <td>790</td>\n",
       "      <td>834</td>\n",
       "    </tr>\n",
       "    <tr>\n",
       "      <th>6</th>\n",
       "      <td>720</td>\n",
       "      <td>711</td>\n",
       "      <td>841</td>\n",
       "    </tr>\n",
       "    <tr>\n",
       "      <th>7</th>\n",
       "      <td>670</td>\n",
       "      <td>790</td>\n",
       "      <td>912</td>\n",
       "    </tr>\n",
       "    <tr>\n",
       "      <th>8</th>\n",
       "      <td>690</td>\n",
       "      <td>745</td>\n",
       "      <td>845</td>\n",
       "    </tr>\n",
       "    <tr>\n",
       "      <th>9</th>\n",
       "      <td>771</td>\n",
       "      <td>891</td>\n",
       "      <td>889</td>\n",
       "    </tr>\n",
       "  </tbody>\n",
       "</table>\n",
       "</div>"
      ],
      "text/plain": [
       "   A_G  B_G  C_G\n",
       "0  892  721  621\n",
       "1  623  821  915\n",
       "2  721  910  888\n",
       "3  678  678  721\n",
       "4  723  723  894\n",
       "5  790  790  834\n",
       "6  720  711  841\n",
       "7  670  790  912\n",
       "8  690  745  845\n",
       "9  771  891  889"
      ]
     },
     "execution_count": 63,
     "metadata": {},
     "output_type": "execute_result"
    }
   ],
   "source": [
    "df = pd.read_csv(\"bigdata_csv/ANOVA1.csv\")\n",
    "df"
   ]
  },
  {
   "cell_type": "markdown",
   "metadata": {},
   "source": [
    "##### boxplot"
   ]
  },
  {
   "cell_type": "code",
   "execution_count": 67,
   "metadata": {},
   "outputs": [
    {
     "data": {
      "text/plain": [
       "<AxesSubplot:>"
      ]
     },
     "execution_count": 67,
     "metadata": {},
     "output_type": "execute_result"
    },
    {
     "data": {
      "image/png": "[encoded data removed]",
      "text/plain": [
       "<Figure size 432x288 with 1 Axes>"
      ]
     },
     "metadata": {
      "needs_background": "light"
     },
     "output_type": "display_data"
    }
   ],
   "source": [
    "df.boxplot()"
   ]
  },
  {
   "cell_type": "markdown",
   "metadata": {},
   "source": [
    "#### 해석\n",
    "- IQR이 작다 = 산포가 작다.\n",
    "- C > B > A 순으로 영어성적 좋음.\n",
    "- C그룹과 두 그룹의 차이가 큰 것을 보고 p-value가 작을 것이라 예측 가능."
   ]
  },
  {
   "cell_type": "markdown",
   "metadata": {},
   "source": [
    "##### ANOVA 분석"
   ]
  },
  {
   "cell_type": "code",
   "execution_count": 66,
   "metadata": {},
   "outputs": [
    {
     "data": {
      "text/plain": [
       "(4.263, 0.025)"
      ]
     },
     "execution_count": 66,
     "metadata": {},
     "output_type": "execute_result"
    }
   ],
   "source": [
    "f_result = stats.f_oneway(df['A_G'], df['B_G'], df['C_G'])\n",
    "\n",
    "f, p = f_result.statistic.round(3), f_result.pvalue.round(3)\n",
    "\n",
    "f, p"
   ]
  },
  {
   "cell_type": "markdown",
   "metadata": {},
   "source": [
    "#### 해석\n",
    "F-통계량 = 4.263으로 p-value = 0.025이다. 유의수준 5% 하에서 H0를 기각한다. 따라서 적어도 한 그룹과 차이가 있다고 할 수 있다."
   ]
  },
  {
   "cell_type": "code",
   "execution_count": null,
   "metadata": {},
   "outputs": [],
   "source": []
  },
  {
   "cell_type": "markdown",
   "metadata": {},
   "source": [
    "### v. 실습"
   ]
  },
  {
   "cell_type": "code",
   "execution_count": 16,
   "metadata": {
    "scrolled": true
   },
   "outputs": [
    {
     "data": {
      "text/html": [
       "<div>\n",
       "<style scoped>\n",
       "    .dataframe tbody tr th:only-of-type {\n",
       "        vertical-align: middle;\n",
       "    }\n",
       "\n",
       "    .dataframe tbody tr th {\n",
       "        vertical-align: top;\n",
       "    }\n",
       "\n",
       "    .dataframe thead th {\n",
       "        text-align: right;\n",
       "    }\n",
       "</style>\n",
       "<table border=\"1\" class=\"dataframe\">\n",
       "  <thead>\n",
       "    <tr style=\"text-align: right;\">\n",
       "      <th></th>\n",
       "      <th>time</th>\n",
       "      <th>charge</th>\n",
       "      <th>gangjong</th>\n",
       "      <th>type</th>\n",
       "    </tr>\n",
       "  </thead>\n",
       "  <tbody>\n",
       "    <tr>\n",
       "      <th>0</th>\n",
       "      <td>32.2</td>\n",
       "      <td>A</td>\n",
       "      <td>a</td>\n",
       "      <td>a</td>\n",
       "    </tr>\n",
       "    <tr>\n",
       "      <th>1</th>\n",
       "      <td>30.4</td>\n",
       "      <td>B</td>\n",
       "      <td>a</td>\n",
       "      <td>a</td>\n",
       "    </tr>\n",
       "    <tr>\n",
       "      <th>2</th>\n",
       "      <td>33.6</td>\n",
       "      <td>C</td>\n",
       "      <td>a</td>\n",
       "      <td>a</td>\n",
       "    </tr>\n",
       "    <tr>\n",
       "      <th>3</th>\n",
       "      <td>36.4</td>\n",
       "      <td>D</td>\n",
       "      <td>a</td>\n",
       "      <td>a</td>\n",
       "    </tr>\n",
       "    <tr>\n",
       "      <th>4</th>\n",
       "      <td>33.9</td>\n",
       "      <td>E</td>\n",
       "      <td>a</td>\n",
       "      <td>a</td>\n",
       "    </tr>\n",
       "    <tr>\n",
       "      <th>5</th>\n",
       "      <td>34.9</td>\n",
       "      <td>F</td>\n",
       "      <td>a</td>\n",
       "      <td>a</td>\n",
       "    </tr>\n",
       "    <tr>\n",
       "      <th>6</th>\n",
       "      <td>33.1</td>\n",
       "      <td>A</td>\n",
       "      <td>b</td>\n",
       "      <td>a</td>\n",
       "    </tr>\n",
       "    <tr>\n",
       "      <th>7</th>\n",
       "      <td>29.9</td>\n",
       "      <td>B</td>\n",
       "      <td>b</td>\n",
       "      <td>a</td>\n",
       "    </tr>\n",
       "    <tr>\n",
       "      <th>8</th>\n",
       "      <td>31.7</td>\n",
       "      <td>C</td>\n",
       "      <td>b</td>\n",
       "      <td>a</td>\n",
       "    </tr>\n",
       "    <tr>\n",
       "      <th>9</th>\n",
       "      <td>27.5</td>\n",
       "      <td>D</td>\n",
       "      <td>b</td>\n",
       "      <td>a</td>\n",
       "    </tr>\n",
       "    <tr>\n",
       "      <th>10</th>\n",
       "      <td>34.0</td>\n",
       "      <td>E</td>\n",
       "      <td>b</td>\n",
       "      <td>a</td>\n",
       "    </tr>\n",
       "    <tr>\n",
       "      <th>11</th>\n",
       "      <td>30.7</td>\n",
       "      <td>F</td>\n",
       "      <td>b</td>\n",
       "      <td>a</td>\n",
       "    </tr>\n",
       "    <tr>\n",
       "      <th>12</th>\n",
       "      <td>32.6</td>\n",
       "      <td>A</td>\n",
       "      <td>c</td>\n",
       "      <td>b</td>\n",
       "    </tr>\n",
       "    <tr>\n",
       "      <th>13</th>\n",
       "      <td>32.7</td>\n",
       "      <td>B</td>\n",
       "      <td>c</td>\n",
       "      <td>b</td>\n",
       "    </tr>\n",
       "    <tr>\n",
       "      <th>14</th>\n",
       "      <td>29.3</td>\n",
       "      <td>C</td>\n",
       "      <td>c</td>\n",
       "      <td>b</td>\n",
       "    </tr>\n",
       "    <tr>\n",
       "      <th>15</th>\n",
       "      <td>25.9</td>\n",
       "      <td>D</td>\n",
       "      <td>c</td>\n",
       "      <td>b</td>\n",
       "    </tr>\n",
       "    <tr>\n",
       "      <th>16</th>\n",
       "      <td>31.1</td>\n",
       "      <td>E</td>\n",
       "      <td>c</td>\n",
       "      <td>b</td>\n",
       "    </tr>\n",
       "    <tr>\n",
       "      <th>17</th>\n",
       "      <td>23.8</td>\n",
       "      <td>F</td>\n",
       "      <td>c</td>\n",
       "      <td>b</td>\n",
       "    </tr>\n",
       "    <tr>\n",
       "      <th>18</th>\n",
       "      <td>26.7</td>\n",
       "      <td>A</td>\n",
       "      <td>d</td>\n",
       "      <td>b</td>\n",
       "    </tr>\n",
       "    <tr>\n",
       "      <th>19</th>\n",
       "      <td>28.5</td>\n",
       "      <td>B</td>\n",
       "      <td>d</td>\n",
       "      <td>b</td>\n",
       "    </tr>\n",
       "    <tr>\n",
       "      <th>20</th>\n",
       "      <td>30.9</td>\n",
       "      <td>C</td>\n",
       "      <td>d</td>\n",
       "      <td>b</td>\n",
       "    </tr>\n",
       "    <tr>\n",
       "      <th>21</th>\n",
       "      <td>26.2</td>\n",
       "      <td>D</td>\n",
       "      <td>d</td>\n",
       "      <td>b</td>\n",
       "    </tr>\n",
       "    <tr>\n",
       "      <th>22</th>\n",
       "      <td>32.3</td>\n",
       "      <td>E</td>\n",
       "      <td>d</td>\n",
       "      <td>b</td>\n",
       "    </tr>\n",
       "    <tr>\n",
       "      <th>23</th>\n",
       "      <td>23.7</td>\n",
       "      <td>F</td>\n",
       "      <td>d</td>\n",
       "      <td>b</td>\n",
       "    </tr>\n",
       "  </tbody>\n",
       "</table>\n",
       "</div>"
      ],
      "text/plain": [
       "    time charge gangjong type\n",
       "0   32.2      A        a    a\n",
       "1   30.4      B        a    a\n",
       "2   33.6      C        a    a\n",
       "3   36.4      D        a    a\n",
       "4   33.9      E        a    a\n",
       "5   34.9      F        a    a\n",
       "6   33.1      A        b    a\n",
       "7   29.9      B        b    a\n",
       "8   31.7      C        b    a\n",
       "9   27.5      D        b    a\n",
       "10  34.0      E        b    a\n",
       "11  30.7      F        b    a\n",
       "12  32.6      A        c    b\n",
       "13  32.7      B        c    b\n",
       "14  29.3      C        c    b\n",
       "15  25.9      D        c    b\n",
       "16  31.1      E        c    b\n",
       "17  23.8      F        c    b\n",
       "18  26.7      A        d    b\n",
       "19  28.5      B        d    b\n",
       "20  30.9      C        d    b\n",
       "21  26.2      D        d    b\n",
       "22  32.3      E        d    b\n",
       "23  23.7      F        d    b"
      ]
     },
     "execution_count": 16,
     "metadata": {},
     "output_type": "execute_result"
    }
   ],
   "source": [
    "# 시간이 높아지면 청정도는 올라가지만, \n",
    "df = pd.read_csv(\"bigdata_csv/ANOVA.csv\")\n",
    "df"
   ]
  },
  {
   "cell_type": "code",
   "execution_count": 87,
   "metadata": {},
   "outputs": [
    {
     "name": "stdout",
     "output_type": "stream",
     "text": [
      "<class 'pandas.core.frame.DataFrame'>\n",
      "RangeIndex: 24 entries, 0 to 23\n",
      "Data columns (total 4 columns):\n",
      " #   Column    Non-Null Count  Dtype  \n",
      "---  ------    --------------  -----  \n",
      " 0   time      24 non-null     float64\n",
      " 1   charge    24 non-null     object \n",
      " 2   gangjong  24 non-null     object \n",
      " 3   type      24 non-null     object \n",
      "dtypes: float64(1), object(3)\n",
      "memory usage: 896.0+ bytes\n"
     ]
    }
   ],
   "source": [
    "df.info()"
   ]
  },
  {
   "cell_type": "markdown",
   "metadata": {},
   "source": [
    "##### boxplot"
   ]
  },
  {
   "cell_type": "code",
   "execution_count": 85,
   "metadata": {},
   "outputs": [
    {
     "data": {
      "text/plain": [
       "<AxesSubplot:title={'center':'time'}, xlabel='gangjong'>"
      ]
     },
     "execution_count": 85,
     "metadata": {},
     "output_type": "execute_result"
    },
    {
     "data": {
      "image/png": "[encoded data removed]",
      "text/plain": [
       "<Figure size 432x288 with 1 Axes>"
      ]
     },
     "metadata": {
      "needs_background": "light"
     },
     "output_type": "display_data"
    }
   ],
   "source": [
    "df.boxplot(\"time\", by = 'gangjong') # y = time, x = gangjong"
   ]
  },
  {
   "cell_type": "markdown",
   "metadata": {},
   "source": [
    "#### 해석\n",
    "- x: 범주형, y: 연속형\n",
    "- 강종 a의 IQR이 작은 것을 보아 산포가 작을 것임을 예상할 수 있으며 a, b, c, d 순으로 시간이 오래 걸린다.\n",
    "- 또한, 상자그림을 봤을 때, 각 그룹의 상자그림 차이가 있어 p-value가 유의수준보다 작을 것이라 예측 가능하다."
   ]
  },
  {
   "cell_type": "code",
   "execution_count": 86,
   "metadata": {},
   "outputs": [
    {
     "data": {
      "text/plain": [
       "<AxesSubplot:title={'center':'time'}, xlabel='type'>"
      ]
     },
     "execution_count": 86,
     "metadata": {},
     "output_type": "execute_result"
    },
    {
     "data": {
      "image/png": "[encoded data removed]",
      "text/plain": [
       "<Figure size 432x288 with 1 Axes>"
      ]
     },
     "metadata": {
      "needs_background": "light"
     },
     "output_type": "display_data"
    }
   ],
   "source": [
    "df.boxplot(\"time\", by = 'type') # y = time, x = type"
   ]
  },
  {
   "cell_type": "markdown",
   "metadata": {},
   "source": [
    "#### 해석\n",
    "- x: 범주형, y: 연속형\n",
    "- 강종 type의 a, b 순으로 시간이 오래 걸린다.\n",
    "- 또한, 상자그림을 봤을 때, 각 그룹의 상자그림 차이가 있어 p-value가 유의수준보다 작을 것이라 예측 가능하다."
   ]
  },
  {
   "cell_type": "markdown",
   "metadata": {},
   "source": [
    "##### 정규성 검정\n",
    "- $H_0$: 모집단이 정규성을 따른다.\n",
    "- $H_1$: 모집단이 정규성을 따르지 않는다."
   ]
  },
  {
   "cell_type": "code",
   "execution_count": 21,
   "metadata": {},
   "outputs": [
    {
     "name": "stdout",
     "output_type": "stream",
     "text": [
      "ShapiroResult(statistic=0.9879404902458191, pvalue=0.9835584163665771)\n",
      "ShapiroResult(statistic=0.9769707918167114, pvalue=0.9355478286743164)\n",
      "ShapiroResult(statistic=0.8929418921470642, pvalue=0.33389002084732056)\n",
      "ShapiroResult(statistic=0.9713903665542603, pvalue=0.9016408920288086)\n"
     ]
    }
   ],
   "source": [
    "print(shapiro(df[df['gangjong'] == 'a']['time']))\n",
    "print(shapiro(df[df['gangjong'] == 'b']['time']))\n",
    "print(shapiro(df[df['gangjong'] == 'c']['time']))\n",
    "print(shapiro(df[df['gangjong'] == 'd']['time']))"
   ]
  },
  {
   "cell_type": "code",
   "execution_count": 22,
   "metadata": {},
   "outputs": [
    {
     "name": "stdout",
     "output_type": "stream",
     "text": [
      "ShapiroResult(statistic=0.9821397662162781, pvalue=0.9907692670822144)\n",
      "ShapiroResult(statistic=0.9098272919654846, pvalue=0.21226269006729126)\n"
     ]
    }
   ],
   "source": [
    "print(shapiro(df[df['type'] == 'a']['time']))\n",
    "print(shapiro(df[df['type'] == 'b']['time']))"
   ]
  },
  {
   "cell_type": "markdown",
   "metadata": {},
   "source": [
    "#### 해석\n",
    "위 가설하에서, 각각에 대한 정규성 검사 결과, 모든 데이터가 유의수준 5% 하에서 귀무가설을 기각하지 않는다.<br>\n",
    "따라서 정규성을 따른다고 할 수 있다."
   ]
  },
  {
   "cell_type": "markdown",
   "metadata": {},
   "source": [
    "##### ANOVA\n",
    "- H0: 강종별 2차 정련 시간에 차이가 없다. <br>\n",
    "- H1: 적어도 하나 강종은 2차 정련 시간에 차이가 있다. <br> \n",
    "(원인-결과: 시간에는 강종의 영향이 있다.)"
   ]
  },
  {
   "cell_type": "code",
   "execution_count": 88,
   "metadata": {},
   "outputs": [
    {
     "name": "stdout",
     "output_type": "stream",
     "text": [
      "               df      sum_sq    mean_sq         F    PR(>F)\n",
      "C(gangjong)   3.0  104.603333  34.867778  4.171868  0.019013\n",
      "Residual     20.0  167.156667   8.357833       NaN       NaN\n"
     ]
    }
   ],
   "source": [
    "# 범주형 gangjong = Char = C(gangjong)\n",
    "lm = ols('time ~ C(gangjong)', df).fit()  # ordinary least squares\n",
    "print(anova_lm(lm))"
   ]
  },
  {
   "cell_type": "code",
   "execution_count": 83,
   "metadata": {},
   "outputs": [
    {
     "data": {
      "text/plain": [
       "(4.172, 0.019)"
      ]
     },
     "execution_count": 83,
     "metadata": {},
     "output_type": "execute_result"
    }
   ],
   "source": [
    "f_result = stats.f_oneway(df[df['gangjong'] == 'a']['time'], df[df['gangjong'] == 'b']['time'], \n",
    "                          df[df['gangjong'] == 'c']['time'], df[df['gangjong'] == 'd']['time'])\n",
    "\n",
    "f, p = f_result.statistic.round(3), f_result.pvalue.round(3)\n",
    "\n",
    "f, p"
   ]
  },
  {
   "cell_type": "markdown",
   "metadata": {},
   "source": [
    "#### 해석\n",
    "위 가설하에서, 분산분석 결과, F통계량 = 4.17, p-value = 0.02이다.<br>\n",
    "즉, 유의수준 5%에서 귀무가설을 기각하며 적어도 하나는 강종별 2차 정련 시간에 차이가 있다고 할 수 있다.<br>\n",
    "다시 말해 정련 시간에 강종의 영향이 있다고 볼 수 있다."
   ]
  },
  {
   "cell_type": "markdown",
   "metadata": {},
   "source": [
    "##### ANOVA\n",
    "- H0: type별 2차 정련 시간에 차이가 없다. <br>\n",
    "- H1: 적어도 하나 type은 2차 정련 시간에 차이가 있다. <br> \n",
    "(원인-결과: 시간에는 type의 영향이 있다.)"
   ]
  },
  {
   "cell_type": "code",
   "execution_count": 89,
   "metadata": {},
   "outputs": [
    {
     "name": "stdout",
     "output_type": "stream",
     "text": [
      "            df      sum_sq    mean_sq         F   PR(>F)\n",
      "C(type)    1.0   82.881667  82.881667  9.653816  0.00514\n",
      "Residual  22.0  188.878333   8.585379       NaN      NaN\n"
     ]
    }
   ],
   "source": [
    "lm2 = ols('time ~ C(type)', df).fit()  # ordinary list square\n",
    "print(anova_lm(lm2))"
   ]
  },
  {
   "cell_type": "code",
   "execution_count": 84,
   "metadata": {},
   "outputs": [
    {
     "data": {
      "text/plain": [
       "(9.654, 0.005)"
      ]
     },
     "execution_count": 84,
     "metadata": {},
     "output_type": "execute_result"
    }
   ],
   "source": [
    "f_result = stats.f_oneway(df[df['type'] == 'a']['time'], df[df['type'] == 'b']['time'])\n",
    "\n",
    "f, p = f_result.statistic.round(3), f_result.pvalue.round(3)\n",
    "f, p"
   ]
  },
  {
   "cell_type": "markdown",
   "metadata": {},
   "source": [
    "#### 해석\n",
    "위 가설하에서, 분산분석 결과, F통계량 = 9.654, p-value = 0.005이다.<br>\n",
    "즉, 유의수준 5%에서 귀무가설을 기각하며 적어도 하나는 type별 2차 정련 시간에 차이가 있다고 할 수 있다.<br>\n",
    "다시 말해 정련 시간에 type의 영향이 있다고 볼 수 있다."
   ]
  },
  {
   "cell_type": "markdown",
   "metadata": {},
   "source": [
    "# [상관분석]"
   ]
  },
  {
   "cell_type": "code",
   "execution_count": 94,
   "metadata": {
    "scrolled": false
   },
   "outputs": [
    {
     "data": {
      "text/html": [
       "<div>\n",
       "<style scoped>\n",
       "    .dataframe tbody tr th:only-of-type {\n",
       "        vertical-align: middle;\n",
       "    }\n",
       "\n",
       "    .dataframe tbody tr th {\n",
       "        vertical-align: top;\n",
       "    }\n",
       "\n",
       "    .dataframe thead th {\n",
       "        text-align: right;\n",
       "    }\n",
       "</style>\n",
       "<table border=\"1\" class=\"dataframe\">\n",
       "  <thead>\n",
       "    <tr style=\"text-align: right;\">\n",
       "      <th></th>\n",
       "      <th>UNITS</th>\n",
       "      <th>MINUTES</th>\n",
       "    </tr>\n",
       "  </thead>\n",
       "  <tbody>\n",
       "    <tr>\n",
       "      <th>0</th>\n",
       "      <td>1</td>\n",
       "      <td>23</td>\n",
       "    </tr>\n",
       "    <tr>\n",
       "      <th>1</th>\n",
       "      <td>2</td>\n",
       "      <td>29</td>\n",
       "    </tr>\n",
       "    <tr>\n",
       "      <th>2</th>\n",
       "      <td>3</td>\n",
       "      <td>49</td>\n",
       "    </tr>\n",
       "    <tr>\n",
       "      <th>3</th>\n",
       "      <td>4</td>\n",
       "      <td>64</td>\n",
       "    </tr>\n",
       "    <tr>\n",
       "      <th>4</th>\n",
       "      <td>4</td>\n",
       "      <td>74</td>\n",
       "    </tr>\n",
       "    <tr>\n",
       "      <th>5</th>\n",
       "      <td>5</td>\n",
       "      <td>87</td>\n",
       "    </tr>\n",
       "    <tr>\n",
       "      <th>6</th>\n",
       "      <td>6</td>\n",
       "      <td>96</td>\n",
       "    </tr>\n",
       "    <tr>\n",
       "      <th>7</th>\n",
       "      <td>6</td>\n",
       "      <td>97</td>\n",
       "    </tr>\n",
       "    <tr>\n",
       "      <th>8</th>\n",
       "      <td>7</td>\n",
       "      <td>109</td>\n",
       "    </tr>\n",
       "    <tr>\n",
       "      <th>9</th>\n",
       "      <td>8</td>\n",
       "      <td>119</td>\n",
       "    </tr>\n",
       "  </tbody>\n",
       "</table>\n",
       "</div>"
      ],
      "text/plain": [
       "   UNITS  MINUTES\n",
       "0      1       23\n",
       "1      2       29\n",
       "2      3       49\n",
       "3      4       64\n",
       "4      4       74\n",
       "5      5       87\n",
       "6      6       96\n",
       "7      6       97\n",
       "8      7      109\n",
       "9      8      119"
      ]
     },
     "execution_count": 94,
     "metadata": {},
     "output_type": "execute_result"
    }
   ],
   "source": [
    "df = pd.read_csv(\"bigdata_csv/작업시간.csv\")\n",
    "df"
   ]
  },
  {
   "cell_type": "code",
   "execution_count": 91,
   "metadata": {},
   "outputs": [
    {
     "data": {
      "text/plain": [
       "<AxesSubplot:xlabel='UNITS', ylabel='MINUTES'>"
      ]
     },
     "execution_count": 91,
     "metadata": {},
     "output_type": "execute_result"
    },
    {
     "data": {
      "image/png": "[encoded data removed]",
      "text/plain": [
       "<Figure size 432x288 with 1 Axes>"
      ]
     },
     "metadata": {
      "needs_background": "light"
     },
     "output_type": "display_data"
    }
   ],
   "source": [
    "# 부품 수가 증가하니까 작업 시간이 늘어나는 선형관계 확인 가능\n",
    "df.plot.scatter(x = 'UNITS', y = 'MINUTES')"
   ]
  },
  {
   "cell_type": "code",
   "execution_count": 98,
   "metadata": {},
   "outputs": [
    {
     "data": {
      "text/plain": [
       "(0.9892262536728126, 5.818608669347627e-08)"
      ]
     },
     "execution_count": 98,
     "metadata": {},
     "output_type": "execute_result"
    }
   ],
   "source": [
    "corr, p = stats.pearsonr(df['UNITS'],df['MINUTES'])\n",
    "\n",
    "corr, p"
   ]
  },
  {
   "cell_type": "code",
   "execution_count": 99,
   "metadata": {},
   "outputs": [
    {
     "data": {
      "text/html": [
       "<div>\n",
       "<style scoped>\n",
       "    .dataframe tbody tr th:only-of-type {\n",
       "        vertical-align: middle;\n",
       "    }\n",
       "\n",
       "    .dataframe tbody tr th {\n",
       "        vertical-align: top;\n",
       "    }\n",
       "\n",
       "    .dataframe thead th {\n",
       "        text-align: right;\n",
       "    }\n",
       "</style>\n",
       "<table border=\"1\" class=\"dataframe\">\n",
       "  <thead>\n",
       "    <tr style=\"text-align: right;\">\n",
       "      <th></th>\n",
       "      <th>UNITS</th>\n",
       "      <th>MINUTES</th>\n",
       "    </tr>\n",
       "  </thead>\n",
       "  <tbody>\n",
       "    <tr>\n",
       "      <th>UNITS</th>\n",
       "      <td>1.000</td>\n",
       "      <td>0.989</td>\n",
       "    </tr>\n",
       "    <tr>\n",
       "      <th>MINUTES</th>\n",
       "      <td>0.989</td>\n",
       "      <td>1.000</td>\n",
       "    </tr>\n",
       "  </tbody>\n",
       "</table>\n",
       "</div>"
      ],
      "text/plain": [
       "         UNITS  MINUTES\n",
       "UNITS    1.000    0.989\n",
       "MINUTES  0.989    1.000"
      ]
     },
     "execution_count": 99,
     "metadata": {},
     "output_type": "execute_result"
    }
   ],
   "source": [
    "df.corr(method = 'pearson').round(3)"
   ]
  },
  {
   "cell_type": "markdown",
   "metadata": {},
   "source": [
    "#### 해석\n",
    "(모수에 대한 가설)\n",
    "- $H_0$: p =0 (상관성이 없다.)\n",
    "- $H_1$: p /=0 (상관성이 있다.)\n",
    "\n",
    "p-value는 유의수준 5%하에서 귀무가설을 기각한다. 따라서, 상관계수 = 0.99로 양의 상관성이 매우 강하고 할 수 있다.<br>\n",
    "부품수리시간과 부품수 간에 매우 강한 양의 상관성이 있다고 할 수 있다."
   ]
  },
  {
   "cell_type": "markdown",
   "metadata": {},
   "source": [
    "### vi. 실습"
   ]
  },
  {
   "cell_type": "code",
   "execution_count": 24,
   "metadata": {},
   "outputs": [
    {
     "data": {
      "text/plain": [
       "<AxesSubplot:xlabel='strength', ylabel='temp'>"
      ]
     },
     "execution_count": 24,
     "metadata": {},
     "output_type": "execute_result"
    },
    {
     "data": {
      "image/png": "[encoded data removed]",
      "text/plain": [
       "<Figure size 432x288 with 1 Axes>"
      ]
     },
     "metadata": {
      "needs_background": "light"
     },
     "output_type": "display_data"
    }
   ],
   "source": [
    "df = pd.DataFrame({\"strength\":[37.6,38.6,37.2,36.4,38.6,39,37.2,36.1,35.9,37.1,36.9,37.5,36.3,38.1,39,36.9,36.8,37.6,33,33.5],\n",
    "                  \"temp\":[14,15,14,16,17,14,17,16,15,16,14,16,18,13,15,17,14,16,20,21]})\n",
    "\n",
    "# 초코칩의 강도가 올라갈수록 재료 반죽온도가 줄어드는 상관관계 확인 가능.\n",
    "df.plot.scatter(x = 'strength', y = 'temp')"
   ]
  },
  {
   "cell_type": "code",
   "execution_count": 101,
   "metadata": {},
   "outputs": [
    {
     "data": {
      "text/plain": [
       "(-0.723107314935157, 0.0003152005510027819)"
      ]
     },
     "execution_count": 101,
     "metadata": {},
     "output_type": "execute_result"
    }
   ],
   "source": [
    "corr, p = stats.pearsonr(df['strength'],df['temp'])\n",
    "\n",
    "corr, p"
   ]
  },
  {
   "cell_type": "markdown",
   "metadata": {},
   "source": [
    "#### 해석\n",
    "(모수에 대한 가설)\n",
    "- $H_0$: p =0 (상관성이 없다.)\n",
    "- $H_1$: p /=0 (상관성이 있다.)\n",
    "\n",
    "상관분석 결과, p-value=0.0003으로 유의수준 5%하에서 귀무가설을 기각한다. 따라서, 상관계수 = -0.723로 음의 상관성이 매우 강하고 할 수 있다.<br>\n",
    "초코칩의 강도와 재료 반죽온도 간에 매우 강한 음의 상관성이 있다고 할 수 있다."
   ]
  },
  {
   "cell_type": "code",
   "execution_count": null,
   "metadata": {},
   "outputs": [],
   "source": []
  },
  {
   "cell_type": "markdown",
   "metadata": {},
   "source": [
    "# [회귀분석]"
   ]
  },
  {
   "cell_type": "code",
   "execution_count": 25,
   "metadata": {},
   "outputs": [],
   "source": [
    "import statsmodels.formula.api as smf\n",
    "from statsmodels.api import qqplot, add_constant # 정규성 검정 plot, 상수항 추가"
   ]
  },
  {
   "cell_type": "code",
   "execution_count": 109,
   "metadata": {
    "scrolled": true
   },
   "outputs": [
    {
     "data": {
      "text/html": [
       "<div>\n",
       "<style scoped>\n",
       "    .dataframe tbody tr th:only-of-type {\n",
       "        vertical-align: middle;\n",
       "    }\n",
       "\n",
       "    .dataframe tbody tr th {\n",
       "        vertical-align: top;\n",
       "    }\n",
       "\n",
       "    .dataframe thead th {\n",
       "        text-align: right;\n",
       "    }\n",
       "</style>\n",
       "<table border=\"1\" class=\"dataframe\">\n",
       "  <thead>\n",
       "    <tr style=\"text-align: right;\">\n",
       "      <th></th>\n",
       "      <th>UNITS</th>\n",
       "      <th>MINUTES</th>\n",
       "    </tr>\n",
       "  </thead>\n",
       "  <tbody>\n",
       "    <tr>\n",
       "      <th>0</th>\n",
       "      <td>1</td>\n",
       "      <td>23</td>\n",
       "    </tr>\n",
       "    <tr>\n",
       "      <th>1</th>\n",
       "      <td>2</td>\n",
       "      <td>29</td>\n",
       "    </tr>\n",
       "    <tr>\n",
       "      <th>2</th>\n",
       "      <td>3</td>\n",
       "      <td>49</td>\n",
       "    </tr>\n",
       "    <tr>\n",
       "      <th>3</th>\n",
       "      <td>4</td>\n",
       "      <td>64</td>\n",
       "    </tr>\n",
       "    <tr>\n",
       "      <th>4</th>\n",
       "      <td>4</td>\n",
       "      <td>74</td>\n",
       "    </tr>\n",
       "    <tr>\n",
       "      <th>5</th>\n",
       "      <td>5</td>\n",
       "      <td>87</td>\n",
       "    </tr>\n",
       "    <tr>\n",
       "      <th>6</th>\n",
       "      <td>6</td>\n",
       "      <td>96</td>\n",
       "    </tr>\n",
       "    <tr>\n",
       "      <th>7</th>\n",
       "      <td>6</td>\n",
       "      <td>97</td>\n",
       "    </tr>\n",
       "    <tr>\n",
       "      <th>8</th>\n",
       "      <td>7</td>\n",
       "      <td>109</td>\n",
       "    </tr>\n",
       "    <tr>\n",
       "      <th>9</th>\n",
       "      <td>8</td>\n",
       "      <td>119</td>\n",
       "    </tr>\n",
       "    <tr>\n",
       "      <th>10</th>\n",
       "      <td>9</td>\n",
       "      <td>149</td>\n",
       "    </tr>\n",
       "    <tr>\n",
       "      <th>11</th>\n",
       "      <td>9</td>\n",
       "      <td>145</td>\n",
       "    </tr>\n",
       "    <tr>\n",
       "      <th>12</th>\n",
       "      <td>10</td>\n",
       "      <td>154</td>\n",
       "    </tr>\n",
       "    <tr>\n",
       "      <th>13</th>\n",
       "      <td>10</td>\n",
       "      <td>166</td>\n",
       "    </tr>\n",
       "  </tbody>\n",
       "</table>\n",
       "</div>"
      ],
      "text/plain": [
       "    UNITS  MINUTES\n",
       "0       1       23\n",
       "1       2       29\n",
       "2       3       49\n",
       "3       4       64\n",
       "4       4       74\n",
       "5       5       87\n",
       "6       6       96\n",
       "7       6       97\n",
       "8       7      109\n",
       "9       8      119\n",
       "10      9      149\n",
       "11      9      145\n",
       "12     10      154\n",
       "13     10      166"
      ]
     },
     "execution_count": 109,
     "metadata": {},
     "output_type": "execute_result"
    }
   ],
   "source": [
    "# 부품 수와 시간의 관계/시간 예측\n",
    "df = pd.read_csv(\"bigdata_csv/부품수리시간.csv\")\n",
    "df"
   ]
  },
  {
   "cell_type": "code",
   "execution_count": 110,
   "metadata": {},
   "outputs": [
    {
     "data": {
      "text/html": [
       "<div>\n",
       "<style scoped>\n",
       "    .dataframe tbody tr th:only-of-type {\n",
       "        vertical-align: middle;\n",
       "    }\n",
       "\n",
       "    .dataframe tbody tr th {\n",
       "        vertical-align: top;\n",
       "    }\n",
       "\n",
       "    .dataframe thead th {\n",
       "        text-align: right;\n",
       "    }\n",
       "</style>\n",
       "<table border=\"1\" class=\"dataframe\">\n",
       "  <thead>\n",
       "    <tr style=\"text-align: right;\">\n",
       "      <th></th>\n",
       "      <th>UNITS</th>\n",
       "      <th>MINUTES</th>\n",
       "    </tr>\n",
       "  </thead>\n",
       "  <tbody>\n",
       "    <tr>\n",
       "      <th>count</th>\n",
       "      <td>14.000000</td>\n",
       "      <td>14.000000</td>\n",
       "    </tr>\n",
       "    <tr>\n",
       "      <th>mean</th>\n",
       "      <td>6.000000</td>\n",
       "      <td>97.214286</td>\n",
       "    </tr>\n",
       "    <tr>\n",
       "      <th>std</th>\n",
       "      <td>2.961289</td>\n",
       "      <td>46.217177</td>\n",
       "    </tr>\n",
       "    <tr>\n",
       "      <th>min</th>\n",
       "      <td>1.000000</td>\n",
       "      <td>23.000000</td>\n",
       "    </tr>\n",
       "    <tr>\n",
       "      <th>25%</th>\n",
       "      <td>4.000000</td>\n",
       "      <td>66.500000</td>\n",
       "    </tr>\n",
       "    <tr>\n",
       "      <th>50%</th>\n",
       "      <td>6.000000</td>\n",
       "      <td>96.500000</td>\n",
       "    </tr>\n",
       "    <tr>\n",
       "      <th>75%</th>\n",
       "      <td>8.750000</td>\n",
       "      <td>138.500000</td>\n",
       "    </tr>\n",
       "    <tr>\n",
       "      <th>max</th>\n",
       "      <td>10.000000</td>\n",
       "      <td>166.000000</td>\n",
       "    </tr>\n",
       "  </tbody>\n",
       "</table>\n",
       "</div>"
      ],
      "text/plain": [
       "           UNITS     MINUTES\n",
       "count  14.000000   14.000000\n",
       "mean    6.000000   97.214286\n",
       "std     2.961289   46.217177\n",
       "min     1.000000   23.000000\n",
       "25%     4.000000   66.500000\n",
       "50%     6.000000   96.500000\n",
       "75%     8.750000  138.500000\n",
       "max    10.000000  166.000000"
      ]
     },
     "execution_count": 110,
     "metadata": {},
     "output_type": "execute_result"
    }
   ],
   "source": [
    "# 기초통계량: data = 14, 평균 = 6, 중앙값 = 6으로 일치 -> 정규분포 할 것이라 예측 가능\n",
    "df.describe()"
   ]
  },
  {
   "cell_type": "code",
   "execution_count": 111,
   "metadata": {},
   "outputs": [
    {
     "data": {
      "text/plain": [
       "<AxesSubplot:xlabel='UNITS', ylabel='MINUTES'>"
      ]
     },
     "execution_count": 111,
     "metadata": {},
     "output_type": "execute_result"
    },
    {
     "data": {
      "image/png": "[encoded data removed]",
      "text/plain": [
       "<Figure size 432x288 with 1 Axes>"
      ]
     },
     "metadata": {
      "needs_background": "light"
     },
     "output_type": "display_data"
    }
   ],
   "source": [
    "df.plot.scatter(x = 'UNITS', y = 'MINUTES')"
   ]
  },
  {
   "cell_type": "code",
   "execution_count": 112,
   "metadata": {},
   "outputs": [
    {
     "data": {
      "text/html": [
       "<div>\n",
       "<style scoped>\n",
       "    .dataframe tbody tr th:only-of-type {\n",
       "        vertical-align: middle;\n",
       "    }\n",
       "\n",
       "    .dataframe tbody tr th {\n",
       "        vertical-align: top;\n",
       "    }\n",
       "\n",
       "    .dataframe thead th {\n",
       "        text-align: right;\n",
       "    }\n",
       "</style>\n",
       "<table border=\"1\" class=\"dataframe\">\n",
       "  <thead>\n",
       "    <tr style=\"text-align: right;\">\n",
       "      <th></th>\n",
       "      <th>UNITS</th>\n",
       "      <th>MINUTES</th>\n",
       "    </tr>\n",
       "  </thead>\n",
       "  <tbody>\n",
       "    <tr>\n",
       "      <th>UNITS</th>\n",
       "      <td>1.000</td>\n",
       "      <td>0.994</td>\n",
       "    </tr>\n",
       "    <tr>\n",
       "      <th>MINUTES</th>\n",
       "      <td>0.994</td>\n",
       "      <td>1.000</td>\n",
       "    </tr>\n",
       "  </tbody>\n",
       "</table>\n",
       "</div>"
      ],
      "text/plain": [
       "         UNITS  MINUTES\n",
       "UNITS    1.000    0.994\n",
       "MINUTES  0.994    1.000"
      ]
     },
     "execution_count": 112,
     "metadata": {},
     "output_type": "execute_result"
    }
   ],
   "source": [
    "# 상관관계: 상관계수 0.994로 두 변수 간 매우 높은 선형관계가 있음\n",
    "df.corr(method = 'pearson').round(3)"
   ]
  },
  {
   "cell_type": "code",
   "execution_count": 113,
   "metadata": {
    "scrolled": true
   },
   "outputs": [
    {
     "name": "stderr",
     "output_type": "stream",
     "text": [
      "/home/piai/anaconda3/lib/python3.8/site-packages/scipy/stats/stats.py:1603: UserWarning: kurtosistest only valid for n>=20 ... continuing anyway, n=14\n",
      "  warnings.warn(\"kurtosistest only valid for n>=20 ... continuing \"\n"
     ]
    },
    {
     "data": {
      "text/html": [
       "<table class=\"simpletable\">\n",
       "<caption>OLS Regression Results</caption>\n",
       "<tr>\n",
       "  <th>Dep. Variable:</th>         <td>MINUTES</td>     <th>  R-squared:         </th> <td>   0.987</td>\n",
       "</tr>\n",
       "<tr>\n",
       "  <th>Model:</th>                   <td>OLS</td>       <th>  Adj. R-squared:    </th> <td>   0.986</td>\n",
       "</tr>\n",
       "<tr>\n",
       "  <th>Method:</th>             <td>Least Squares</td>  <th>  F-statistic:       </th> <td>   943.2</td>\n",
       "</tr>\n",
       "<tr>\n",
       "  <th>Date:</th>             <td>Wed, 12 May 2021</td> <th>  Prob (F-statistic):</th> <td>8.92e-13</td>\n",
       "</tr>\n",
       "<tr>\n",
       "  <th>Time:</th>                 <td>16:36:17</td>     <th>  Log-Likelihood:    </th> <td> -42.374</td>\n",
       "</tr>\n",
       "<tr>\n",
       "  <th>No. Observations:</th>      <td>    14</td>      <th>  AIC:               </th> <td>   88.75</td>\n",
       "</tr>\n",
       "<tr>\n",
       "  <th>Df Residuals:</th>          <td>    12</td>      <th>  BIC:               </th> <td>   90.03</td>\n",
       "</tr>\n",
       "<tr>\n",
       "  <th>Df Model:</th>              <td>     1</td>      <th>                     </th>     <td> </td>   \n",
       "</tr>\n",
       "<tr>\n",
       "  <th>Covariance Type:</th>      <td>nonrobust</td>    <th>                     </th>     <td> </td>   \n",
       "</tr>\n",
       "</table>\n",
       "<table class=\"simpletable\">\n",
       "<tr>\n",
       "      <td></td>         <th>coef</th>     <th>std err</th>      <th>t</th>      <th>P>|t|</th>  <th>[0.025</th>    <th>0.975]</th>  \n",
       "</tr>\n",
       "<tr>\n",
       "  <th>Intercept</th> <td>    4.1617</td> <td>    3.355</td> <td>    1.240</td> <td> 0.239</td> <td>   -3.148</td> <td>   11.472</td>\n",
       "</tr>\n",
       "<tr>\n",
       "  <th>UNITS</th>     <td>   15.5088</td> <td>    0.505</td> <td>   30.712</td> <td> 0.000</td> <td>   14.409</td> <td>   16.609</td>\n",
       "</tr>\n",
       "</table>\n",
       "<table class=\"simpletable\">\n",
       "<tr>\n",
       "  <th>Omnibus:</th>       <td> 0.746</td> <th>  Durbin-Watson:     </th> <td>   2.051</td>\n",
       "</tr>\n",
       "<tr>\n",
       "  <th>Prob(Omnibus):</th> <td> 0.689</td> <th>  Jarque-Bera (JB):  </th> <td>   0.624</td>\n",
       "</tr>\n",
       "<tr>\n",
       "  <th>Skew:</th>          <td>-0.069</td> <th>  Prob(JB):          </th> <td>   0.732</td>\n",
       "</tr>\n",
       "<tr>\n",
       "  <th>Kurtosis:</th>      <td> 1.975</td> <th>  Cond. No.          </th> <td>    15.8</td>\n",
       "</tr>\n",
       "</table><br/><br/>Notes:<br/>[1] Standard Errors assume that the covariance matrix of the errors is correctly specified."
      ],
      "text/plain": [
       "<class 'statsmodels.iolib.summary.Summary'>\n",
       "\"\"\"\n",
       "                            OLS Regression Results                            \n",
       "==============================================================================\n",
       "Dep. Variable:                MINUTES   R-squared:                       0.987\n",
       "Model:                            OLS   Adj. R-squared:                  0.986\n",
       "Method:                 Least Squares   F-statistic:                     943.2\n",
       "Date:                Wed, 12 May 2021   Prob (F-statistic):           8.92e-13\n",
       "Time:                        16:36:17   Log-Likelihood:                -42.374\n",
       "No. Observations:                  14   AIC:                             88.75\n",
       "Df Residuals:                      12   BIC:                             90.03\n",
       "Df Model:                           1                                         \n",
       "Covariance Type:            nonrobust                                         \n",
       "==============================================================================\n",
       "                 coef    std err          t      P>|t|      [0.025      0.975]\n",
       "------------------------------------------------------------------------------\n",
       "Intercept      4.1617      3.355      1.240      0.239      -3.148      11.472\n",
       "UNITS         15.5088      0.505     30.712      0.000      14.409      16.609\n",
       "==============================================================================\n",
       "Omnibus:                        0.746   Durbin-Watson:                   2.051\n",
       "Prob(Omnibus):                  0.689   Jarque-Bera (JB):                0.624\n",
       "Skew:                          -0.069   Prob(JB):                        0.732\n",
       "Kurtosis:                       1.975   Cond. No.                         15.8\n",
       "==============================================================================\n",
       "\n",
       "Notes:\n",
       "[1] Standard Errors assume that the covariance matrix of the errors is correctly specified.\n",
       "\"\"\""
      ]
     },
     "execution_count": 113,
     "metadata": {},
     "output_type": "execute_result"
    }
   ],
   "source": [
    "# 회귀분석: y ~ x1 (+ x2 + ...) 이용 - 상수항 자동추가\n",
    "reg_model = smf.ols(formula = 'MINUTES ~ UNITS', data = df)\n",
    "reg_res = reg_model.fit()\n",
    "\n",
    "reg_res.summary()"
   ]
  },
  {
   "cell_type": "markdown",
   "metadata": {},
   "source": [
    "#### 해석\n",
    "- 관측값 = 14개, 잔차의 자유도 = 12, 모델의 자유도 = 1\n",
    "- R-squared = 0.987\n",
    "- F-통계량 = 943.2 -> p-value는 거의 0일 것\n",
    "- 부품수 x의 coef = 15.509 -> p-value = 0 으로 변수가 통계적으로 유의미하다. (beta1 != 0)\n",
    "- Prob(Omnibus): p-value = 0.689로 귀무가설 채택 - 정규성을 띈다.\n",
    "- Durbin-Watson: 2.051 자기상관성이 없다 = 독립성 만족\n",
    "- Prob (F-statistic):\t8.92e-13 - 모델 적합 <br>\n",
    "$\\hat{Minutes}$  = 4.1617 + 15.5088*Units"
   ]
  },
  {
   "cell_type": "code",
   "execution_count": 114,
   "metadata": {},
   "outputs": [
    {
     "data": {
      "text/plain": [
       "<matplotlib.lines.Line2D at 0x7f4e278a2c40>"
      ]
     },
     "execution_count": 114,
     "metadata": {},
     "output_type": "execute_result"
    },
    {
     "data": {
      "image/png": "[encoded data removed]",
      "text/plain": [
       "<Figure size 432x288 with 1 Axes>"
      ]
     },
     "metadata": {
      "needs_background": "light"
     },
     "output_type": "display_data"
    }
   ],
   "source": [
    "## 오차의 가정 검통\n",
    "# 1. 등분산성: y = 0을 기준으로 랜덤하게 분포하여 등분산성 만족\n",
    "plt.scatter(reg_res.fittedvalues, reg_res.resid)\n",
    "plt.xlabel(\"fitted value\"); plt.ylabel(\"residual\")\n",
    "plt.axhline(y=0, linestyle='--')"
   ]
  },
  {
   "cell_type": "code",
   "execution_count": 128,
   "metadata": {},
   "outputs": [
    {
     "data": {
      "text/plain": [
       "<matplotlib.lines.Line2D at 0x7f4e226dd730>"
      ]
     },
     "execution_count": 128,
     "metadata": {},
     "output_type": "execute_result"
    },
    {
     "data": {
      "image/png": "[encoded data removed]",
      "text/plain": [
       "<Figure size 432x288 with 1 Axes>"
      ]
     },
     "metadata": {
      "needs_background": "light"
     },
     "output_type": "display_data"
    }
   ],
   "source": [
    "# 2. 독립성: y = 0을 기준으로 랜덤하게 산포되어 있어 독립성 만족\n",
    "#plt.plot(df['UNITS'], reg_res.resid, marker = 'o')\n",
    "plt.scatter(df['UNITS'], reg_res.resid, marker = 'o')\n",
    "plt.xlabel(\"Date\"); plt.ylabel(\"residual\")\n",
    "plt.axhline(y = 0, linestyle='-')\n",
    "plt.axhline(y = 3*np.std(reg_res.resid), linestyle='--')\n",
    "plt.axhline(y = -3*np.std(reg_res.resid), linestyle='--')"
   ]
  },
  {
   "cell_type": "code",
   "execution_count": 132,
   "metadata": {
    "scrolled": true
   },
   "outputs": [
    {
     "data": {
      "image/png": "[encoded data removed]",
      "text/plain": [
       "<Figure size 432x288 with 1 Axes>"
      ]
     },
     "execution_count": 132,
     "metadata": {},
     "output_type": "execute_result"
    },
    {
     "data": {
      "image/png": "[encoded data removed]",
      "text/plain": [
       "<Figure size 432x288 with 1 Axes>"
      ]
     },
     "metadata": {
      "needs_background": "light"
     },
     "output_type": "display_data"
    }
   ],
   "source": [
    "# 3. 잔차 정규성\n",
    "qqplot(reg_res.resid, line='s') # q = quartile"
   ]
  },
  {
   "cell_type": "code",
   "execution_count": 129,
   "metadata": {},
   "outputs": [
    {
     "name": "stderr",
     "output_type": "stream",
     "text": [
      "/home/piai/anaconda3/lib/python3.8/site-packages/scipy/stats/stats.py:1603: UserWarning: kurtosistest only valid for n>=20 ... continuing anyway, n=14\n",
      "  warnings.warn(\"kurtosistest only valid for n>=20 ... continuing \"\n"
     ]
    },
    {
     "data": {
      "text/plain": [
       "NormaltestResult(statistic=0.746448218273468, pvalue=0.6885109139659057)"
      ]
     },
     "execution_count": 129,
     "metadata": {},
     "output_type": "execute_result"
    }
   ],
   "source": [
    "from statsmodels.stats.stattools import omni_normtest\n",
    "\n",
    "# 옴니버스 적용: 정규분포 직선을 중심으로 분포하고 검정통계량이 귀무가설을 채택하므로 정규분포를 따른다.\n",
    "omni_normtest(reg_res.resid, axis=0)"
   ]
  },
  {
   "cell_type": "markdown",
   "metadata": {},
   "source": [
    "최종 회귀식은 $\\hat{Minutes}$ = 4.1617 + 15.5088*Units 이고 부품 수가 1단위 증가할 때마다 수리 시간은 15.51분 증가"
   ]
  },
  {
   "cell_type": "markdown",
   "metadata": {},
   "source": [
    "### 실습"
   ]
  },
  {
   "cell_type": "code",
   "execution_count": 33,
   "metadata": {
    "scrolled": true
   },
   "outputs": [
    {
     "data": {
      "text/html": [
       "<div>\n",
       "<style scoped>\n",
       "    .dataframe tbody tr th:only-of-type {\n",
       "        vertical-align: middle;\n",
       "    }\n",
       "\n",
       "    .dataframe tbody tr th {\n",
       "        vertical-align: top;\n",
       "    }\n",
       "\n",
       "    .dataframe thead th {\n",
       "        text-align: right;\n",
       "    }\n",
       "</style>\n",
       "<table border=\"1\" class=\"dataframe\">\n",
       "  <thead>\n",
       "    <tr style=\"text-align: right;\">\n",
       "      <th></th>\n",
       "      <th>strength</th>\n",
       "      <th>b_time</th>\n",
       "    </tr>\n",
       "  </thead>\n",
       "  <tbody>\n",
       "    <tr>\n",
       "      <th>0</th>\n",
       "      <td>37.6</td>\n",
       "      <td>0.798922</td>\n",
       "    </tr>\n",
       "    <tr>\n",
       "      <th>1</th>\n",
       "      <td>38.6</td>\n",
       "      <td>0.849020</td>\n",
       "    </tr>\n",
       "    <tr>\n",
       "      <th>2</th>\n",
       "      <td>37.2</td>\n",
       "      <td>0.816163</td>\n",
       "    </tr>\n",
       "    <tr>\n",
       "      <th>3</th>\n",
       "      <td>36.4</td>\n",
       "      <td>0.758266</td>\n",
       "    </tr>\n",
       "    <tr>\n",
       "      <th>4</th>\n",
       "      <td>38.6</td>\n",
       "      <td>0.815894</td>\n",
       "    </tr>\n",
       "    <tr>\n",
       "      <th>5</th>\n",
       "      <td>39.0</td>\n",
       "      <td>0.807477</td>\n",
       "    </tr>\n",
       "    <tr>\n",
       "      <th>6</th>\n",
       "      <td>37.2</td>\n",
       "      <td>0.809068</td>\n",
       "    </tr>\n",
       "    <tr>\n",
       "      <th>7</th>\n",
       "      <td>36.1</td>\n",
       "      <td>0.766400</td>\n",
       "    </tr>\n",
       "    <tr>\n",
       "      <th>8</th>\n",
       "      <td>35.9</td>\n",
       "      <td>0.742243</td>\n",
       "    </tr>\n",
       "    <tr>\n",
       "      <th>9</th>\n",
       "      <td>37.1</td>\n",
       "      <td>0.751118</td>\n",
       "    </tr>\n",
       "    <tr>\n",
       "      <th>10</th>\n",
       "      <td>36.9</td>\n",
       "      <td>0.740629</td>\n",
       "    </tr>\n",
       "    <tr>\n",
       "      <th>11</th>\n",
       "      <td>37.5</td>\n",
       "      <td>0.751495</td>\n",
       "    </tr>\n",
       "    <tr>\n",
       "      <th>12</th>\n",
       "      <td>36.3</td>\n",
       "      <td>0.738863</td>\n",
       "    </tr>\n",
       "    <tr>\n",
       "      <th>13</th>\n",
       "      <td>38.1</td>\n",
       "      <td>0.827428</td>\n",
       "    </tr>\n",
       "    <tr>\n",
       "      <th>14</th>\n",
       "      <td>39.0</td>\n",
       "      <td>0.818172</td>\n",
       "    </tr>\n",
       "    <tr>\n",
       "      <th>15</th>\n",
       "      <td>36.9</td>\n",
       "      <td>0.740939</td>\n",
       "    </tr>\n",
       "    <tr>\n",
       "      <th>16</th>\n",
       "      <td>36.8</td>\n",
       "      <td>0.757128</td>\n",
       "    </tr>\n",
       "    <tr>\n",
       "      <th>17</th>\n",
       "      <td>37.6</td>\n",
       "      <td>0.804695</td>\n",
       "    </tr>\n",
       "    <tr>\n",
       "      <th>18</th>\n",
       "      <td>33.0</td>\n",
       "      <td>0.695121</td>\n",
       "    </tr>\n",
       "    <tr>\n",
       "      <th>19</th>\n",
       "      <td>33.5</td>\n",
       "      <td>0.735377</td>\n",
       "    </tr>\n",
       "  </tbody>\n",
       "</table>\n",
       "</div>"
      ],
      "text/plain": [
       "    strength    b_time\n",
       "0       37.6  0.798922\n",
       "1       38.6  0.849020\n",
       "2       37.2  0.816163\n",
       "3       36.4  0.758266\n",
       "4       38.6  0.815894\n",
       "5       39.0  0.807477\n",
       "6       37.2  0.809068\n",
       "7       36.1  0.766400\n",
       "8       35.9  0.742243\n",
       "9       37.1  0.751118\n",
       "10      36.9  0.740629\n",
       "11      37.5  0.751495\n",
       "12      36.3  0.738863\n",
       "13      38.1  0.827428\n",
       "14      39.0  0.818172\n",
       "15      36.9  0.740939\n",
       "16      36.8  0.757128\n",
       "17      37.6  0.804695\n",
       "18      33.0  0.695121\n",
       "19      33.5  0.735377"
      ]
     },
     "execution_count": 33,
     "metadata": {},
     "output_type": "execute_result"
    }
   ],
   "source": [
    "# 부품 수와 시간의 관계/시간 예측\n",
    "df = pd.DataFrame({\"strength\":[37.6,38.6,37.2,36.4,38.6,39,37.2,36.1,35.9,37.1,36.9,37.5,36.3,38.1,39,36.9,36.8,37.6,33,33.5],\n",
    "                  \"time\":[0.798922,0.84902,.816163,.758266,.815894,.807477,.809068,.7664,.742243,.751118,.740629,\n",
    "                          .751495,.738863,.827428,.818172,.740939,.757128,.804695,.695121,.735377]})\n",
    "\n",
    "df = pd.read_csv(\"bigdata_csv/correlation.csv\")[['strength', 'b_time']][:20]\n",
    "df"
   ]
  },
  {
   "cell_type": "code",
   "execution_count": 34,
   "metadata": {},
   "outputs": [
    {
     "data": {
      "text/html": [
       "<div>\n",
       "<style scoped>\n",
       "    .dataframe tbody tr th:only-of-type {\n",
       "        vertical-align: middle;\n",
       "    }\n",
       "\n",
       "    .dataframe tbody tr th {\n",
       "        vertical-align: top;\n",
       "    }\n",
       "\n",
       "    .dataframe thead th {\n",
       "        text-align: right;\n",
       "    }\n",
       "</style>\n",
       "<table border=\"1\" class=\"dataframe\">\n",
       "  <thead>\n",
       "    <tr style=\"text-align: right;\">\n",
       "      <th></th>\n",
       "      <th>strength</th>\n",
       "      <th>b_time</th>\n",
       "    </tr>\n",
       "  </thead>\n",
       "  <tbody>\n",
       "    <tr>\n",
       "      <th>count</th>\n",
       "      <td>20.000000</td>\n",
       "      <td>20.000000</td>\n",
       "    </tr>\n",
       "    <tr>\n",
       "      <th>mean</th>\n",
       "      <td>36.965000</td>\n",
       "      <td>0.776221</td>\n",
       "    </tr>\n",
       "    <tr>\n",
       "      <th>std</th>\n",
       "      <td>1.565172</td>\n",
       "      <td>0.040759</td>\n",
       "    </tr>\n",
       "    <tr>\n",
       "      <th>min</th>\n",
       "      <td>33.000000</td>\n",
       "      <td>0.695121</td>\n",
       "    </tr>\n",
       "    <tr>\n",
       "      <th>25%</th>\n",
       "      <td>36.375000</td>\n",
       "      <td>0.741917</td>\n",
       "    </tr>\n",
       "    <tr>\n",
       "      <th>50%</th>\n",
       "      <td>37.150000</td>\n",
       "      <td>0.762333</td>\n",
       "    </tr>\n",
       "    <tr>\n",
       "      <th>75%</th>\n",
       "      <td>37.725000</td>\n",
       "      <td>0.810774</td>\n",
       "    </tr>\n",
       "    <tr>\n",
       "      <th>max</th>\n",
       "      <td>39.000000</td>\n",
       "      <td>0.849020</td>\n",
       "    </tr>\n",
       "  </tbody>\n",
       "</table>\n",
       "</div>"
      ],
      "text/plain": [
       "        strength     b_time\n",
       "count  20.000000  20.000000\n",
       "mean   36.965000   0.776221\n",
       "std     1.565172   0.040759\n",
       "min    33.000000   0.695121\n",
       "25%    36.375000   0.741917\n",
       "50%    37.150000   0.762333\n",
       "75%    37.725000   0.810774\n",
       "max    39.000000   0.849020"
      ]
     },
     "execution_count": 34,
     "metadata": {},
     "output_type": "execute_result"
    }
   ],
   "source": [
    "# 기초통계량: data = 20개이며, 초코칩 강도의 평균 = 36.965, 굽는 시간의 평균은 0.7762이다.\n",
    "df.describe()"
   ]
  },
  {
   "cell_type": "code",
   "execution_count": 44,
   "metadata": {},
   "outputs": [
    {
     "data": {
      "text/plain": [
       "<AxesSubplot:xlabel='strength', ylabel='b_time'>"
      ]
     },
     "execution_count": 44,
     "metadata": {},
     "output_type": "execute_result"
    },
    {
     "data": {
      "image/png": "[encoded data removed]",
      "text/plain": [
       "<Figure size 432x288 with 1 Axes>"
      ]
     },
     "metadata": {
      "needs_background": "light"
     },
     "output_type": "display_data"
    }
   ],
   "source": [
    "# 설명변수 초코칩 강도가 증가함에 따라 굽는 시간도 증가하는 형태를 파악할 수 있다.\n",
    "df.plot.scatter(x = 'strength', y = 'b_time')"
   ]
  },
  {
   "cell_type": "code",
   "execution_count": 37,
   "metadata": {},
   "outputs": [
    {
     "data": {
      "text/html": [
       "<div>\n",
       "<style scoped>\n",
       "    .dataframe tbody tr th:only-of-type {\n",
       "        vertical-align: middle;\n",
       "    }\n",
       "\n",
       "    .dataframe tbody tr th {\n",
       "        vertical-align: top;\n",
       "    }\n",
       "\n",
       "    .dataframe thead th {\n",
       "        text-align: right;\n",
       "    }\n",
       "</style>\n",
       "<table border=\"1\" class=\"dataframe\">\n",
       "  <thead>\n",
       "    <tr style=\"text-align: right;\">\n",
       "      <th></th>\n",
       "      <th>strength</th>\n",
       "      <th>b_time</th>\n",
       "    </tr>\n",
       "  </thead>\n",
       "  <tbody>\n",
       "    <tr>\n",
       "      <th>strength</th>\n",
       "      <td>1.000</td>\n",
       "      <td>0.804</td>\n",
       "    </tr>\n",
       "    <tr>\n",
       "      <th>b_time</th>\n",
       "      <td>0.804</td>\n",
       "      <td>1.000</td>\n",
       "    </tr>\n",
       "  </tbody>\n",
       "</table>\n",
       "</div>"
      ],
      "text/plain": [
       "          strength  b_time\n",
       "strength     1.000   0.804\n",
       "b_time       0.804   1.000"
      ]
     },
     "execution_count": 37,
     "metadata": {},
     "output_type": "execute_result"
    }
   ],
   "source": [
    "# 상관관계: 상관계수 0.804로 두 변수 간 매우 높은 선형관계가 있다.\n",
    "# 강도가 증가하면 시간도 증가하는 관계이다.\n",
    "df.corr(method = 'pearson').round(3)"
   ]
  },
  {
   "cell_type": "code",
   "execution_count": 39,
   "metadata": {
    "scrolled": true
   },
   "outputs": [
    {
     "data": {
      "text/html": [
       "<table class=\"simpletable\">\n",
       "<caption>OLS Regression Results</caption>\n",
       "<tr>\n",
       "  <th>Dep. Variable:</th>         <td>b_time</td>      <th>  R-squared:         </th> <td>   0.646</td>\n",
       "</tr>\n",
       "<tr>\n",
       "  <th>Model:</th>                   <td>OLS</td>       <th>  Adj. R-squared:    </th> <td>   0.627</td>\n",
       "</tr>\n",
       "<tr>\n",
       "  <th>Method:</th>             <td>Least Squares</td>  <th>  F-statistic:       </th> <td>   32.90</td>\n",
       "</tr>\n",
       "<tr>\n",
       "  <th>Date:</th>             <td>Wed, 12 May 2021</td> <th>  Prob (F-statistic):</th> <td>1.95e-05</td>\n",
       "</tr>\n",
       "<tr>\n",
       "  <th>Time:</th>                 <td>22:12:50</td>     <th>  Log-Likelihood:    </th> <td>  46.530</td>\n",
       "</tr>\n",
       "<tr>\n",
       "  <th>No. Observations:</th>      <td>    20</td>      <th>  AIC:               </th> <td>  -89.06</td>\n",
       "</tr>\n",
       "<tr>\n",
       "  <th>Df Residuals:</th>          <td>    18</td>      <th>  BIC:               </th> <td>  -87.07</td>\n",
       "</tr>\n",
       "<tr>\n",
       "  <th>Df Model:</th>              <td>     1</td>      <th>                     </th>     <td> </td>   \n",
       "</tr>\n",
       "<tr>\n",
       "  <th>Covariance Type:</th>      <td>nonrobust</td>    <th>                     </th>     <td> </td>   \n",
       "</tr>\n",
       "</table>\n",
       "<table class=\"simpletable\">\n",
       "<tr>\n",
       "      <td></td>         <th>coef</th>     <th>std err</th>      <th>t</th>      <th>P>|t|</th>  <th>[0.025</th>    <th>0.975]</th>  \n",
       "</tr>\n",
       "<tr>\n",
       "  <th>Intercept</th> <td>    0.0023</td> <td>    0.135</td> <td>    0.017</td> <td> 0.987</td> <td>   -0.281</td> <td>    0.286</td>\n",
       "</tr>\n",
       "<tr>\n",
       "  <th>strength</th>  <td>    0.0209</td> <td>    0.004</td> <td>    5.736</td> <td> 0.000</td> <td>    0.013</td> <td>    0.029</td>\n",
       "</tr>\n",
       "</table>\n",
       "<table class=\"simpletable\">\n",
       "<tr>\n",
       "  <th>Omnibus:</th>       <td> 2.651</td> <th>  Durbin-Watson:     </th> <td>   1.128</td>\n",
       "</tr>\n",
       "<tr>\n",
       "  <th>Prob(Omnibus):</th> <td> 0.266</td> <th>  Jarque-Bera (JB):  </th> <td>   1.168</td>\n",
       "</tr>\n",
       "<tr>\n",
       "  <th>Skew:</th>          <td> 0.047</td> <th>  Prob(JB):          </th> <td>   0.558</td>\n",
       "</tr>\n",
       "<tr>\n",
       "  <th>Kurtosis:</th>      <td> 1.820</td> <th>  Cond. No.          </th> <td>    898.</td>\n",
       "</tr>\n",
       "</table><br/><br/>Notes:<br/>[1] Standard Errors assume that the covariance matrix of the errors is correctly specified."
      ],
      "text/plain": [
       "<class 'statsmodels.iolib.summary.Summary'>\n",
       "\"\"\"\n",
       "                            OLS Regression Results                            \n",
       "==============================================================================\n",
       "Dep. Variable:                 b_time   R-squared:                       0.646\n",
       "Model:                            OLS   Adj. R-squared:                  0.627\n",
       "Method:                 Least Squares   F-statistic:                     32.90\n",
       "Date:                Wed, 12 May 2021   Prob (F-statistic):           1.95e-05\n",
       "Time:                        22:12:50   Log-Likelihood:                 46.530\n",
       "No. Observations:                  20   AIC:                            -89.06\n",
       "Df Residuals:                      18   BIC:                            -87.07\n",
       "Df Model:                           1                                         \n",
       "Covariance Type:            nonrobust                                         \n",
       "==============================================================================\n",
       "                 coef    std err          t      P>|t|      [0.025      0.975]\n",
       "------------------------------------------------------------------------------\n",
       "Intercept      0.0023      0.135      0.017      0.987      -0.281       0.286\n",
       "strength       0.0209      0.004      5.736      0.000       0.013       0.029\n",
       "==============================================================================\n",
       "Omnibus:                        2.651   Durbin-Watson:                   1.128\n",
       "Prob(Omnibus):                  0.266   Jarque-Bera (JB):                1.168\n",
       "Skew:                           0.047   Prob(JB):                        0.558\n",
       "Kurtosis:                       1.820   Cond. No.                         898.\n",
       "==============================================================================\n",
       "\n",
       "Notes:\n",
       "[1] Standard Errors assume that the covariance matrix of the errors is correctly specified.\n",
       "\"\"\""
      ]
     },
     "execution_count": 39,
     "metadata": {},
     "output_type": "execute_result"
    }
   ],
   "source": [
    "# 회귀분석: y ~ x1 (+ x2 + ...) 이용 - 상수항 자동추가\n",
    "reg_model = smf.ols(formula = 'b_time ~ strength', data = df)\n",
    "reg_res = reg_model.fit()\n",
    "\n",
    "reg_res.summary()"
   ]
  },
  {
   "cell_type": "markdown",
   "metadata": {},
   "source": [
    "#### 해석\n",
    "- 관측값 = 20개, 잔차의 자유도 = 18, 모델의 자유도 = 1\n",
    "- R-squared = 0.646 -> 설명변수 초코칩의 강도가 굽는 시간을 64.6% 설명가능하다.\n",
    "- F-통계량 = 32.9이고 p-value = 1.95e-05로 모델이 적합하다고 볼 수 있다.\n",
    "- 초코칩 강도 x의 coef = 0.0209 -> p-value = 0 으로 변수가 통계적으로 유의미하다. <br>\n",
    " = 유의수준 5%하에서 p-value=0으로 독립변수, 초코칩의 강도가 설명력이 없다는 귀무가설을 기각한다. 따라서, 초코칩의 강도는 설명력이 있다고 볼 수 있다.\n",
    "- Prob(Omnibus): p-value = 0.266으로 유의수준 5%하에서 모집단은 정규성을 따른다는 귀무가설을 채택한다.\n",
    "- 최종 회귀식은 $\\hat{time}$  = 0.0023 + 0.0209*Strength 이고 초코칩의 강도가 1단위 증가할 때마다 굽는 시간은 0.0209분(혹은 시간) 증가"
   ]
  },
  {
   "cell_type": "code",
   "execution_count": 40,
   "metadata": {},
   "outputs": [
    {
     "data": {
      "text/plain": [
       "<matplotlib.lines.Line2D at 0x133e6e0bdf0>"
      ]
     },
     "execution_count": 40,
     "metadata": {},
     "output_type": "execute_result"
    },
    {
     "data": {
      "image/png": "[encoded data removed]",
      "text/plain": [
       "<Figure size 432x288 with 1 Axes>"
      ]
     },
     "metadata": {
      "needs_background": "light"
     },
     "output_type": "display_data"
    }
   ],
   "source": [
    "## 오차의 가정 검통\n",
    "# 1. 등분산성: y = 0을 기준으로 랜덤하게 분포하여 등분산성 만족\n",
    "plt.scatter(reg_res.fittedvalues, reg_res.resid)\n",
    "plt.xlabel(\"fitted value\"); plt.ylabel(\"residual\")\n",
    "plt.axhline(y=0, linestyle='--')"
   ]
  },
  {
   "cell_type": "code",
   "execution_count": 41,
   "metadata": {},
   "outputs": [
    {
     "data": {
      "text/plain": [
       "<matplotlib.lines.Line2D at 0x133e6e7ab20>"
      ]
     },
     "execution_count": 41,
     "metadata": {},
     "output_type": "execute_result"
    },
    {
     "data": {
      "image/png": "[encoded data removed]",
      "text/plain": [
       "<Figure size 432x288 with 1 Axes>"
      ]
     },
     "metadata": {
      "needs_background": "light"
     },
     "output_type": "display_data"
    }
   ],
   "source": [
    "# 2. 독립성: y = 0을 기준으로 랜덤하게 산포되어 있어 독립성 만족\n",
    "plt.scatter(df['strength'], reg_res.resid, marker = 'o')\n",
    "plt.xlabel(\"Date\"); plt.ylabel(\"residual\")\n",
    "plt.axhline(y = 0, linestyle='-')\n",
    "plt.axhline(y = 3*np.std(reg_res.resid), linestyle='--')\n",
    "plt.axhline(y = -3*np.std(reg_res.resid), linestyle='--')"
   ]
  },
  {
   "cell_type": "code",
   "execution_count": 45,
   "metadata": {
    "scrolled": true
   },
   "outputs": [
    {
     "data": {
      "image/png": "[encoded data removed]",
      "text/plain": [
       "<Figure size 432x288 with 1 Axes>"
      ]
     },
     "execution_count": 45,
     "metadata": {},
     "output_type": "execute_result"
    },
    {
     "data": {
      "image/png": "[encoded data removed]",
      "text/plain": [
       "<Figure size 432x288 with 1 Axes>"
      ]
     },
     "metadata": {
      "needs_background": "light"
     },
     "output_type": "display_data"
    }
   ],
   "source": [
    "# 3. 잔차 정규성\n",
    "qqplot(reg_res.resid, line='s') # q = quartile"
   ]
  },
  {
   "cell_type": "code",
   "execution_count": 43,
   "metadata": {},
   "outputs": [
    {
     "data": {
      "text/plain": [
       "NormaltestResult(statistic=2.651191714735228, pvalue=0.26564462561418817)"
      ]
     },
     "execution_count": 43,
     "metadata": {},
     "output_type": "execute_result"
    }
   ],
   "source": [
    "from statsmodels.stats.stattools import omni_normtest\n",
    "\n",
    "# 옴니버스 적용: 정규분포 직선을 중심으로 분포하고 검정통계량이 귀무가설을 채택하므로 정규분포를 따른다.\n",
    "omni_normtest(reg_res.resid, axis=0)"
   ]
  },
  {
   "cell_type": "markdown",
   "metadata": {},
   "source": [
    "#### 해석\n",
    "1. 등분산성/독립성 검정 결과, 각각 y = 0을 기준으로 랜덤하게 분포하여 가정을 만족한다.\n",
    "2. 정규성검정 결과, 정규분포 직선을 중심으로 데이터가 분포하고 검정 통계량이 귀무가설을 채택하여 정규분포를 따른다고 할 수 있다."
   ]
  },
  {
   "cell_type": "code",
   "execution_count": null,
   "metadata": {},
   "outputs": [],
   "source": []
  },
  {
   "cell_type": "code",
   "execution_count": null,
   "metadata": {},
   "outputs": [],
   "source": []
  },
  {
   "cell_type": "code",
   "execution_count": null,
   "metadata": {},
   "outputs": [],
   "source": []
  },
  {
   "cell_type": "code",
   "execution_count": null,
   "metadata": {},
   "outputs": [],
   "source": []
  },
  {
   "cell_type": "code",
   "execution_count": null,
   "metadata": {},
   "outputs": [],
   "source": []
  },
  {
   "cell_type": "code",
   "execution_count": null,
   "metadata": {},
   "outputs": [],
   "source": []
  },
  {
   "cell_type": "code",
   "execution_count": null,
   "metadata": {},
   "outputs": [],
   "source": []
  }
 ],
 "metadata": {
  "kernelspec": {
   "display_name": "Python 3",
   "language": "python",
   "name": "python3"
  },
  "language_info": {
   "codemirror_mode": {
    "name": "ipython",
    "version": 3
   },
   "file_extension": ".py",
   "mimetype": "text/x-python",
   "name": "python",
   "nbconvert_exporter": "python",
   "pygments_lexer": "ipython3",
   "version": "3.8.5"
  }
 },
 "nbformat": 4,
 "nbformat_minor": 4
}
