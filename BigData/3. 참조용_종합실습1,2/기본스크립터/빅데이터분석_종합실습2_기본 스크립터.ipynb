{
 "cells": [
  {
   "cell_type": "markdown",
   "metadata": {},
   "source": [
    "# Scale 분석\n",
    "\n",
    "압연공정에서의 scale불량의 원인을 찾고 개선을 위한 최적의 조건 도출\n",
    "\n",
    "\n",
    "[분석 기법]\n",
    "\n",
    "1. 그래프를 활용한 탐색적 분석\n",
    "2. 로지스틱 회귀분석\n",
    "3. 의사결정 트리\n",
    "4. 앙상블 모델(Random Forest, Gradient Boosting)\n",
    "5. KNN"
   ]
  },
  {
   "cell_type": "markdown",
   "metadata": {},
   "source": [
    "#### 패키지 불러오기"
   ]
  },
  {
   "cell_type": "code",
   "execution_count": 1,
   "metadata": {},
   "outputs": [],
   "source": [
    "import pandas as pd\n",
    "import numpy as np\n",
    "from sklearn.model_selection import train_test_split\n",
    "\n",
    "# 시각화\n",
    "import matplotlib\n",
    "import matplotlib.pyplot as plt\n",
    "import seaborn as sns\n",
    "from sklearn.tree import export_graphviz\n",
    "import graphviz\n",
    "\n",
    "# 분석\n",
    "import statsmodels.api as sm\n",
    "from sklearn import metrics\n",
    "from sklearn.model_selection import train_test_split\n",
    "from sklearn.tree import DecisionTreeClassifier\n",
    "from sklearn.ensemble import RandomForestClassifier, GradientBoostingClassifier\n",
    "from sklearn.neighbors import KNeighborsClassifier\n",
    "\n",
    "# confusion matrix, accuracy_score\n",
    "from sklearn.metrics import confusion_matrix, accuracy_score"
   ]
  },
  {
   "cell_type": "markdown",
   "metadata": {},
   "source": [
    "#### pandas 소수점 3자리"
   ]
  },
  {
   "cell_type": "code",
   "execution_count": 2,
   "metadata": {},
   "outputs": [],
   "source": [
    "pd.options.display.precision = 3"
   ]
  },
  {
   "cell_type": "markdown",
   "metadata": {},
   "source": [
    "#### 한글 폰트 적용"
   ]
  },
  {
   "cell_type": "code",
   "execution_count": 3,
   "metadata": {},
   "outputs": [],
   "source": [
    "# 한글 폰트(맑은 고딕) 적용\n",
    "matplotlib.rc(\"font\", family=\"Malgun Gothic\")"
   ]
  },
  {
   "cell_type": "markdown",
   "metadata": {},
   "source": [
    "## 데이터 불러오기"
   ]
  },
  {
   "cell_type": "code",
   "execution_count": 4,
   "metadata": {},
   "outputs": [
    {
     "name": "stdout",
     "output_type": "stream",
     "text": [
      "shape:  (720, 21)\n"
     ]
    },
    {
     "data": {
      "text/html": [
       "<div>\n",
       "<style scoped>\n",
       "    .dataframe tbody tr th:only-of-type {\n",
       "        vertical-align: middle;\n",
       "    }\n",
       "\n",
       "    .dataframe tbody tr th {\n",
       "        vertical-align: top;\n",
       "    }\n",
       "\n",
       "    .dataframe thead th {\n",
       "        text-align: right;\n",
       "    }\n",
       "</style>\n",
       "<table border=\"1\" class=\"dataframe\">\n",
       "  <thead>\n",
       "    <tr style=\"text-align: right;\">\n",
       "      <th></th>\n",
       "      <th>PLATE_NO</th>\n",
       "      <th>ROLLING_DATE</th>\n",
       "      <th>SCALE</th>\n",
       "      <th>SPEC</th>\n",
       "      <th>STEEL_KIND</th>\n",
       "      <th>PT_THK</th>\n",
       "      <th>PT_WDTH</th>\n",
       "      <th>PT_LTH</th>\n",
       "      <th>PT_WGT</th>\n",
       "      <th>FUR_NO</th>\n",
       "      <th>...</th>\n",
       "      <th>FUR_HZ_TEMP</th>\n",
       "      <th>FUR_HZ_TIME</th>\n",
       "      <th>FUR_SZ_TEMP</th>\n",
       "      <th>FUR_SZ_TIME</th>\n",
       "      <th>FUR_TIME</th>\n",
       "      <th>FUR_EXTEMP</th>\n",
       "      <th>ROLLING_TEMP_T5</th>\n",
       "      <th>HSB</th>\n",
       "      <th>ROLLING_DESCALING</th>\n",
       "      <th>WORK_GR</th>\n",
       "    </tr>\n",
       "  </thead>\n",
       "  <tbody>\n",
       "    <tr>\n",
       "      <th>0</th>\n",
       "      <td>PB562774</td>\n",
       "      <td>2008-08-01:00:00:15</td>\n",
       "      <td>양품</td>\n",
       "      <td>AB/EH32-TM</td>\n",
       "      <td>T1</td>\n",
       "      <td>32.25</td>\n",
       "      <td>3707</td>\n",
       "      <td>15109</td>\n",
       "      <td>14180</td>\n",
       "      <td>1호기</td>\n",
       "      <td>...</td>\n",
       "      <td>1144</td>\n",
       "      <td>116</td>\n",
       "      <td>1133</td>\n",
       "      <td>59</td>\n",
       "      <td>282</td>\n",
       "      <td>1133</td>\n",
       "      <td>934</td>\n",
       "      <td>적용</td>\n",
       "      <td>8</td>\n",
       "      <td>2조</td>\n",
       "    </tr>\n",
       "    <tr>\n",
       "      <th>1</th>\n",
       "      <td>PB562775</td>\n",
       "      <td>2008-08-01:00:00:16</td>\n",
       "      <td>양품</td>\n",
       "      <td>AB/EH32-TM</td>\n",
       "      <td>T1</td>\n",
       "      <td>32.25</td>\n",
       "      <td>3707</td>\n",
       "      <td>15109</td>\n",
       "      <td>14180</td>\n",
       "      <td>1호기</td>\n",
       "      <td>...</td>\n",
       "      <td>1144</td>\n",
       "      <td>122</td>\n",
       "      <td>1135</td>\n",
       "      <td>53</td>\n",
       "      <td>283</td>\n",
       "      <td>1135</td>\n",
       "      <td>937</td>\n",
       "      <td>적용</td>\n",
       "      <td>8</td>\n",
       "      <td>2조</td>\n",
       "    </tr>\n",
       "    <tr>\n",
       "      <th>2</th>\n",
       "      <td>PB562776</td>\n",
       "      <td>2008-08-01:00:00:59</td>\n",
       "      <td>양품</td>\n",
       "      <td>NV-E36-TM</td>\n",
       "      <td>T8</td>\n",
       "      <td>33.27</td>\n",
       "      <td>3619</td>\n",
       "      <td>19181</td>\n",
       "      <td>18130</td>\n",
       "      <td>2호기</td>\n",
       "      <td>...</td>\n",
       "      <td>1129</td>\n",
       "      <td>116</td>\n",
       "      <td>1121</td>\n",
       "      <td>55</td>\n",
       "      <td>282</td>\n",
       "      <td>1121</td>\n",
       "      <td>889</td>\n",
       "      <td>적용</td>\n",
       "      <td>8</td>\n",
       "      <td>3조</td>\n",
       "    </tr>\n",
       "    <tr>\n",
       "      <th>3</th>\n",
       "      <td>PB562777</td>\n",
       "      <td>2008-08-01:00:01:24</td>\n",
       "      <td>양품</td>\n",
       "      <td>NV-E36-TM</td>\n",
       "      <td>T8</td>\n",
       "      <td>33.27</td>\n",
       "      <td>3619</td>\n",
       "      <td>19181</td>\n",
       "      <td>18130</td>\n",
       "      <td>2호기</td>\n",
       "      <td>...</td>\n",
       "      <td>1152</td>\n",
       "      <td>125</td>\n",
       "      <td>1127</td>\n",
       "      <td>68</td>\n",
       "      <td>316</td>\n",
       "      <td>1127</td>\n",
       "      <td>885</td>\n",
       "      <td>적용</td>\n",
       "      <td>8</td>\n",
       "      <td>3조</td>\n",
       "    </tr>\n",
       "    <tr>\n",
       "      <th>4</th>\n",
       "      <td>PB562778</td>\n",
       "      <td>2008-08-01:00:01:44</td>\n",
       "      <td>양품</td>\n",
       "      <td>BV-EH36-TM</td>\n",
       "      <td>T8</td>\n",
       "      <td>38.33</td>\n",
       "      <td>3098</td>\n",
       "      <td>13334</td>\n",
       "      <td>12430</td>\n",
       "      <td>3호기</td>\n",
       "      <td>...</td>\n",
       "      <td>1140</td>\n",
       "      <td>134</td>\n",
       "      <td>1128</td>\n",
       "      <td>48</td>\n",
       "      <td>314</td>\n",
       "      <td>1128</td>\n",
       "      <td>873</td>\n",
       "      <td>적용</td>\n",
       "      <td>8</td>\n",
       "      <td>1조</td>\n",
       "    </tr>\n",
       "  </tbody>\n",
       "</table>\n",
       "<p>5 rows × 21 columns</p>\n",
       "</div>"
      ],
      "text/plain": [
       "   PLATE_NO         ROLLING_DATE SCALE        SPEC STEEL_KIND  PT_THK  \\\n",
       "0  PB562774  2008-08-01:00:00:15    양품  AB/EH32-TM         T1   32.25   \n",
       "1  PB562775  2008-08-01:00:00:16    양품  AB/EH32-TM         T1   32.25   \n",
       "2  PB562776  2008-08-01:00:00:59    양품   NV-E36-TM         T8   33.27   \n",
       "3  PB562777  2008-08-01:00:01:24    양품   NV-E36-TM         T8   33.27   \n",
       "4  PB562778  2008-08-01:00:01:44    양품  BV-EH36-TM         T8   38.33   \n",
       "\n",
       "   PT_WDTH  PT_LTH  PT_WGT FUR_NO  ...  FUR_HZ_TEMP  FUR_HZ_TIME  FUR_SZ_TEMP  \\\n",
       "0     3707   15109   14180    1호기  ...         1144          116         1133   \n",
       "1     3707   15109   14180    1호기  ...         1144          122         1135   \n",
       "2     3619   19181   18130    2호기  ...         1129          116         1121   \n",
       "3     3619   19181   18130    2호기  ...         1152          125         1127   \n",
       "4     3098   13334   12430    3호기  ...         1140          134         1128   \n",
       "\n",
       "   FUR_SZ_TIME  FUR_TIME  FUR_EXTEMP  ROLLING_TEMP_T5  HSB ROLLING_DESCALING  \\\n",
       "0           59       282        1133              934   적용                 8   \n",
       "1           53       283        1135              937   적용                 8   \n",
       "2           55       282        1121              889   적용                 8   \n",
       "3           68       316        1127              885   적용                 8   \n",
       "4           48       314        1128              873   적용                 8   \n",
       "\n",
       "   WORK_GR  \n",
       "0       2조  \n",
       "1       2조  \n",
       "2       3조  \n",
       "3       3조  \n",
       "4       1조  \n",
       "\n",
       "[5 rows x 21 columns]"
      ]
     },
     "execution_count": 4,
     "metadata": {},
     "output_type": "execute_result"
    }
   ],
   "source": [
    "df_raw = pd.read_csv(\"D:/WORK/DATA/SCALE불량.csv\", engine=\"python\")\n",
    "print(\"shape: \", df_raw.shape)\n",
    "df_raw.head()"
   ]
  },
  {
   "cell_type": "markdown",
   "metadata": {},
   "source": [
    "## EDA"
   ]
  },
  {
   "cell_type": "markdown",
   "metadata": {},
   "source": [
    "#### 기초통계량"
   ]
  },
  {
   "cell_type": "code",
   "execution_count": 5,
   "metadata": {},
   "outputs": [
    {
     "data": {
      "text/html": [
       "<div>\n",
       "<style scoped>\n",
       "    .dataframe tbody tr th:only-of-type {\n",
       "        vertical-align: middle;\n",
       "    }\n",
       "\n",
       "    .dataframe tbody tr th {\n",
       "        vertical-align: top;\n",
       "    }\n",
       "\n",
       "    .dataframe thead th {\n",
       "        text-align: right;\n",
       "    }\n",
       "</style>\n",
       "<table border=\"1\" class=\"dataframe\">\n",
       "  <thead>\n",
       "    <tr style=\"text-align: right;\">\n",
       "      <th></th>\n",
       "      <th>PT_THK</th>\n",
       "      <th>PT_WDTH</th>\n",
       "      <th>PT_LTH</th>\n",
       "      <th>PT_WGT</th>\n",
       "      <th>FUR_NO_ROW</th>\n",
       "      <th>FUR_HZ_TEMP</th>\n",
       "      <th>FUR_HZ_TIME</th>\n",
       "      <th>FUR_SZ_TEMP</th>\n",
       "      <th>FUR_SZ_TIME</th>\n",
       "      <th>FUR_TIME</th>\n",
       "      <th>FUR_EXTEMP</th>\n",
       "      <th>ROLLING_TEMP_T5</th>\n",
       "      <th>ROLLING_DESCALING</th>\n",
       "    </tr>\n",
       "  </thead>\n",
       "  <tbody>\n",
       "    <tr>\n",
       "      <th>count</th>\n",
       "      <td>720.000</td>\n",
       "      <td>720.000</td>\n",
       "      <td>720.000</td>\n",
       "      <td>720.000</td>\n",
       "      <td>720.000</td>\n",
       "      <td>720.000</td>\n",
       "      <td>720.000</td>\n",
       "      <td>720.000</td>\n",
       "      <td>720.000</td>\n",
       "      <td>720.000</td>\n",
       "      <td>720.000</td>\n",
       "      <td>720.000</td>\n",
       "      <td>720.000</td>\n",
       "    </tr>\n",
       "    <tr>\n",
       "      <th>mean</th>\n",
       "      <td>29.268</td>\n",
       "      <td>2807.128</td>\n",
       "      <td>34323.269</td>\n",
       "      <td>41481.778</td>\n",
       "      <td>1.497</td>\n",
       "      <td>1155.339</td>\n",
       "      <td>88.528</td>\n",
       "      <td>1149.667</td>\n",
       "      <td>78.803</td>\n",
       "      <td>300.564</td>\n",
       "      <td>1149.667</td>\n",
       "      <td>933.921</td>\n",
       "      <td>8.319</td>\n",
       "    </tr>\n",
       "    <tr>\n",
       "      <th>std</th>\n",
       "      <td>19.153</td>\n",
       "      <td>517.840</td>\n",
       "      <td>13828.435</td>\n",
       "      <td>24751.322</td>\n",
       "      <td>0.500</td>\n",
       "      <td>20.866</td>\n",
       "      <td>37.661</td>\n",
       "      <td>17.572</td>\n",
       "      <td>36.421</td>\n",
       "      <td>45.390</td>\n",
       "      <td>17.572</td>\n",
       "      <td>107.864</td>\n",
       "      <td>1.623</td>\n",
       "    </tr>\n",
       "    <tr>\n",
       "      <th>min</th>\n",
       "      <td>12.030</td>\n",
       "      <td>1800.000</td>\n",
       "      <td>7893.000</td>\n",
       "      <td>7820.000</td>\n",
       "      <td>1.000</td>\n",
       "      <td>1103.000</td>\n",
       "      <td>43.000</td>\n",
       "      <td>1113.000</td>\n",
       "      <td>35.000</td>\n",
       "      <td>221.000</td>\n",
       "      <td>1113.000</td>\n",
       "      <td>0.000</td>\n",
       "      <td>5.000</td>\n",
       "    </tr>\n",
       "    <tr>\n",
       "      <th>25%</th>\n",
       "      <td>16.090</td>\n",
       "      <td>2466.000</td>\n",
       "      <td>22663.000</td>\n",
       "      <td>17757.500</td>\n",
       "      <td>1.000</td>\n",
       "      <td>1139.000</td>\n",
       "      <td>65.000</td>\n",
       "      <td>1132.000</td>\n",
       "      <td>57.750</td>\n",
       "      <td>257.000</td>\n",
       "      <td>1132.000</td>\n",
       "      <td>889.750</td>\n",
       "      <td>6.000</td>\n",
       "    </tr>\n",
       "    <tr>\n",
       "      <th>50%</th>\n",
       "      <td>20.130</td>\n",
       "      <td>2725.000</td>\n",
       "      <td>37380.000</td>\n",
       "      <td>36120.000</td>\n",
       "      <td>1.000</td>\n",
       "      <td>1158.000</td>\n",
       "      <td>75.000</td>\n",
       "      <td>1155.000</td>\n",
       "      <td>67.500</td>\n",
       "      <td>304.000</td>\n",
       "      <td>1155.000</td>\n",
       "      <td>951.000</td>\n",
       "      <td>8.000</td>\n",
       "    </tr>\n",
       "    <tr>\n",
       "      <th>75%</th>\n",
       "      <td>40.000</td>\n",
       "      <td>3125.000</td>\n",
       "      <td>43735.000</td>\n",
       "      <td>61120.000</td>\n",
       "      <td>2.000</td>\n",
       "      <td>1171.000</td>\n",
       "      <td>101.000</td>\n",
       "      <td>1164.000</td>\n",
       "      <td>86.000</td>\n",
       "      <td>342.000</td>\n",
       "      <td>1164.000</td>\n",
       "      <td>994.250</td>\n",
       "      <td>10.000</td>\n",
       "    </tr>\n",
       "    <tr>\n",
       "      <th>max</th>\n",
       "      <td>100.340</td>\n",
       "      <td>4575.000</td>\n",
       "      <td>54917.000</td>\n",
       "      <td>115080.000</td>\n",
       "      <td>2.000</td>\n",
       "      <td>1206.000</td>\n",
       "      <td>312.000</td>\n",
       "      <td>1185.000</td>\n",
       "      <td>294.000</td>\n",
       "      <td>398.000</td>\n",
       "      <td>1185.000</td>\n",
       "      <td>1078.000</td>\n",
       "      <td>10.000</td>\n",
       "    </tr>\n",
       "  </tbody>\n",
       "</table>\n",
       "</div>"
      ],
      "text/plain": [
       "        PT_THK   PT_WDTH     PT_LTH      PT_WGT  FUR_NO_ROW  FUR_HZ_TEMP  \\\n",
       "count  720.000   720.000    720.000     720.000     720.000      720.000   \n",
       "mean    29.268  2807.128  34323.269   41481.778       1.497     1155.339   \n",
       "std     19.153   517.840  13828.435   24751.322       0.500       20.866   \n",
       "min     12.030  1800.000   7893.000    7820.000       1.000     1103.000   \n",
       "25%     16.090  2466.000  22663.000   17757.500       1.000     1139.000   \n",
       "50%     20.130  2725.000  37380.000   36120.000       1.000     1158.000   \n",
       "75%     40.000  3125.000  43735.000   61120.000       2.000     1171.000   \n",
       "max    100.340  4575.000  54917.000  115080.000       2.000     1206.000   \n",
       "\n",
       "       FUR_HZ_TIME  FUR_SZ_TEMP  FUR_SZ_TIME  FUR_TIME  FUR_EXTEMP  \\\n",
       "count      720.000      720.000      720.000   720.000     720.000   \n",
       "mean        88.528     1149.667       78.803   300.564    1149.667   \n",
       "std         37.661       17.572       36.421    45.390      17.572   \n",
       "min         43.000     1113.000       35.000   221.000    1113.000   \n",
       "25%         65.000     1132.000       57.750   257.000    1132.000   \n",
       "50%         75.000     1155.000       67.500   304.000    1155.000   \n",
       "75%        101.000     1164.000       86.000   342.000    1164.000   \n",
       "max        312.000     1185.000      294.000   398.000    1185.000   \n",
       "\n",
       "       ROLLING_TEMP_T5  ROLLING_DESCALING  \n",
       "count          720.000            720.000  \n",
       "mean           933.921              8.319  \n",
       "std            107.864              1.623  \n",
       "min              0.000              5.000  \n",
       "25%            889.750              6.000  \n",
       "50%            951.000              8.000  \n",
       "75%            994.250             10.000  \n",
       "max           1078.000             10.000  "
      ]
     },
     "execution_count": 5,
     "metadata": {},
     "output_type": "execute_result"
    }
   ],
   "source": [
    "df_raw.describe()"
   ]
  },
  {
   "cell_type": "markdown",
   "metadata": {},
   "source": [
    "#### 히스토그램 - 양/불 기준"
   ]
  },
  {
   "cell_type": "code",
   "execution_count": 6,
   "metadata": {},
   "outputs": [],
   "source": [
    "def fun_plot_hist(data, var):\n",
    "    plt.hist(data[data[\"SCALE\"] == \"양품\"][var], label = \"양품\", alpha = 0.5)\n",
    "    plt.hist(data[data[\"SCALE\"] == \"불량\"][var], label = \"불량\", alpha = 0.5)\n",
    "    plt.legend()"
   ]
  },
  {
   "cell_type": "markdown",
   "metadata": {},
   "source": [
    "##### plate 두께"
   ]
  },
  {
   "cell_type": "code",
   "execution_count": 7,
   "metadata": {},
   "outputs": [
    {
     "data": {
      "image/png": "[encoded data removed]",
      "text/plain": [
       "<Figure size 432x288 with 1 Axes>"
      ]
     },
     "metadata": {
      "needs_background": "light"
     },
     "output_type": "display_data"
    }
   ],
   "source": [
    "fun_plot_hist(df_raw, \"PT_THK\")"
   ]
  },
  {
   "cell_type": "markdown",
   "metadata": {},
   "source": [
    "##### plate 폭"
   ]
  },
  {
   "cell_type": "code",
   "execution_count": 8,
   "metadata": {},
   "outputs": [
    {
     "data": {
      "image/png": "[encoded data removed]",
      "text/plain": [
       "<Figure size 432x288 with 1 Axes>"
      ]
     },
     "metadata": {
      "needs_background": "light"
     },
     "output_type": "display_data"
    }
   ],
   "source": [
    "fun_plot_hist(df_raw, \"PT_WDTH\")"
   ]
  },
  {
   "cell_type": "markdown",
   "metadata": {},
   "source": [
    "##### plate 길이"
   ]
  },
  {
   "cell_type": "code",
   "execution_count": 9,
   "metadata": {},
   "outputs": [
    {
     "data": {
      "image/png": "[encoded data removed]",
      "text/plain": [
       "<Figure size 432x288 with 1 Axes>"
      ]
     },
     "metadata": {
      "needs_background": "light"
     },
     "output_type": "display_data"
    }
   ],
   "source": [
    "fun_plot_hist(df_raw, \"PT_LTH\")"
   ]
  },
  {
   "cell_type": "markdown",
   "metadata": {},
   "source": [
    "##### plate 중량"
   ]
  },
  {
   "cell_type": "code",
   "execution_count": 10,
   "metadata": {},
   "outputs": [
    {
     "data": {
      "image/png": "[encoded data removed]",
      "text/plain": [
       "<Figure size 432x288 with 1 Axes>"
      ]
     },
     "metadata": {
      "needs_background": "light"
     },
     "output_type": "display_data"
    }
   ],
   "source": [
    "fun_plot_hist(df_raw, \"PT_WGT\")"
   ]
  },
  {
   "cell_type": "markdown",
   "metadata": {},
   "source": [
    "##### 가열로 가열대 온도"
   ]
  },
  {
   "cell_type": "code",
   "execution_count": 11,
   "metadata": {},
   "outputs": [
    {
     "data": {
      "image/png": "[encoded data removed]",
      "text/plain": [
       "<Figure size 432x288 with 1 Axes>"
      ]
     },
     "metadata": {
      "needs_background": "light"
     },
     "output_type": "display_data"
    }
   ],
   "source": [
    "fun_plot_hist(df_raw, \"FUR_HZ_TEMP\")"
   ]
  },
  {
   "cell_type": "markdown",
   "metadata": {},
   "source": [
    "##### 가열로 균열대 시간"
   ]
  },
  {
   "cell_type": "code",
   "execution_count": 12,
   "metadata": {},
   "outputs": [
    {
     "data": {
      "image/png": "[encoded data removed]",
      "text/plain": [
       "<Figure size 432x288 with 1 Axes>"
      ]
     },
     "metadata": {
      "needs_background": "light"
     },
     "output_type": "display_data"
    }
   ],
   "source": [
    "fun_plot_hist(df_raw, \"FUR_HZ_TIME\")"
   ]
  },
  {
   "cell_type": "markdown",
   "metadata": {},
   "source": [
    "##### 가열로 균열대 온도"
   ]
  },
  {
   "cell_type": "code",
   "execution_count": 13,
   "metadata": {},
   "outputs": [
    {
     "data": {
      "image/png": "[encoded data removed]",
      "text/plain": [
       "<Figure size 432x288 with 1 Axes>"
      ]
     },
     "metadata": {
      "needs_background": "light"
     },
     "output_type": "display_data"
    }
   ],
   "source": [
    "fun_plot_hist(df_raw, \"FUR_SZ_TEMP\")"
   ]
  },
  {
   "cell_type": "markdown",
   "metadata": {},
   "source": [
    "##### 가열로 균열대 시간"
   ]
  },
  {
   "cell_type": "code",
   "execution_count": 14,
   "metadata": {},
   "outputs": [
    {
     "data": {
      "image/png": "[encoded data removed]",
      "text/plain": [
       "<Figure size 432x288 with 1 Axes>"
      ]
     },
     "metadata": {
      "needs_background": "light"
     },
     "output_type": "display_data"
    }
   ],
   "source": [
    "fun_plot_hist(df_raw, \"FUR_SZ_TIME\")"
   ]
  },
  {
   "cell_type": "markdown",
   "metadata": {},
   "source": [
    "##### 가열로 시간"
   ]
  },
  {
   "cell_type": "code",
   "execution_count": 15,
   "metadata": {},
   "outputs": [
    {
     "data": {
      "image/png": "[encoded data removed]",
      "text/plain": [
       "<Figure size 432x288 with 1 Axes>"
      ]
     },
     "metadata": {
      "needs_background": "light"
     },
     "output_type": "display_data"
    }
   ],
   "source": [
    "fun_plot_hist(df_raw, \"FUR_TIME\")"
   ]
  },
  {
   "cell_type": "markdown",
   "metadata": {},
   "source": [
    "##### 압연 온도"
   ]
  },
  {
   "cell_type": "code",
   "execution_count": 16,
   "metadata": {},
   "outputs": [
    {
     "data": {
      "image/png": "[encoded data removed]",
      "text/plain": [
       "<Figure size 432x288 with 1 Axes>"
      ]
     },
     "metadata": {
      "needs_background": "light"
     },
     "output_type": "display_data"
    }
   ],
   "source": [
    "fun_plot_hist(df_raw, \"FUR_EXTEMP\")"
   ]
  },
  {
   "cell_type": "markdown",
   "metadata": {},
   "source": [
    "##### 가열대 온도"
   ]
  },
  {
   "cell_type": "code",
   "execution_count": 17,
   "metadata": {},
   "outputs": [
    {
     "data": {
      "image/png": "[encoded data removed]",
      "text/plain": [
       "<Figure size 432x288 with 1 Axes>"
      ]
     },
     "metadata": {
      "needs_background": "light"
     },
     "output_type": "display_data"
    }
   ],
   "source": [
    "fun_plot_hist(df_raw, \"ROLLING_TEMP_T5\")"
   ]
  },
  {
   "cell_type": "markdown",
   "metadata": {},
   "source": [
    "##### 압연 중 Descaling 횟수"
   ]
  },
  {
   "cell_type": "code",
   "execution_count": 18,
   "metadata": {},
   "outputs": [
    {
     "data": {
      "image/png": "[encoded data removed]",
      "text/plain": [
       "<Figure size 432x288 with 1 Axes>"
      ]
     },
     "metadata": {
      "needs_background": "light"
     },
     "output_type": "display_data"
    }
   ],
   "source": [
    "fun_plot_hist(df_raw, \"ROLLING_DESCALING\")"
   ]
  },
  {
   "cell_type": "markdown",
   "metadata": {},
   "source": [
    "#### 교차표"
   ]
  },
  {
   "cell_type": "code",
   "execution_count": 19,
   "metadata": {},
   "outputs": [],
   "source": [
    "def fun_print_crosstab(data, var):\n",
    "    print(pd.crosstab(index = data[\"SCALE\"], columns = data[var]))\n",
    "    print()\n",
    "    print(pd.crosstab(index = data[\"SCALE\"], columns = data[var], normalize = \"columns\").round(3))"
   ]
  },
  {
   "cell_type": "markdown",
   "metadata": {},
   "source": [
    "##### 가열로 호기"
   ]
  },
  {
   "cell_type": "code",
   "execution_count": 20,
   "metadata": {},
   "outputs": [
    {
     "name": "stdout",
     "output_type": "stream",
     "text": [
      "FUR_NO  1호기  2호기  3호기\n",
      "SCALE                \n",
      "불량       73   70   88\n",
      "양품      167  167  155\n",
      "\n",
      "FUR_NO    1호기    2호기    3호기\n",
      "SCALE                      \n",
      "불량      0.304  0.295  0.362\n",
      "양품      0.696  0.705  0.638\n"
     ]
    }
   ],
   "source": [
    "fun_print_crosstab(df_raw, \"FUR_NO\")"
   ]
  },
  {
   "cell_type": "markdown",
   "metadata": {},
   "source": [
    "##### HSB 적용"
   ]
  },
  {
   "cell_type": "code",
   "execution_count": 21,
   "metadata": {},
   "outputs": [
    {
     "name": "stdout",
     "output_type": "stream",
     "text": [
      "HSB    미적용   적용\n",
      "SCALE          \n",
      "불량      33  198\n",
      "양품       0  489\n",
      "\n",
      "HSB    미적용     적용\n",
      "SCALE            \n",
      "불량     1.0  0.288\n",
      "양품     0.0  0.712\n"
     ]
    }
   ],
   "source": [
    "fun_print_crosstab(df_raw, \"HSB\")"
   ]
  },
  {
   "cell_type": "markdown",
   "metadata": {},
   "source": [
    "##### 작업조"
   ]
  },
  {
   "cell_type": "code",
   "execution_count": 22,
   "metadata": {},
   "outputs": [
    {
     "name": "stdout",
     "output_type": "stream",
     "text": [
      "WORK_GR   1조   2조   3조   4조\n",
      "SCALE                      \n",
      "불량        67   45   54   65\n",
      "양품       122  120  118  129\n",
      "\n",
      "WORK_GR     1조     2조     3조     4조\n",
      "SCALE                              \n",
      "불량       0.354  0.273  0.314  0.335\n",
      "양품       0.646  0.727  0.686  0.665\n"
     ]
    }
   ],
   "source": [
    "fun_print_crosstab(df_raw, \"WORK_GR\")"
   ]
  },
  {
   "cell_type": "markdown",
   "metadata": {},
   "source": [
    "#### 목표변수 형변환(문자형 -> 숫자형)"
   ]
  },
  {
   "cell_type": "code",
   "execution_count": 23,
   "metadata": {},
   "outputs": [
    {
     "data": {
      "text/plain": [
       "0    0\n",
       "1    0\n",
       "2    0\n",
       "3    0\n",
       "4    0\n",
       "Name: SCALE, dtype: int32"
      ]
     },
     "execution_count": 23,
     "metadata": {},
     "output_type": "execute_result"
    }
   ],
   "source": [
    "df_raw[\"SCALE\"] = np.where(df_raw[\"SCALE\"]== \"양품\", 0, 1)\n",
    "df_raw[\"SCALE\"].head()"
   ]
  },
  {
   "cell_type": "markdown",
   "metadata": {},
   "source": [
    "#### 데이터 분할"
   ]
  },
  {
   "cell_type": "code",
   "execution_count": 24,
   "metadata": {},
   "outputs": [
    {
     "name": "stdout",
     "output_type": "stream",
     "text": [
      "shape of train data:  (504, 21)\n",
      "shape of test data:  (216, 21)\n"
     ]
    }
   ],
   "source": [
    "df_train, df_test = train_test_split(df_raw, test_size = 0.3, random_state = 1234)\n",
    "print(\"shape of train data: \", df_train.shape)\n",
    "print(\"shape of test data: \", df_test.shape)"
   ]
  },
  {
   "cell_type": "markdown",
   "metadata": {},
   "source": [
    "## 로지스틱"
   ]
  },
  {
   "cell_type": "code",
   "execution_count": 25,
   "metadata": {},
   "outputs": [
    {
     "name": "stdout",
     "output_type": "stream",
     "text": [
      "Warning: Maximum number of iterations has been exceeded.\n",
      "         Current function value: 0.258678\n",
      "         Iterations: 35\n",
      "                           Logit Regression Results                           \n",
      "==============================================================================\n",
      "Dep. Variable:                  SCALE   No. Observations:                  504\n",
      "Model:                          Logit   Df Residuals:                      485\n",
      "Method:                           MLE   Df Model:                           18\n",
      "Date:                Tue, 30 Apr 2019   Pseudo R-squ.:                  0.5861\n",
      "Time:                        17:28:22   Log-Likelihood:                -130.37\n",
      "converged:                      False   LL-Null:                       -314.97\n",
      "                                        LLR p-value:                 2.368e-67\n",
      "=====================================================================================\n",
      "                        coef    std err          z      P>|z|      [0.025      0.975]\n",
      "-------------------------------------------------------------------------------------\n",
      "Intercept           -84.6496   6.24e+04     -0.001      0.999   -1.22e+05    1.22e+05\n",
      "C(FUR_NO)[T.2호기]      0.1144      0.397      0.288      0.773      -0.664       0.893\n",
      "C(FUR_NO)[T.3호기]      0.4030      0.407      0.989      0.323      -0.396       1.202\n",
      "C(HSB)[T.적용]        -30.6562   6.24e+04     -0.000      1.000   -1.22e+05    1.22e+05\n",
      "C(WORK_GR)[T.2조]     -0.7973      0.446     -1.786      0.074      -1.672       0.078\n",
      "C(WORK_GR)[T.3조]     -0.8497      0.499     -1.703      0.089      -1.828       0.128\n",
      "C(WORK_GR)[T.4조]     -0.5060      0.434     -1.166      0.244      -1.356       0.344\n",
      "PT_THK               -0.0369      0.026     -1.439      0.150      -0.087       0.013\n",
      "PT_WDTH              -0.0012      0.000     -2.616      0.009      -0.002      -0.000\n",
      "PT_LTH            -3.727e-05   2.94e-05     -1.266      0.205   -9.49e-05    2.04e-05\n",
      "PT_WGT            -4.192e-06   7.76e-06     -0.540      0.589   -1.94e-05     1.1e-05\n",
      "FUR_NO_ROW           -0.0764      0.325     -0.235      0.814      -0.714       0.561\n",
      "FUR_HZ_TEMP           0.0212      0.016      1.351      0.177      -0.010       0.052\n",
      "FUR_HZ_TIME           0.0122      0.006      2.091      0.037       0.001       0.024\n",
      "FUR_SZ_TEMP           0.0394   8256.760   4.78e-06      1.000   -1.62e+04    1.62e+04\n",
      "FUR_SZ_TIME          -0.0118      0.012     -0.961      0.337      -0.036       0.012\n",
      "FUR_TIME             -0.0027      0.005     -0.519      0.604      -0.013       0.007\n",
      "FUR_EXTEMP            0.0232   8256.760   2.82e-06      1.000   -1.62e+04    1.62e+04\n",
      "ROLLING_TEMP_T5       0.0329      0.005      6.053      0.000       0.022       0.044\n",
      "ROLLING_DESCALING    -0.8932      0.215     -4.154      0.000      -1.315      -0.472\n",
      "=====================================================================================\n"
     ]
    },
    {
     "name": "stderr",
     "output_type": "stream",
     "text": [
      "C:\\Anaconda3\\lib\\site-packages\\statsmodels\\base\\model.py:508: ConvergenceWarning: Maximum Likelihood optimization failed to converge. Check mle_retvals\n",
      "  \"Check mle_retvals\", ConvergenceWarning)\n"
     ]
    }
   ],
   "source": [
    "model_log = sm.Logit.from_formula(\"\"\"SCALE ~ PT_THK + PT_WDTH + PT_LTH + PT_WGT + C(FUR_NO) + \n",
    "                                  FUR_NO_ROW + FUR_HZ_TEMP + FUR_HZ_TIME + FUR_SZ_TEMP + FUR_SZ_TIME + \n",
    "                                  FUR_TIME + FUR_EXTEMP + ROLLING_TEMP_T5 + C(HSB) + ROLLING_DESCALING + C(WORK_GR) + 1\"\"\" ,\n",
    "                                  df_train)\n",
    "\n",
    "# 적합\n",
    "model_result = model_log.fit()\n",
    "# 결과 출력\n",
    "print(model_result.summary())"
   ]
  },
  {
   "cell_type": "markdown",
   "metadata": {},
   "source": [
    "### 예측 & 평가"
   ]
  },
  {
   "cell_type": "code",
   "execution_count": 26,
   "metadata": {},
   "outputs": [
    {
     "name": "stdout",
     "output_type": "stream",
     "text": [
      "Accuracy: 0.861\n",
      "\n",
      "Confusion matrix: \n",
      "[[125  20]\n",
      " [ 10  61]]\n"
     ]
    }
   ],
   "source": [
    "# 평가\n",
    "y_pred = model_result.predict(df_test)\n",
    "# 0과 1의 값을 가진 class로 변환\n",
    "y_pred = (y_pred > 0.5).astype(int)\n",
    "\n",
    "# accuracy_score\n",
    "print(\"Accuracy: {:.3f}\\n\".format(accuracy_score(df_test[\"SCALE\"], y_pred)))\n",
    "# confusion matrix\n",
    "print(\"Confusion matrix: \\n{}\".format(confusion_matrix(df_test[\"SCALE\"], y_pred)))"
   ]
  },
  {
   "cell_type": "markdown",
   "metadata": {},
   "source": [
    "## 의사결정나무"
   ]
  },
  {
   "cell_type": "markdown",
   "metadata": {},
   "source": [
    "### 데이터 전처리"
   ]
  },
  {
   "cell_type": "markdown",
   "metadata": {},
   "source": [
    "#### 변수 역할 지정"
   ]
  },
  {
   "cell_type": "code",
   "execution_count": 27,
   "metadata": {},
   "outputs": [],
   "source": [
    "# 목표변수, 설명변수 데이터 지정\n",
    "df_raw_y = df_raw[\"SCALE\"]\n",
    "df_raw_x = df_raw.drop(\"SCALE\", axis = 1, inplace = False)"
   ]
  },
  {
   "cell_type": "markdown",
   "metadata": {},
   "source": [
    "#### 더미변수 생성"
   ]
  },
  {
   "cell_type": "code",
   "execution_count": 28,
   "metadata": {},
   "outputs": [
    {
     "name": "stdout",
     "output_type": "stream",
     "text": [
      "shape of dummy data: (720, 22)\n"
     ]
    },
    {
     "data": {
      "text/html": [
       "<div>\n",
       "<style scoped>\n",
       "    .dataframe tbody tr th:only-of-type {\n",
       "        vertical-align: middle;\n",
       "    }\n",
       "\n",
       "    .dataframe tbody tr th {\n",
       "        vertical-align: top;\n",
       "    }\n",
       "\n",
       "    .dataframe thead th {\n",
       "        text-align: right;\n",
       "    }\n",
       "</style>\n",
       "<table border=\"1\" class=\"dataframe\">\n",
       "  <thead>\n",
       "    <tr style=\"text-align: right;\">\n",
       "      <th></th>\n",
       "      <th>PT_THK</th>\n",
       "      <th>PT_WDTH</th>\n",
       "      <th>PT_LTH</th>\n",
       "      <th>PT_WGT</th>\n",
       "      <th>FUR_NO_ROW</th>\n",
       "      <th>FUR_HZ_TEMP</th>\n",
       "      <th>FUR_HZ_TIME</th>\n",
       "      <th>FUR_SZ_TEMP</th>\n",
       "      <th>FUR_SZ_TIME</th>\n",
       "      <th>FUR_TIME</th>\n",
       "      <th>...</th>\n",
       "      <th>ROLLING_DESCALING</th>\n",
       "      <th>FUR_NO_1호기</th>\n",
       "      <th>FUR_NO_2호기</th>\n",
       "      <th>FUR_NO_3호기</th>\n",
       "      <th>HSB_미적용</th>\n",
       "      <th>HSB_적용</th>\n",
       "      <th>WORK_GR_1조</th>\n",
       "      <th>WORK_GR_2조</th>\n",
       "      <th>WORK_GR_3조</th>\n",
       "      <th>WORK_GR_4조</th>\n",
       "    </tr>\n",
       "  </thead>\n",
       "  <tbody>\n",
       "    <tr>\n",
       "      <th>0</th>\n",
       "      <td>32.25</td>\n",
       "      <td>3707</td>\n",
       "      <td>15109</td>\n",
       "      <td>14180</td>\n",
       "      <td>1</td>\n",
       "      <td>1144</td>\n",
       "      <td>116</td>\n",
       "      <td>1133</td>\n",
       "      <td>59</td>\n",
       "      <td>282</td>\n",
       "      <td>...</td>\n",
       "      <td>8</td>\n",
       "      <td>1</td>\n",
       "      <td>0</td>\n",
       "      <td>0</td>\n",
       "      <td>0</td>\n",
       "      <td>1</td>\n",
       "      <td>0</td>\n",
       "      <td>1</td>\n",
       "      <td>0</td>\n",
       "      <td>0</td>\n",
       "    </tr>\n",
       "    <tr>\n",
       "      <th>1</th>\n",
       "      <td>32.25</td>\n",
       "      <td>3707</td>\n",
       "      <td>15109</td>\n",
       "      <td>14180</td>\n",
       "      <td>2</td>\n",
       "      <td>1144</td>\n",
       "      <td>122</td>\n",
       "      <td>1135</td>\n",
       "      <td>53</td>\n",
       "      <td>283</td>\n",
       "      <td>...</td>\n",
       "      <td>8</td>\n",
       "      <td>1</td>\n",
       "      <td>0</td>\n",
       "      <td>0</td>\n",
       "      <td>0</td>\n",
       "      <td>1</td>\n",
       "      <td>0</td>\n",
       "      <td>1</td>\n",
       "      <td>0</td>\n",
       "      <td>0</td>\n",
       "    </tr>\n",
       "    <tr>\n",
       "      <th>2</th>\n",
       "      <td>33.27</td>\n",
       "      <td>3619</td>\n",
       "      <td>19181</td>\n",
       "      <td>18130</td>\n",
       "      <td>1</td>\n",
       "      <td>1129</td>\n",
       "      <td>116</td>\n",
       "      <td>1121</td>\n",
       "      <td>55</td>\n",
       "      <td>282</td>\n",
       "      <td>...</td>\n",
       "      <td>8</td>\n",
       "      <td>0</td>\n",
       "      <td>1</td>\n",
       "      <td>0</td>\n",
       "      <td>0</td>\n",
       "      <td>1</td>\n",
       "      <td>0</td>\n",
       "      <td>0</td>\n",
       "      <td>1</td>\n",
       "      <td>0</td>\n",
       "    </tr>\n",
       "    <tr>\n",
       "      <th>3</th>\n",
       "      <td>33.27</td>\n",
       "      <td>3619</td>\n",
       "      <td>19181</td>\n",
       "      <td>18130</td>\n",
       "      <td>2</td>\n",
       "      <td>1152</td>\n",
       "      <td>125</td>\n",
       "      <td>1127</td>\n",
       "      <td>68</td>\n",
       "      <td>316</td>\n",
       "      <td>...</td>\n",
       "      <td>8</td>\n",
       "      <td>0</td>\n",
       "      <td>1</td>\n",
       "      <td>0</td>\n",
       "      <td>0</td>\n",
       "      <td>1</td>\n",
       "      <td>0</td>\n",
       "      <td>0</td>\n",
       "      <td>1</td>\n",
       "      <td>0</td>\n",
       "    </tr>\n",
       "    <tr>\n",
       "      <th>4</th>\n",
       "      <td>38.33</td>\n",
       "      <td>3098</td>\n",
       "      <td>13334</td>\n",
       "      <td>12430</td>\n",
       "      <td>1</td>\n",
       "      <td>1140</td>\n",
       "      <td>134</td>\n",
       "      <td>1128</td>\n",
       "      <td>48</td>\n",
       "      <td>314</td>\n",
       "      <td>...</td>\n",
       "      <td>8</td>\n",
       "      <td>0</td>\n",
       "      <td>0</td>\n",
       "      <td>1</td>\n",
       "      <td>0</td>\n",
       "      <td>1</td>\n",
       "      <td>1</td>\n",
       "      <td>0</td>\n",
       "      <td>0</td>\n",
       "      <td>0</td>\n",
       "    </tr>\n",
       "  </tbody>\n",
       "</table>\n",
       "<p>5 rows × 22 columns</p>\n",
       "</div>"
      ],
      "text/plain": [
       "   PT_THK  PT_WDTH  PT_LTH  PT_WGT  FUR_NO_ROW  FUR_HZ_TEMP  FUR_HZ_TIME  \\\n",
       "0   32.25     3707   15109   14180           1         1144          116   \n",
       "1   32.25     3707   15109   14180           2         1144          122   \n",
       "2   33.27     3619   19181   18130           1         1129          116   \n",
       "3   33.27     3619   19181   18130           2         1152          125   \n",
       "4   38.33     3098   13334   12430           1         1140          134   \n",
       "\n",
       "   FUR_SZ_TEMP  FUR_SZ_TIME  FUR_TIME  ...  ROLLING_DESCALING  FUR_NO_1호기  \\\n",
       "0         1133           59       282  ...                  8           1   \n",
       "1         1135           53       283  ...                  8           1   \n",
       "2         1121           55       282  ...                  8           0   \n",
       "3         1127           68       316  ...                  8           0   \n",
       "4         1128           48       314  ...                  8           0   \n",
       "\n",
       "   FUR_NO_2호기  FUR_NO_3호기  HSB_미적용  HSB_적용  WORK_GR_1조  WORK_GR_2조  \\\n",
       "0           0           0        0       1           0           1   \n",
       "1           0           0        0       1           0           1   \n",
       "2           1           0        0       1           0           0   \n",
       "3           1           0        0       1           0           0   \n",
       "4           0           1        0       1           1           0   \n",
       "\n",
       "   WORK_GR_3조  WORK_GR_4조  \n",
       "0           0           0  \n",
       "1           0           0  \n",
       "2           1           0  \n",
       "3           1           0  \n",
       "4           0           0  \n",
       "\n",
       "[5 rows x 22 columns]"
      ]
     },
     "execution_count": 28,
     "metadata": {},
     "output_type": "execute_result"
    }
   ],
   "source": [
    "df_dummy = pd.get_dummies(df_raw_x.drop([\"PLATE_NO\", \"ROLLING_DATE\", \"SPEC\", \"STEEL_KIND\"], axis = 1, inplace = False))\n",
    "print(\"shape of dummy data:\", df_dummy.shape)\n",
    "df_dummy.head()"
   ]
  },
  {
   "cell_type": "markdown",
   "metadata": {},
   "source": [
    "#### 데이터 분할"
   ]
  },
  {
   "cell_type": "code",
   "execution_count": 29,
   "metadata": {},
   "outputs": [],
   "source": [
    "df_train_x, df_test_x, df_train_y, df_test_y = train_test_split(df_dummy, df_raw_y, test_size = 0.3, random_state = 1234)"
   ]
  },
  {
   "cell_type": "markdown",
   "metadata": {},
   "source": [
    "## 의사결정나무"
   ]
  },
  {
   "cell_type": "markdown",
   "metadata": {},
   "source": [
    "#### 기본 옵션으로 트리 생성"
   ]
  },
  {
   "cell_type": "code",
   "execution_count": 30,
   "metadata": {},
   "outputs": [
    {
     "name": "stdout",
     "output_type": "stream",
     "text": [
      "Accucary on train set: 1.000\n",
      "Accucary on test set: 0.968\n"
     ]
    }
   ],
   "source": [
    "tree_uncustomized = DecisionTreeClassifier(random_state=1234)\n",
    "tree_uncustomized.fit(df_train_x, df_train_y)\n",
    "# 훈련 데이터 정확도\n",
    "print(\"Accucary on train set: {:.3f}\".format(tree_uncustomized.score(df_train_x, df_train_y)))\n",
    "# test 데이터 정확도\n",
    "print(\"Accucary on test set: {:.3f}\".format(tree_uncustomized.score(df_test_x, df_test_y)))"
   ]
  },
  {
   "cell_type": "markdown",
   "metadata": {},
   "source": [
    "#### max_depth: 최대 깊이 변경에 따른 정확도 변화"
   ]
  },
  {
   "cell_type": "code",
   "execution_count": 31,
   "metadata": {},
   "outputs": [
    {
     "data": {
      "text/html": [
       "<div>\n",
       "<style scoped>\n",
       "    .dataframe tbody tr th:only-of-type {\n",
       "        vertical-align: middle;\n",
       "    }\n",
       "\n",
       "    .dataframe tbody tr th {\n",
       "        vertical-align: top;\n",
       "    }\n",
       "\n",
       "    .dataframe thead th {\n",
       "        text-align: right;\n",
       "    }\n",
       "</style>\n",
       "<table border=\"1\" class=\"dataframe\">\n",
       "  <thead>\n",
       "    <tr style=\"text-align: right;\">\n",
       "      <th></th>\n",
       "      <th>Depth</th>\n",
       "      <th>TrainAccuracy</th>\n",
       "      <th>TestAccuracy</th>\n",
       "    </tr>\n",
       "  </thead>\n",
       "  <tbody>\n",
       "    <tr>\n",
       "      <th>0</th>\n",
       "      <td>1</td>\n",
       "      <td>0.887</td>\n",
       "      <td>0.898</td>\n",
       "    </tr>\n",
       "    <tr>\n",
       "      <th>1</th>\n",
       "      <td>2</td>\n",
       "      <td>0.929</td>\n",
       "      <td>0.944</td>\n",
       "    </tr>\n",
       "    <tr>\n",
       "      <th>2</th>\n",
       "      <td>3</td>\n",
       "      <td>0.958</td>\n",
       "      <td>0.972</td>\n",
       "    </tr>\n",
       "    <tr>\n",
       "      <th>3</th>\n",
       "      <td>4</td>\n",
       "      <td>0.966</td>\n",
       "      <td>0.977</td>\n",
       "    </tr>\n",
       "    <tr>\n",
       "      <th>4</th>\n",
       "      <td>5</td>\n",
       "      <td>0.968</td>\n",
       "      <td>0.977</td>\n",
       "    </tr>\n",
       "    <tr>\n",
       "      <th>5</th>\n",
       "      <td>6</td>\n",
       "      <td>0.972</td>\n",
       "      <td>0.977</td>\n",
       "    </tr>\n",
       "    <tr>\n",
       "      <th>6</th>\n",
       "      <td>7</td>\n",
       "      <td>0.972</td>\n",
       "      <td>0.977</td>\n",
       "    </tr>\n",
       "    <tr>\n",
       "      <th>7</th>\n",
       "      <td>8</td>\n",
       "      <td>0.976</td>\n",
       "      <td>0.977</td>\n",
       "    </tr>\n",
       "    <tr>\n",
       "      <th>8</th>\n",
       "      <td>9</td>\n",
       "      <td>0.982</td>\n",
       "      <td>0.981</td>\n",
       "    </tr>\n",
       "    <tr>\n",
       "      <th>9</th>\n",
       "      <td>10</td>\n",
       "      <td>0.982</td>\n",
       "      <td>0.981</td>\n",
       "    </tr>\n",
       "  </tbody>\n",
       "</table>\n",
       "</div>"
      ],
      "text/plain": [
       "   Depth  TrainAccuracy  TestAccuracy\n",
       "0      1          0.887         0.898\n",
       "1      2          0.929         0.944\n",
       "2      3          0.958         0.972\n",
       "3      4          0.966         0.977\n",
       "4      5          0.968         0.977\n",
       "5      6          0.972         0.977\n",
       "6      7          0.972         0.977\n",
       "7      8          0.976         0.977\n",
       "8      9          0.982         0.981\n",
       "9     10          0.982         0.981"
      ]
     },
     "execution_count": 31,
     "metadata": {},
     "output_type": "execute_result"
    }
   ],
   "source": [
    "# train 및 test 정확도 결과 저장용\n",
    "train_accuracy = []; test_accuracy = []\n",
    "# max_depth: 최대 깊이 변경\n",
    "para_depth = [depth for depth in range(1, 11)]\n",
    "\n",
    "for v_max_depth in para_depth:\n",
    "    tree = DecisionTreeClassifier(max_depth = v_max_depth, random_state=1234)\n",
    "    tree.fit(df_train_x, df_train_y)\n",
    "    train_accuracy.append(tree.score(df_train_x, df_train_y))\n",
    "    test_accuracy.append(tree.score(df_test_x, df_test_y))\n",
    "\n",
    "# 데이터 테이블로 저장\n",
    "df_accuracy_depth = pd.DataFrame()\n",
    "df_accuracy_depth[\"Depth\"] = para_depth\n",
    "df_accuracy_depth[\"TrainAccuracy\"] = train_accuracy\n",
    "df_accuracy_depth[\"TestAccuracy\"] = test_accuracy\n",
    "df_accuracy_depth"
   ]
  },
  {
   "cell_type": "code",
   "execution_count": 32,
   "metadata": {},
   "outputs": [
    {
     "data": {
      "text/plain": [
       "<matplotlib.legend.Legend at 0x158b4f60>"
      ]
     },
     "execution_count": 32,
     "metadata": {},
     "output_type": "execute_result"
    },
    {
     "data": {
      "image/png": "[encoded data removed]",
      "text/plain": [
       "<Figure size 432x288 with 1 Axes>"
      ]
     },
     "metadata": {
      "needs_background": "light"
     },
     "output_type": "display_data"
    }
   ],
   "source": [
    "# 정확도를 그래프로 표현\n",
    "plt.plot(para_depth, train_accuracy, linestyle = \"-\", label = \"Train Accuracy\")\n",
    "plt.plot(para_depth, test_accuracy, linestyle = \"--\", label = \"Test Accuracy\")\n",
    "plt.xlabel(\"max_depth\"); plt.ylabel(\"accuracy\")\n",
    "plt.legend()"
   ]
  },
  {
   "cell_type": "markdown",
   "metadata": {},
   "source": [
    "max_depth = 4"
   ]
  },
  {
   "cell_type": "markdown",
   "metadata": {},
   "source": [
    "#### min_samples_leaf: 잎사귀 노드의 샘플 수 제한"
   ]
  },
  {
   "cell_type": "code",
   "execution_count": 33,
   "metadata": {},
   "outputs": [
    {
     "data": {
      "text/html": [
       "<div>\n",
       "<style scoped>\n",
       "    .dataframe tbody tr th:only-of-type {\n",
       "        vertical-align: middle;\n",
       "    }\n",
       "\n",
       "    .dataframe tbody tr th {\n",
       "        vertical-align: top;\n",
       "    }\n",
       "\n",
       "    .dataframe thead th {\n",
       "        text-align: right;\n",
       "    }\n",
       "</style>\n",
       "<table border=\"1\" class=\"dataframe\">\n",
       "  <thead>\n",
       "    <tr style=\"text-align: right;\">\n",
       "      <th></th>\n",
       "      <th>MinSamplesLeaf</th>\n",
       "      <th>TrainAccuracy</th>\n",
       "      <th>TestAccuracy</th>\n",
       "    </tr>\n",
       "  </thead>\n",
       "  <tbody>\n",
       "    <tr>\n",
       "      <th>0</th>\n",
       "      <td>10</td>\n",
       "      <td>0.958</td>\n",
       "      <td>0.972</td>\n",
       "    </tr>\n",
       "    <tr>\n",
       "      <th>1</th>\n",
       "      <td>20</td>\n",
       "      <td>0.944</td>\n",
       "      <td>0.963</td>\n",
       "    </tr>\n",
       "    <tr>\n",
       "      <th>2</th>\n",
       "      <td>30</td>\n",
       "      <td>0.897</td>\n",
       "      <td>0.903</td>\n",
       "    </tr>\n",
       "    <tr>\n",
       "      <th>3</th>\n",
       "      <td>40</td>\n",
       "      <td>0.887</td>\n",
       "      <td>0.898</td>\n",
       "    </tr>\n",
       "    <tr>\n",
       "      <th>4</th>\n",
       "      <td>50</td>\n",
       "      <td>0.887</td>\n",
       "      <td>0.898</td>\n",
       "    </tr>\n",
       "    <tr>\n",
       "      <th>5</th>\n",
       "      <td>60</td>\n",
       "      <td>0.887</td>\n",
       "      <td>0.898</td>\n",
       "    </tr>\n",
       "    <tr>\n",
       "      <th>6</th>\n",
       "      <td>70</td>\n",
       "      <td>0.887</td>\n",
       "      <td>0.898</td>\n",
       "    </tr>\n",
       "    <tr>\n",
       "      <th>7</th>\n",
       "      <td>80</td>\n",
       "      <td>0.887</td>\n",
       "      <td>0.898</td>\n",
       "    </tr>\n",
       "    <tr>\n",
       "      <th>8</th>\n",
       "      <td>90</td>\n",
       "      <td>0.887</td>\n",
       "      <td>0.898</td>\n",
       "    </tr>\n",
       "    <tr>\n",
       "      <th>9</th>\n",
       "      <td>100</td>\n",
       "      <td>0.887</td>\n",
       "      <td>0.898</td>\n",
       "    </tr>\n",
       "  </tbody>\n",
       "</table>\n",
       "</div>"
      ],
      "text/plain": [
       "   MinSamplesLeaf  TrainAccuracy  TestAccuracy\n",
       "0              10          0.958         0.972\n",
       "1              20          0.944         0.963\n",
       "2              30          0.897         0.903\n",
       "3              40          0.887         0.898\n",
       "4              50          0.887         0.898\n",
       "5              60          0.887         0.898\n",
       "6              70          0.887         0.898\n",
       "7              80          0.887         0.898\n",
       "8              90          0.887         0.898\n",
       "9             100          0.887         0.898"
      ]
     },
     "execution_count": 33,
     "metadata": {},
     "output_type": "execute_result"
    }
   ],
   "source": [
    "# train 및 test 정확도 결과 저장용\n",
    "train_accuracy = []; test_accuracy = []\n",
    "# min_samples_leaf: 잎사귀 수 제한\n",
    "para_leaf = [n_leaf * 10 for n_leaf in range(1, 11)]\n",
    "\n",
    "for v_min_samples_leaf in para_leaf:\n",
    "    tree = DecisionTreeClassifier(min_samples_leaf = v_min_samples_leaf, max_depth=4, random_state=1234)\n",
    "    tree.fit(df_train_x, df_train_y)\n",
    "    train_accuracy.append(tree.score(df_train_x, df_train_y))\n",
    "    test_accuracy.append(tree.score(df_test_x, df_test_y))\n",
    "\n",
    "# 데이터 테이블로 저장\n",
    "df_accuracy_leaf = pd.DataFrame()\n",
    "df_accuracy_leaf[\"MinSamplesLeaf\"] = para_leaf\n",
    "df_accuracy_leaf[\"TrainAccuracy\"] = train_accuracy\n",
    "df_accuracy_leaf[\"TestAccuracy\"] = test_accuracy\n",
    "df_accuracy_leaf"
   ]
  },
  {
   "cell_type": "code",
   "execution_count": 34,
   "metadata": {},
   "outputs": [
    {
     "data": {
      "text/plain": [
       "<matplotlib.legend.Legend at 0x147450b8>"
      ]
     },
     "execution_count": 34,
     "metadata": {},
     "output_type": "execute_result"
    },
    {
     "data": {
      "image/png": "[encoded data removed]",
      "text/plain": [
       "<Figure size 432x288 with 1 Axes>"
      ]
     },
     "metadata": {
      "needs_background": "light"
     },
     "output_type": "display_data"
    }
   ],
   "source": [
    "# 정확도를 그래프로 표현\n",
    "plt.plot(para_leaf, train_accuracy, linestyle = \"-\", label = \"Train Accuracy\")\n",
    "plt.plot(para_leaf, test_accuracy, linestyle = \"--\", label = \"Test Accuracy\")\n",
    "plt.xlabel(\"min_samples_leaf\"); plt.ylabel(\"accuracy\")\n",
    "plt.legend()"
   ]
  },
  {
   "cell_type": "markdown",
   "metadata": {},
   "source": [
    "min_samples_leaf = 20"
   ]
  },
  {
   "cell_type": "markdown",
   "metadata": {},
   "source": [
    "#### min_samples_split: 분할하기 위한 노드의 최소 샘플 수"
   ]
  },
  {
   "cell_type": "code",
   "execution_count": 35,
   "metadata": {},
   "outputs": [
    {
     "data": {
      "text/html": [
       "<div>\n",
       "<style scoped>\n",
       "    .dataframe tbody tr th:only-of-type {\n",
       "        vertical-align: middle;\n",
       "    }\n",
       "\n",
       "    .dataframe tbody tr th {\n",
       "        vertical-align: top;\n",
       "    }\n",
       "\n",
       "    .dataframe thead th {\n",
       "        text-align: right;\n",
       "    }\n",
       "</style>\n",
       "<table border=\"1\" class=\"dataframe\">\n",
       "  <thead>\n",
       "    <tr style=\"text-align: right;\">\n",
       "      <th></th>\n",
       "      <th>MinSamplesSplit</th>\n",
       "      <th>TrainAccuracy</th>\n",
       "      <th>TestAccuracy</th>\n",
       "    </tr>\n",
       "  </thead>\n",
       "  <tbody>\n",
       "    <tr>\n",
       "      <th>0</th>\n",
       "      <td>20</td>\n",
       "      <td>0.944</td>\n",
       "      <td>0.963</td>\n",
       "    </tr>\n",
       "    <tr>\n",
       "      <th>1</th>\n",
       "      <td>40</td>\n",
       "      <td>0.944</td>\n",
       "      <td>0.963</td>\n",
       "    </tr>\n",
       "    <tr>\n",
       "      <th>2</th>\n",
       "      <td>60</td>\n",
       "      <td>0.944</td>\n",
       "      <td>0.963</td>\n",
       "    </tr>\n",
       "    <tr>\n",
       "      <th>3</th>\n",
       "      <td>80</td>\n",
       "      <td>0.944</td>\n",
       "      <td>0.963</td>\n",
       "    </tr>\n",
       "    <tr>\n",
       "      <th>4</th>\n",
       "      <td>100</td>\n",
       "      <td>0.944</td>\n",
       "      <td>0.963</td>\n",
       "    </tr>\n",
       "    <tr>\n",
       "      <th>5</th>\n",
       "      <td>120</td>\n",
       "      <td>0.944</td>\n",
       "      <td>0.963</td>\n",
       "    </tr>\n",
       "    <tr>\n",
       "      <th>6</th>\n",
       "      <td>140</td>\n",
       "      <td>0.944</td>\n",
       "      <td>0.963</td>\n",
       "    </tr>\n",
       "    <tr>\n",
       "      <th>7</th>\n",
       "      <td>160</td>\n",
       "      <td>0.944</td>\n",
       "      <td>0.963</td>\n",
       "    </tr>\n",
       "    <tr>\n",
       "      <th>8</th>\n",
       "      <td>180</td>\n",
       "      <td>0.944</td>\n",
       "      <td>0.963</td>\n",
       "    </tr>\n",
       "    <tr>\n",
       "      <th>9</th>\n",
       "      <td>200</td>\n",
       "      <td>0.944</td>\n",
       "      <td>0.963</td>\n",
       "    </tr>\n",
       "  </tbody>\n",
       "</table>\n",
       "</div>"
      ],
      "text/plain": [
       "   MinSamplesSplit  TrainAccuracy  TestAccuracy\n",
       "0               20          0.944         0.963\n",
       "1               40          0.944         0.963\n",
       "2               60          0.944         0.963\n",
       "3               80          0.944         0.963\n",
       "4              100          0.944         0.963\n",
       "5              120          0.944         0.963\n",
       "6              140          0.944         0.963\n",
       "7              160          0.944         0.963\n",
       "8              180          0.944         0.963\n",
       "9              200          0.944         0.963"
      ]
     },
     "execution_count": 35,
     "metadata": {},
     "output_type": "execute_result"
    }
   ],
   "source": [
    "# train 및 test 정확도 결과 저장용\n",
    "train_accuracy = []; test_accuracy = []\n",
    "# min_samples_split: 분할하기 위한 노드의 최소 샘플 수 \n",
    "para_split = [n_split * 20 for n_split in range(1, 11)]\n",
    "\n",
    "for v_min_samples_split in para_split:\n",
    "    tree = DecisionTreeClassifier(min_samples_split=v_min_samples_split, min_samples_leaf = 20, max_depth = 4, random_state=1234)\n",
    "    tree.fit(df_train_x, df_train_y)\n",
    "    train_accuracy.append(tree.score(df_train_x, df_train_y))\n",
    "    test_accuracy.append(tree.score(df_test_x, df_test_y))\n",
    "\n",
    "# 데이터 테이블로 저장\n",
    "df_accuracy_split = pd.DataFrame()\n",
    "df_accuracy_split[\"MinSamplesSplit\"] = para_split\n",
    "df_accuracy_split[\"TrainAccuracy\"] = train_accuracy\n",
    "df_accuracy_split[\"TestAccuracy\"] = test_accuracy\n",
    "df_accuracy_split"
   ]
  },
  {
   "cell_type": "code",
   "execution_count": 36,
   "metadata": {},
   "outputs": [
    {
     "data": {
      "text/plain": [
       "<matplotlib.legend.Legend at 0x146cc240>"
      ]
     },
     "execution_count": 36,
     "metadata": {},
     "output_type": "execute_result"
    },
    {
     "data": {
      "image/png": "[encoded data removed]",
      "text/plain": [
       "<Figure size 432x288 with 1 Axes>"
      ]
     },
     "metadata": {
      "needs_background": "light"
     },
     "output_type": "display_data"
    }
   ],
   "source": [
    "# 정확도를 그래프로 표현\n",
    "plt.plot(para_split, train_accuracy, linestyle = \"-\", label = \"Train Accuracy\")\n",
    "plt.plot(para_split, test_accuracy, linestyle = \"--\", label = \"Test Accuracy\")\n",
    "plt.xlabel(\"min_samples_split\"); plt.ylabel(\"accuracy\")\n",
    "plt.legend()"
   ]
  },
  {
   "cell_type": "markdown",
   "metadata": {},
   "source": [
    "### 최종 모델"
   ]
  },
  {
   "cell_type": "code",
   "execution_count": 37,
   "metadata": {},
   "outputs": [
    {
     "data": {
      "text/plain": [
       "DecisionTreeClassifier(class_weight=None, criterion='gini', max_depth=4,\n",
       "            max_features=None, max_leaf_nodes=None,\n",
       "            min_impurity_decrease=0.0, min_impurity_split=None,\n",
       "            min_samples_leaf=20, min_samples_split=2,\n",
       "            min_weight_fraction_leaf=0.0, presort=False, random_state=None,\n",
       "            splitter='best')"
      ]
     },
     "execution_count": 37,
     "metadata": {},
     "output_type": "execute_result"
    }
   ],
   "source": [
    "tree_final = DecisionTreeClassifier(max_depth = 4, min_samples_leaf = 20)\n",
    "tree_final.fit(df_train_x, df_train_y)"
   ]
  },
  {
   "cell_type": "markdown",
   "metadata": {},
   "source": [
    "### 예측 & 평가"
   ]
  },
  {
   "cell_type": "code",
   "execution_count": 38,
   "metadata": {},
   "outputs": [
    {
     "name": "stdout",
     "output_type": "stream",
     "text": [
      "Accuracy: 0.963\n",
      "\n",
      "Confusion matrix: \n",
      "[[143   2]\n",
      " [  6  65]]\n"
     ]
    }
   ],
   "source": [
    "# 평가\n",
    "y_pred = tree_final.predict(df_test_x)\n",
    "print(\"Accuracy: {0:.3f}\\n\".format(tree_final.score(df_test_x, df_test_y)))\n",
    "print(\"Confusion matrix: \\n{}\".format(confusion_matrix(df_test_y, y_pred)))"
   ]
  },
  {
   "cell_type": "markdown",
   "metadata": {},
   "source": [
    "### 변수 중요도"
   ]
  },
  {
   "cell_type": "code",
   "execution_count": 39,
   "metadata": {},
   "outputs": [
    {
     "data": {
      "text/html": [
       "<div>\n",
       "<style scoped>\n",
       "    .dataframe tbody tr th:only-of-type {\n",
       "        vertical-align: middle;\n",
       "    }\n",
       "\n",
       "    .dataframe tbody tr th {\n",
       "        vertical-align: top;\n",
       "    }\n",
       "\n",
       "    .dataframe thead th {\n",
       "        text-align: right;\n",
       "    }\n",
       "</style>\n",
       "<table border=\"1\" class=\"dataframe\">\n",
       "  <thead>\n",
       "    <tr style=\"text-align: right;\">\n",
       "      <th></th>\n",
       "      <th>Feature</th>\n",
       "      <th>Importance</th>\n",
       "    </tr>\n",
       "  </thead>\n",
       "  <tbody>\n",
       "    <tr>\n",
       "      <th>11</th>\n",
       "      <td>ROLLING_TEMP_T5</td>\n",
       "      <td>0.704</td>\n",
       "    </tr>\n",
       "    <tr>\n",
       "      <th>16</th>\n",
       "      <td>HSB_미적용</td>\n",
       "      <td>0.191</td>\n",
       "    </tr>\n",
       "    <tr>\n",
       "      <th>10</th>\n",
       "      <td>FUR_EXTEMP</td>\n",
       "      <td>0.094</td>\n",
       "    </tr>\n",
       "    <tr>\n",
       "      <th>12</th>\n",
       "      <td>ROLLING_DESCALING</td>\n",
       "      <td>0.011</td>\n",
       "    </tr>\n",
       "    <tr>\n",
       "      <th>20</th>\n",
       "      <td>WORK_GR_3조</td>\n",
       "      <td>0.000</td>\n",
       "    </tr>\n",
       "    <tr>\n",
       "      <th>19</th>\n",
       "      <td>WORK_GR_2조</td>\n",
       "      <td>0.000</td>\n",
       "    </tr>\n",
       "    <tr>\n",
       "      <th>18</th>\n",
       "      <td>WORK_GR_1조</td>\n",
       "      <td>0.000</td>\n",
       "    </tr>\n",
       "    <tr>\n",
       "      <th>17</th>\n",
       "      <td>HSB_적용</td>\n",
       "      <td>0.000</td>\n",
       "    </tr>\n",
       "    <tr>\n",
       "      <th>15</th>\n",
       "      <td>FUR_NO_3호기</td>\n",
       "      <td>0.000</td>\n",
       "    </tr>\n",
       "    <tr>\n",
       "      <th>14</th>\n",
       "      <td>FUR_NO_2호기</td>\n",
       "      <td>0.000</td>\n",
       "    </tr>\n",
       "    <tr>\n",
       "      <th>13</th>\n",
       "      <td>FUR_NO_1호기</td>\n",
       "      <td>0.000</td>\n",
       "    </tr>\n",
       "    <tr>\n",
       "      <th>0</th>\n",
       "      <td>PT_THK</td>\n",
       "      <td>0.000</td>\n",
       "    </tr>\n",
       "    <tr>\n",
       "      <th>1</th>\n",
       "      <td>PT_WDTH</td>\n",
       "      <td>0.000</td>\n",
       "    </tr>\n",
       "    <tr>\n",
       "      <th>9</th>\n",
       "      <td>FUR_TIME</td>\n",
       "      <td>0.000</td>\n",
       "    </tr>\n",
       "    <tr>\n",
       "      <th>8</th>\n",
       "      <td>FUR_SZ_TIME</td>\n",
       "      <td>0.000</td>\n",
       "    </tr>\n",
       "    <tr>\n",
       "      <th>7</th>\n",
       "      <td>FUR_SZ_TEMP</td>\n",
       "      <td>0.000</td>\n",
       "    </tr>\n",
       "    <tr>\n",
       "      <th>6</th>\n",
       "      <td>FUR_HZ_TIME</td>\n",
       "      <td>0.000</td>\n",
       "    </tr>\n",
       "    <tr>\n",
       "      <th>5</th>\n",
       "      <td>FUR_HZ_TEMP</td>\n",
       "      <td>0.000</td>\n",
       "    </tr>\n",
       "    <tr>\n",
       "      <th>4</th>\n",
       "      <td>FUR_NO_ROW</td>\n",
       "      <td>0.000</td>\n",
       "    </tr>\n",
       "    <tr>\n",
       "      <th>3</th>\n",
       "      <td>PT_WGT</td>\n",
       "      <td>0.000</td>\n",
       "    </tr>\n",
       "    <tr>\n",
       "      <th>2</th>\n",
       "      <td>PT_LTH</td>\n",
       "      <td>0.000</td>\n",
       "    </tr>\n",
       "    <tr>\n",
       "      <th>21</th>\n",
       "      <td>WORK_GR_4조</td>\n",
       "      <td>0.000</td>\n",
       "    </tr>\n",
       "  </tbody>\n",
       "</table>\n",
       "</div>"
      ],
      "text/plain": [
       "              Feature  Importance\n",
       "11    ROLLING_TEMP_T5       0.704\n",
       "16            HSB_미적용       0.191\n",
       "10         FUR_EXTEMP       0.094\n",
       "12  ROLLING_DESCALING       0.011\n",
       "20         WORK_GR_3조       0.000\n",
       "19         WORK_GR_2조       0.000\n",
       "18         WORK_GR_1조       0.000\n",
       "17             HSB_적용       0.000\n",
       "15         FUR_NO_3호기       0.000\n",
       "14         FUR_NO_2호기       0.000\n",
       "13         FUR_NO_1호기       0.000\n",
       "0              PT_THK       0.000\n",
       "1             PT_WDTH       0.000\n",
       "9            FUR_TIME       0.000\n",
       "8         FUR_SZ_TIME       0.000\n",
       "7         FUR_SZ_TEMP       0.000\n",
       "6         FUR_HZ_TIME       0.000\n",
       "5         FUR_HZ_TEMP       0.000\n",
       "4          FUR_NO_ROW       0.000\n",
       "3              PT_WGT       0.000\n",
       "2              PT_LTH       0.000\n",
       "21         WORK_GR_4조       0.000"
      ]
     },
     "execution_count": 39,
     "metadata": {},
     "output_type": "execute_result"
    }
   ],
   "source": [
    "# tree.feature_importances_로 설명변수 중요도 확인 및 테이블로 저장\n",
    "df_importance = pd.DataFrame()\n",
    "df_importance[\"Feature\"] = df_train_x.columns\n",
    "df_importance[\"Importance\"] = tree_final.feature_importances_\n",
    "\n",
    "# ds_feature_importance의 테이블을 중요도별로 정렬\n",
    "df_importance.sort_values(\"Importance\", ascending=False, inplace = True)\n",
    "df_importance"
   ]
  },
  {
   "cell_type": "code",
   "execution_count": 40,
   "metadata": {},
   "outputs": [
    {
     "data": {
      "text/plain": [
       "Text(0,0.5,'설명변수')"
      ]
     },
     "execution_count": 40,
     "metadata": {},
     "output_type": "execute_result"
    },
    {
     "data": {
      "image/png": "[encoded data removed]",
      "text/plain": [
       "<Figure size 432x288 with 1 Axes>"
      ]
     },
     "metadata": {
      "needs_background": "light"
     },
     "output_type": "display_data"
    }
   ],
   "source": [
    "# 설명변수 중요도 그래프\n",
    "# 중요도가 높은 변수를 상위에 그림. \n",
    "df_importance.sort_values(\"Importance\", ascending=True, inplace = True)\n",
    "coordinates = range(len(df_importance))\n",
    "plt.barh(y = coordinates, width = df_importance[\"Importance\"])\n",
    "plt.yticks(coordinates, df_importance[\"Feature\"])\n",
    "plt.xlabel(\"설명변수 중요도\")\n",
    "plt.ylabel(\"설명변수\")"
   ]
  },
  {
   "cell_type": "markdown",
   "metadata": {},
   "source": [
    "## 랜덤포레스트"
   ]
  },
  {
   "cell_type": "markdown",
   "metadata": {},
   "source": [
    "#### 기본 옵션으로 트리 생성"
   ]
  },
  {
   "cell_type": "code",
   "execution_count": 41,
   "metadata": {},
   "outputs": [
    {
     "name": "stdout",
     "output_type": "stream",
     "text": [
      "Accuracy on train set: 0.992\n",
      "Accuracy on test set: 0.963\n"
     ]
    },
    {
     "name": "stderr",
     "output_type": "stream",
     "text": [
      "C:\\Anaconda3\\lib\\site-packages\\sklearn\\ensemble\\forest.py:246: FutureWarning: The default value of n_estimators will change from 10 in version 0.20 to 100 in 0.22.\n",
      "  \"10 in version 0.20 to 100 in 0.22.\", FutureWarning)\n"
     ]
    }
   ],
   "source": [
    "# 랜덤 포레스트 모델 생성: RandomForestClassifier\n",
    "rf_uncustomized = RandomForestClassifier(random_state=1234)\n",
    "rf_uncustomized.fit(df_train_x, df_train_y)\n",
    "# 훈련 데이터 셋 정확도\n",
    "print(\"Accuracy on train set: {:.3f}\".format(rf_uncustomized.score(df_train_x, df_train_y)))\n",
    "# 테스트 데이터 셋 정확도\n",
    "print(\"Accuracy on test set: {:.3f}\".format(rf_uncustomized.score(df_test_x, df_test_y)))"
   ]
  },
  {
   "cell_type": "markdown",
   "metadata": {},
   "source": [
    "#### 트리의 개수(n_estimators) 변경 시 모델의 정확도 확인"
   ]
  },
  {
   "cell_type": "code",
   "execution_count": 42,
   "metadata": {},
   "outputs": [
    {
     "data": {
      "text/html": [
       "<div>\n",
       "<style scoped>\n",
       "    .dataframe tbody tr th:only-of-type {\n",
       "        vertical-align: middle;\n",
       "    }\n",
       "\n",
       "    .dataframe tbody tr th {\n",
       "        vertical-align: top;\n",
       "    }\n",
       "\n",
       "    .dataframe thead th {\n",
       "        text-align: right;\n",
       "    }\n",
       "</style>\n",
       "<table border=\"1\" class=\"dataframe\">\n",
       "  <thead>\n",
       "    <tr style=\"text-align: right;\">\n",
       "      <th></th>\n",
       "      <th>n_estimators</th>\n",
       "      <th>TrainAccuracy</th>\n",
       "      <th>TestAccuracy</th>\n",
       "    </tr>\n",
       "  </thead>\n",
       "  <tbody>\n",
       "    <tr>\n",
       "      <th>0</th>\n",
       "      <td>10</td>\n",
       "      <td>0.992</td>\n",
       "      <td>0.963</td>\n",
       "    </tr>\n",
       "    <tr>\n",
       "      <th>1</th>\n",
       "      <td>20</td>\n",
       "      <td>0.994</td>\n",
       "      <td>0.968</td>\n",
       "    </tr>\n",
       "    <tr>\n",
       "      <th>2</th>\n",
       "      <td>30</td>\n",
       "      <td>1.000</td>\n",
       "      <td>0.972</td>\n",
       "    </tr>\n",
       "    <tr>\n",
       "      <th>3</th>\n",
       "      <td>40</td>\n",
       "      <td>1.000</td>\n",
       "      <td>0.972</td>\n",
       "    </tr>\n",
       "    <tr>\n",
       "      <th>4</th>\n",
       "      <td>50</td>\n",
       "      <td>1.000</td>\n",
       "      <td>0.972</td>\n",
       "    </tr>\n",
       "    <tr>\n",
       "      <th>5</th>\n",
       "      <td>60</td>\n",
       "      <td>1.000</td>\n",
       "      <td>0.972</td>\n",
       "    </tr>\n",
       "    <tr>\n",
       "      <th>6</th>\n",
       "      <td>70</td>\n",
       "      <td>1.000</td>\n",
       "      <td>0.972</td>\n",
       "    </tr>\n",
       "    <tr>\n",
       "      <th>7</th>\n",
       "      <td>80</td>\n",
       "      <td>1.000</td>\n",
       "      <td>0.972</td>\n",
       "    </tr>\n",
       "    <tr>\n",
       "      <th>8</th>\n",
       "      <td>90</td>\n",
       "      <td>1.000</td>\n",
       "      <td>0.972</td>\n",
       "    </tr>\n",
       "    <tr>\n",
       "      <th>9</th>\n",
       "      <td>100</td>\n",
       "      <td>1.000</td>\n",
       "      <td>0.972</td>\n",
       "    </tr>\n",
       "    <tr>\n",
       "      <th>10</th>\n",
       "      <td>110</td>\n",
       "      <td>1.000</td>\n",
       "      <td>0.972</td>\n",
       "    </tr>\n",
       "    <tr>\n",
       "      <th>11</th>\n",
       "      <td>120</td>\n",
       "      <td>1.000</td>\n",
       "      <td>0.972</td>\n",
       "    </tr>\n",
       "    <tr>\n",
       "      <th>12</th>\n",
       "      <td>130</td>\n",
       "      <td>1.000</td>\n",
       "      <td>0.972</td>\n",
       "    </tr>\n",
       "    <tr>\n",
       "      <th>13</th>\n",
       "      <td>140</td>\n",
       "      <td>1.000</td>\n",
       "      <td>0.972</td>\n",
       "    </tr>\n",
       "    <tr>\n",
       "      <th>14</th>\n",
       "      <td>150</td>\n",
       "      <td>1.000</td>\n",
       "      <td>0.972</td>\n",
       "    </tr>\n",
       "  </tbody>\n",
       "</table>\n",
       "</div>"
      ],
      "text/plain": [
       "    n_estimators  TrainAccuracy  TestAccuracy\n",
       "0             10          0.992         0.963\n",
       "1             20          0.994         0.968\n",
       "2             30          1.000         0.972\n",
       "3             40          1.000         0.972\n",
       "4             50          1.000         0.972\n",
       "5             60          1.000         0.972\n",
       "6             70          1.000         0.972\n",
       "7             80          1.000         0.972\n",
       "8             90          1.000         0.972\n",
       "9            100          1.000         0.972\n",
       "10           110          1.000         0.972\n",
       "11           120          1.000         0.972\n",
       "12           130          1.000         0.972\n",
       "13           140          1.000         0.972\n",
       "14           150          1.000         0.972"
      ]
     },
     "execution_count": 42,
     "metadata": {},
     "output_type": "execute_result"
    }
   ],
   "source": [
    "# train 및 test 정확도 결과 저장용\n",
    "train_accuracy = []; test_accuracy = []\n",
    "# n_estimatos: 트리 수 변경: 1~16\n",
    "para_n_tree = [n_tree * 10 for n_tree in range(1, 16)]\n",
    "\n",
    "for v_n_estimators in para_n_tree:\n",
    "    rf = RandomForestClassifier(n_estimators = v_n_estimators, random_state = 1234)\n",
    "    rf.fit(df_train_x, df_train_y)\n",
    "    train_accuracy.append(rf.score(df_train_x, df_train_y))\n",
    "    test_accuracy.append(rf.score(df_test_x, df_test_y))\n",
    "\n",
    "# 데이터 테이블로 저장\n",
    "df_accuracy_n = pd.DataFrame()\n",
    "df_accuracy_n[\"n_estimators\"] = para_n_tree\n",
    "df_accuracy_n[\"TrainAccuracy\"] = train_accuracy\n",
    "df_accuracy_n[\"TestAccuracy\"] = test_accuracy\n",
    "\n",
    "# 테이블 결과\n",
    "df_accuracy_n"
   ]
  },
  {
   "cell_type": "code",
   "execution_count": 43,
   "metadata": {},
   "outputs": [
    {
     "data": {
      "text/plain": [
       "<matplotlib.legend.Legend at 0x121ecfd0>"
      ]
     },
     "execution_count": 43,
     "metadata": {},
     "output_type": "execute_result"
    },
    {
     "data": {
      "image/png": "[encoded data removed]",
      "text/plain": [
       "<Figure size 432x288 with 1 Axes>"
      ]
     },
     "metadata": {
      "needs_background": "light"
     },
     "output_type": "display_data"
    }
   ],
   "source": [
    "# 정확도를 그래프로 표현\n",
    "plt.plot(para_n_tree, train_accuracy, linestyle = \"-\", label = \"Train Accuracy\")\n",
    "plt.plot(para_n_tree, test_accuracy, linestyle = \"--\", label = \"Test Accuracy\")\n",
    "plt.ylabel(\"accuracy\")\n",
    "plt.xlabel(\"n_estimators\")\n",
    "plt.legend()"
   ]
  },
  {
   "cell_type": "markdown",
   "metadata": {},
   "source": [
    "#### 트리의 개수에 따른 oob error 변화"
   ]
  },
  {
   "cell_type": "code",
   "execution_count": 44,
   "metadata": {
    "scrolled": true
   },
   "outputs": [
    {
     "name": "stderr",
     "output_type": "stream",
     "text": [
      "C:\\Anaconda3\\lib\\site-packages\\sklearn\\ensemble\\forest.py:458: UserWarning: Some inputs do not have OOB scores. This probably means too few trees were used to compute any reliable oob estimates.\n",
      "  warn(\"Some inputs do not have OOB scores. \"\n",
      "C:\\Anaconda3\\lib\\site-packages\\sklearn\\ensemble\\forest.py:463: RuntimeWarning: invalid value encountered in true_divide\n",
      "  predictions[k].sum(axis=1)[:, np.newaxis])\n",
      "C:\\Anaconda3\\lib\\site-packages\\sklearn\\ensemble\\forest.py:458: UserWarning: Some inputs do not have OOB scores. This probably means too few trees were used to compute any reliable oob estimates.\n",
      "  warn(\"Some inputs do not have OOB scores. \"\n",
      "C:\\Anaconda3\\lib\\site-packages\\sklearn\\ensemble\\forest.py:463: RuntimeWarning: invalid value encountered in true_divide\n",
      "  predictions[k].sum(axis=1)[:, np.newaxis])\n",
      "C:\\Anaconda3\\lib\\site-packages\\sklearn\\ensemble\\forest.py:458: UserWarning: Some inputs do not have OOB scores. This probably means too few trees were used to compute any reliable oob estimates.\n",
      "  warn(\"Some inputs do not have OOB scores. \"\n",
      "C:\\Anaconda3\\lib\\site-packages\\sklearn\\ensemble\\forest.py:463: RuntimeWarning: invalid value encountered in true_divide\n",
      "  predictions[k].sum(axis=1)[:, np.newaxis])\n",
      "C:\\Anaconda3\\lib\\site-packages\\sklearn\\ensemble\\forest.py:458: UserWarning: Some inputs do not have OOB scores. This probably means too few trees were used to compute any reliable oob estimates.\n",
      "  warn(\"Some inputs do not have OOB scores. \"\n",
      "C:\\Anaconda3\\lib\\site-packages\\sklearn\\ensemble\\forest.py:463: RuntimeWarning: invalid value encountered in true_divide\n",
      "  predictions[k].sum(axis=1)[:, np.newaxis])\n",
      "C:\\Anaconda3\\lib\\site-packages\\sklearn\\ensemble\\forest.py:458: UserWarning: Some inputs do not have OOB scores. This probably means too few trees were used to compute any reliable oob estimates.\n",
      "  warn(\"Some inputs do not have OOB scores. \"\n",
      "C:\\Anaconda3\\lib\\site-packages\\sklearn\\ensemble\\forest.py:463: RuntimeWarning: invalid value encountered in true_divide\n",
      "  predictions[k].sum(axis=1)[:, np.newaxis])\n",
      "C:\\Anaconda3\\lib\\site-packages\\sklearn\\ensemble\\forest.py:458: UserWarning: Some inputs do not have OOB scores. This probably means too few trees were used to compute any reliable oob estimates.\n",
      "  warn(\"Some inputs do not have OOB scores. \"\n",
      "C:\\Anaconda3\\lib\\site-packages\\sklearn\\ensemble\\forest.py:463: RuntimeWarning: invalid value encountered in true_divide\n",
      "  predictions[k].sum(axis=1)[:, np.newaxis])\n",
      "C:\\Anaconda3\\lib\\site-packages\\sklearn\\ensemble\\forest.py:458: UserWarning: Some inputs do not have OOB scores. This probably means too few trees were used to compute any reliable oob estimates.\n",
      "  warn(\"Some inputs do not have OOB scores. \"\n",
      "C:\\Anaconda3\\lib\\site-packages\\sklearn\\ensemble\\forest.py:463: RuntimeWarning: invalid value encountered in true_divide\n",
      "  predictions[k].sum(axis=1)[:, np.newaxis])\n",
      "C:\\Anaconda3\\lib\\site-packages\\sklearn\\ensemble\\forest.py:458: UserWarning: Some inputs do not have OOB scores. This probably means too few trees were used to compute any reliable oob estimates.\n",
      "  warn(\"Some inputs do not have OOB scores. \"\n",
      "C:\\Anaconda3\\lib\\site-packages\\sklearn\\ensemble\\forest.py:463: RuntimeWarning: invalid value encountered in true_divide\n",
      "  predictions[k].sum(axis=1)[:, np.newaxis])\n",
      "C:\\Anaconda3\\lib\\site-packages\\sklearn\\ensemble\\forest.py:458: UserWarning: Some inputs do not have OOB scores. This probably means too few trees were used to compute any reliable oob estimates.\n",
      "  warn(\"Some inputs do not have OOB scores. \"\n",
      "C:\\Anaconda3\\lib\\site-packages\\sklearn\\ensemble\\forest.py:463: RuntimeWarning: invalid value encountered in true_divide\n",
      "  predictions[k].sum(axis=1)[:, np.newaxis])\n",
      "C:\\Anaconda3\\lib\\site-packages\\sklearn\\ensemble\\forest.py:458: UserWarning: Some inputs do not have OOB scores. This probably means too few trees were used to compute any reliable oob estimates.\n",
      "  warn(\"Some inputs do not have OOB scores. \"\n",
      "C:\\Anaconda3\\lib\\site-packages\\sklearn\\ensemble\\forest.py:463: RuntimeWarning: invalid value encountered in true_divide\n",
      "  predictions[k].sum(axis=1)[:, np.newaxis])\n",
      "C:\\Anaconda3\\lib\\site-packages\\sklearn\\ensemble\\forest.py:458: UserWarning: Some inputs do not have OOB scores. This probably means too few trees were used to compute any reliable oob estimates.\n",
      "  warn(\"Some inputs do not have OOB scores. \"\n",
      "C:\\Anaconda3\\lib\\site-packages\\sklearn\\ensemble\\forest.py:463: RuntimeWarning: invalid value encountered in true_divide\n",
      "  predictions[k].sum(axis=1)[:, np.newaxis])\n",
      "C:\\Anaconda3\\lib\\site-packages\\sklearn\\ensemble\\forest.py:458: UserWarning: Some inputs do not have OOB scores. This probably means too few trees were used to compute any reliable oob estimates.\n",
      "  warn(\"Some inputs do not have OOB scores. \"\n",
      "C:\\Anaconda3\\lib\\site-packages\\sklearn\\ensemble\\forest.py:463: RuntimeWarning: invalid value encountered in true_divide\n",
      "  predictions[k].sum(axis=1)[:, np.newaxis])\n",
      "C:\\Anaconda3\\lib\\site-packages\\sklearn\\ensemble\\forest.py:458: UserWarning: Some inputs do not have OOB scores. This probably means too few trees were used to compute any reliable oob estimates.\n",
      "  warn(\"Some inputs do not have OOB scores. \"\n",
      "C:\\Anaconda3\\lib\\site-packages\\sklearn\\ensemble\\forest.py:463: RuntimeWarning: invalid value encountered in true_divide\n",
      "  predictions[k].sum(axis=1)[:, np.newaxis])\n"
     ]
    }
   ],
   "source": [
    "# error 저장 리스트\n",
    "oob_error = []\n",
    "\n",
    "for v_n_estimator in range(1, 151):\n",
    "    rf = RandomForestClassifier(n_estimators = v_n_estimator, oob_score = True, random_state= 1234)\n",
    "    rf.fit(df_train_x, df_train_y)\n",
    "    oob_error.append(1 - rf.oob_score_)"
   ]
  },
  {
   "cell_type": "code",
   "execution_count": 45,
   "metadata": {},
   "outputs": [
    {
     "data": {
      "text/plain": [
       "Text(0.5,0,'n_estimators')"
      ]
     },
     "execution_count": 45,
     "metadata": {},
     "output_type": "execute_result"
    },
    {
     "data": {
      "image/png": "[encoded data removed]",
      "text/plain": [
       "<Figure size 432x288 with 1 Axes>"
      ]
     },
     "metadata": {
      "needs_background": "light"
     },
     "output_type": "display_data"
    }
   ],
   "source": [
    "# 그래프로 표현\n",
    "plt.plot(range(1, 151), oob_error)\n",
    "plt.ylabel(\"oob error\")\n",
    "plt.xlabel(\"n_estimators\")"
   ]
  },
  {
   "cell_type": "markdown",
   "metadata": {},
   "source": [
    "#### max_depth: 최대 깊이 변경에 따른 정확도 변화"
   ]
  },
  {
   "cell_type": "code",
   "execution_count": 46,
   "metadata": {},
   "outputs": [
    {
     "data": {
      "text/html": [
       "<div>\n",
       "<style scoped>\n",
       "    .dataframe tbody tr th:only-of-type {\n",
       "        vertical-align: middle;\n",
       "    }\n",
       "\n",
       "    .dataframe tbody tr th {\n",
       "        vertical-align: top;\n",
       "    }\n",
       "\n",
       "    .dataframe thead th {\n",
       "        text-align: right;\n",
       "    }\n",
       "</style>\n",
       "<table border=\"1\" class=\"dataframe\">\n",
       "  <thead>\n",
       "    <tr style=\"text-align: right;\">\n",
       "      <th></th>\n",
       "      <th>Depth</th>\n",
       "      <th>TrainAccuracy</th>\n",
       "      <th>TestAccuracy</th>\n",
       "    </tr>\n",
       "  </thead>\n",
       "  <tbody>\n",
       "    <tr>\n",
       "      <th>0</th>\n",
       "      <td>1</td>\n",
       "      <td>0.855</td>\n",
       "      <td>0.861</td>\n",
       "    </tr>\n",
       "    <tr>\n",
       "      <th>1</th>\n",
       "      <td>2</td>\n",
       "      <td>0.903</td>\n",
       "      <td>0.903</td>\n",
       "    </tr>\n",
       "    <tr>\n",
       "      <th>2</th>\n",
       "      <td>3</td>\n",
       "      <td>0.954</td>\n",
       "      <td>0.968</td>\n",
       "    </tr>\n",
       "    <tr>\n",
       "      <th>3</th>\n",
       "      <td>4</td>\n",
       "      <td>0.960</td>\n",
       "      <td>0.972</td>\n",
       "    </tr>\n",
       "    <tr>\n",
       "      <th>4</th>\n",
       "      <td>5</td>\n",
       "      <td>0.960</td>\n",
       "      <td>0.972</td>\n",
       "    </tr>\n",
       "    <tr>\n",
       "      <th>5</th>\n",
       "      <td>6</td>\n",
       "      <td>0.962</td>\n",
       "      <td>0.972</td>\n",
       "    </tr>\n",
       "    <tr>\n",
       "      <th>6</th>\n",
       "      <td>7</td>\n",
       "      <td>0.972</td>\n",
       "      <td>0.972</td>\n",
       "    </tr>\n",
       "    <tr>\n",
       "      <th>7</th>\n",
       "      <td>8</td>\n",
       "      <td>0.988</td>\n",
       "      <td>0.972</td>\n",
       "    </tr>\n",
       "    <tr>\n",
       "      <th>8</th>\n",
       "      <td>9</td>\n",
       "      <td>0.996</td>\n",
       "      <td>0.972</td>\n",
       "    </tr>\n",
       "    <tr>\n",
       "      <th>9</th>\n",
       "      <td>10</td>\n",
       "      <td>0.996</td>\n",
       "      <td>0.972</td>\n",
       "    </tr>\n",
       "  </tbody>\n",
       "</table>\n",
       "</div>"
      ],
      "text/plain": [
       "   Depth  TrainAccuracy  TestAccuracy\n",
       "0      1          0.855         0.861\n",
       "1      2          0.903         0.903\n",
       "2      3          0.954         0.968\n",
       "3      4          0.960         0.972\n",
       "4      5          0.960         0.972\n",
       "5      6          0.962         0.972\n",
       "6      7          0.972         0.972\n",
       "7      8          0.988         0.972\n",
       "8      9          0.996         0.972\n",
       "9     10          0.996         0.972"
      ]
     },
     "execution_count": 46,
     "metadata": {},
     "output_type": "execute_result"
    }
   ],
   "source": [
    "# train 및 test 정확도 결과 저장용\n",
    "train_accuracy = []; test_accuracy = []\n",
    "# max_depth: 최대 깊이 변경\n",
    "para_depth = [depth for depth in range(1, 11)]\n",
    "\n",
    "for v_max_depth in para_depth:\n",
    "    rf = RandomForestClassifier(max_depth = v_max_depth, n_estimators = 100, random_state=1234)\n",
    "    rf.fit(df_train_x, df_train_y)\n",
    "    train_accuracy.append(rf.score(df_train_x, df_train_y))\n",
    "    test_accuracy.append(rf.score(df_test_x, df_test_y))\n",
    "\n",
    "# 데이터 테이블로 저장\n",
    "df_accuracy_depth = pd.DataFrame()\n",
    "df_accuracy_depth[\"Depth\"] = para_depth\n",
    "df_accuracy_depth[\"TrainAccuracy\"] = train_accuracy\n",
    "df_accuracy_depth[\"TestAccuracy\"] = test_accuracy\n",
    "\n",
    "# 테이블 결과\n",
    "df_accuracy_depth"
   ]
  },
  {
   "cell_type": "code",
   "execution_count": 47,
   "metadata": {},
   "outputs": [
    {
     "data": {
      "text/plain": [
       "<matplotlib.legend.Legend at 0x145f7198>"
      ]
     },
     "execution_count": 47,
     "metadata": {},
     "output_type": "execute_result"
    },
    {
     "data": {
      "image/png": "[encoded data removed]",
      "text/plain": [
       "<Figure size 432x288 with 1 Axes>"
      ]
     },
     "metadata": {
      "needs_background": "light"
     },
     "output_type": "display_data"
    }
   ],
   "source": [
    "# 정확도를 그래프로 표현\n",
    "plt.plot(para_depth, train_accuracy, linestyle = \"-\", label = \"Train Accuracy\")\n",
    "plt.plot(para_depth, test_accuracy, linestyle = \"--\", label = \"Test Accuracy\")\n",
    "plt.xlabel(\"max_depth\"); plt.ylabel(\"accuracy\")\n",
    "plt.legend()"
   ]
  },
  {
   "cell_type": "markdown",
   "metadata": {},
   "source": [
    "max_depth = 3"
   ]
  },
  {
   "cell_type": "markdown",
   "metadata": {},
   "source": [
    "#### min_samples_leaf: 최소 잎사귀 수 제한"
   ]
  },
  {
   "cell_type": "code",
   "execution_count": 48,
   "metadata": {},
   "outputs": [
    {
     "data": {
      "text/html": [
       "<div>\n",
       "<style scoped>\n",
       "    .dataframe tbody tr th:only-of-type {\n",
       "        vertical-align: middle;\n",
       "    }\n",
       "\n",
       "    .dataframe tbody tr th {\n",
       "        vertical-align: top;\n",
       "    }\n",
       "\n",
       "    .dataframe thead th {\n",
       "        text-align: right;\n",
       "    }\n",
       "</style>\n",
       "<table border=\"1\" class=\"dataframe\">\n",
       "  <thead>\n",
       "    <tr style=\"text-align: right;\">\n",
       "      <th></th>\n",
       "      <th>MinSamplesLeaf</th>\n",
       "      <th>TrainAccuracy</th>\n",
       "      <th>TestAccuracy</th>\n",
       "    </tr>\n",
       "  </thead>\n",
       "  <tbody>\n",
       "    <tr>\n",
       "      <th>0</th>\n",
       "      <td>10</td>\n",
       "      <td>0.925</td>\n",
       "      <td>0.921</td>\n",
       "    </tr>\n",
       "    <tr>\n",
       "      <th>1</th>\n",
       "      <td>20</td>\n",
       "      <td>0.883</td>\n",
       "      <td>0.894</td>\n",
       "    </tr>\n",
       "    <tr>\n",
       "      <th>2</th>\n",
       "      <td>30</td>\n",
       "      <td>0.877</td>\n",
       "      <td>0.889</td>\n",
       "    </tr>\n",
       "    <tr>\n",
       "      <th>3</th>\n",
       "      <td>40</td>\n",
       "      <td>0.873</td>\n",
       "      <td>0.889</td>\n",
       "    </tr>\n",
       "    <tr>\n",
       "      <th>4</th>\n",
       "      <td>50</td>\n",
       "      <td>0.873</td>\n",
       "      <td>0.889</td>\n",
       "    </tr>\n",
       "    <tr>\n",
       "      <th>5</th>\n",
       "      <td>60</td>\n",
       "      <td>0.873</td>\n",
       "      <td>0.889</td>\n",
       "    </tr>\n",
       "    <tr>\n",
       "      <th>6</th>\n",
       "      <td>70</td>\n",
       "      <td>0.863</td>\n",
       "      <td>0.866</td>\n",
       "    </tr>\n",
       "    <tr>\n",
       "      <th>7</th>\n",
       "      <td>80</td>\n",
       "      <td>0.849</td>\n",
       "      <td>0.843</td>\n",
       "    </tr>\n",
       "    <tr>\n",
       "      <th>8</th>\n",
       "      <td>90</td>\n",
       "      <td>0.817</td>\n",
       "      <td>0.847</td>\n",
       "    </tr>\n",
       "    <tr>\n",
       "      <th>9</th>\n",
       "      <td>100</td>\n",
       "      <td>0.780</td>\n",
       "      <td>0.773</td>\n",
       "    </tr>\n",
       "  </tbody>\n",
       "</table>\n",
       "</div>"
      ],
      "text/plain": [
       "   MinSamplesLeaf  TrainAccuracy  TestAccuracy\n",
       "0              10          0.925         0.921\n",
       "1              20          0.883         0.894\n",
       "2              30          0.877         0.889\n",
       "3              40          0.873         0.889\n",
       "4              50          0.873         0.889\n",
       "5              60          0.873         0.889\n",
       "6              70          0.863         0.866\n",
       "7              80          0.849         0.843\n",
       "8              90          0.817         0.847\n",
       "9             100          0.780         0.773"
      ]
     },
     "execution_count": 48,
     "metadata": {},
     "output_type": "execute_result"
    }
   ],
   "source": [
    "# train 및 test 정확도 결과 저장용\n",
    "train_accuracy = []; test_accuracy = []\n",
    "# min_samples_leaf: 잎사귀 수 제한\n",
    "para_leaf = [n_leaf * 10 for n_leaf in range(1, 11)]\n",
    "\n",
    "for v_min_samples_leaf in para_leaf:\n",
    "    rf = RandomForestClassifier(min_samples_leaf = v_min_samples_leaf,\n",
    "                                max_depth = 3, n_estimators = 100, random_state=1234)\n",
    "    rf.fit(df_train_x, df_train_y)\n",
    "    train_accuracy.append(rf.score(df_train_x, df_train_y))\n",
    "    test_accuracy.append(rf.score(df_test_x, df_test_y))\n",
    "\n",
    "# 데이터 테이블로 저장\n",
    "df_accuracy_leaf = pd.DataFrame()\n",
    "df_accuracy_leaf[\"MinSamplesLeaf\"] = para_leaf\n",
    "df_accuracy_leaf[\"TrainAccuracy\"] = train_accuracy\n",
    "df_accuracy_leaf[\"TestAccuracy\"] = test_accuracy\n",
    "\n",
    "# 테이블 결과\n",
    "df_accuracy_leaf"
   ]
  },
  {
   "cell_type": "code",
   "execution_count": 49,
   "metadata": {},
   "outputs": [
    {
     "data": {
      "text/plain": [
       "<matplotlib.legend.Legend at 0x14576da0>"
      ]
     },
     "execution_count": 49,
     "metadata": {},
     "output_type": "execute_result"
    },
    {
     "data": {
      "image/png": "[encoded data removed]",
      "text/plain": [
       "<Figure size 432x288 with 1 Axes>"
      ]
     },
     "metadata": {
      "needs_background": "light"
     },
     "output_type": "display_data"
    }
   ],
   "source": [
    "# 정확도를 그래프로 표현\n",
    "plt.plot(para_leaf, train_accuracy, linestyle = \"-\", label = \"Train Accuracy\")\n",
    "plt.plot(para_leaf, test_accuracy, linestyle = \"--\", label = \"Test Accuracy\")\n",
    "plt.xlabel(\"min_samples_leaf\"); plt.ylabel(\"accuracy\")\n",
    "plt.legend()"
   ]
  },
  {
   "cell_type": "markdown",
   "metadata": {},
   "source": [
    "min_samples_leaf = 10"
   ]
  },
  {
   "cell_type": "markdown",
   "metadata": {},
   "source": [
    "#### min_samples_split: 분리 노드의 최소 샘플 수 제한"
   ]
  },
  {
   "cell_type": "code",
   "execution_count": 50,
   "metadata": {},
   "outputs": [
    {
     "data": {
      "text/html": [
       "<div>\n",
       "<style scoped>\n",
       "    .dataframe tbody tr th:only-of-type {\n",
       "        vertical-align: middle;\n",
       "    }\n",
       "\n",
       "    .dataframe tbody tr th {\n",
       "        vertical-align: top;\n",
       "    }\n",
       "\n",
       "    .dataframe thead th {\n",
       "        text-align: right;\n",
       "    }\n",
       "</style>\n",
       "<table border=\"1\" class=\"dataframe\">\n",
       "  <thead>\n",
       "    <tr style=\"text-align: right;\">\n",
       "      <th></th>\n",
       "      <th>MinSamplesSplit</th>\n",
       "      <th>TrainAccuracy</th>\n",
       "      <th>TestAccuracy</th>\n",
       "    </tr>\n",
       "  </thead>\n",
       "  <tbody>\n",
       "    <tr>\n",
       "      <th>0</th>\n",
       "      <td>10</td>\n",
       "      <td>0.925</td>\n",
       "      <td>0.921</td>\n",
       "    </tr>\n",
       "    <tr>\n",
       "      <th>1</th>\n",
       "      <td>20</td>\n",
       "      <td>0.925</td>\n",
       "      <td>0.921</td>\n",
       "    </tr>\n",
       "    <tr>\n",
       "      <th>2</th>\n",
       "      <td>30</td>\n",
       "      <td>0.927</td>\n",
       "      <td>0.917</td>\n",
       "    </tr>\n",
       "    <tr>\n",
       "      <th>3</th>\n",
       "      <td>40</td>\n",
       "      <td>0.927</td>\n",
       "      <td>0.917</td>\n",
       "    </tr>\n",
       "    <tr>\n",
       "      <th>4</th>\n",
       "      <td>50</td>\n",
       "      <td>0.927</td>\n",
       "      <td>0.917</td>\n",
       "    </tr>\n",
       "    <tr>\n",
       "      <th>5</th>\n",
       "      <td>60</td>\n",
       "      <td>0.927</td>\n",
       "      <td>0.912</td>\n",
       "    </tr>\n",
       "    <tr>\n",
       "      <th>6</th>\n",
       "      <td>70</td>\n",
       "      <td>0.927</td>\n",
       "      <td>0.912</td>\n",
       "    </tr>\n",
       "    <tr>\n",
       "      <th>7</th>\n",
       "      <td>80</td>\n",
       "      <td>0.923</td>\n",
       "      <td>0.921</td>\n",
       "    </tr>\n",
       "    <tr>\n",
       "      <th>8</th>\n",
       "      <td>90</td>\n",
       "      <td>0.921</td>\n",
       "      <td>0.912</td>\n",
       "    </tr>\n",
       "    <tr>\n",
       "      <th>9</th>\n",
       "      <td>100</td>\n",
       "      <td>0.915</td>\n",
       "      <td>0.907</td>\n",
       "    </tr>\n",
       "  </tbody>\n",
       "</table>\n",
       "</div>"
      ],
      "text/plain": [
       "   MinSamplesSplit  TrainAccuracy  TestAccuracy\n",
       "0               10          0.925         0.921\n",
       "1               20          0.925         0.921\n",
       "2               30          0.927         0.917\n",
       "3               40          0.927         0.917\n",
       "4               50          0.927         0.917\n",
       "5               60          0.927         0.912\n",
       "6               70          0.927         0.912\n",
       "7               80          0.923         0.921\n",
       "8               90          0.921         0.912\n",
       "9              100          0.915         0.907"
      ]
     },
     "execution_count": 50,
     "metadata": {},
     "output_type": "execute_result"
    }
   ],
   "source": [
    "# train 및 test 정확도 결과 저장용\n",
    "train_accuracy = []; test_accuracy = []\n",
    "# min_samples_split: 분할하기 위한 노드의 최소 샘플 수 \n",
    "para_split = [n_split * 10 for n_split in range(1, 11)]\n",
    "\n",
    "for v_min_samples_split in para_split:\n",
    "    rf = RandomForestClassifier(min_samples_split = v_min_samples_split,\n",
    "                                min_samples_leaf = 10, max_depth = 3, n_estimators = 100, random_state=1234)\n",
    "    rf.fit(df_train_x, df_train_y)\n",
    "    train_accuracy.append(rf.score(df_train_x, df_train_y))\n",
    "    test_accuracy.append(rf.score(df_test_x, df_test_y))\n",
    "\n",
    "# 데이터 테이블로 저장\n",
    "df_accuracy_split = pd.DataFrame()\n",
    "df_accuracy_split[\"MinSamplesSplit\"] = para_split\n",
    "df_accuracy_split[\"TrainAccuracy\"] = train_accuracy\n",
    "df_accuracy_split[\"TestAccuracy\"] = test_accuracy\n",
    "\n",
    "# 테이블 결과\n",
    "df_accuracy_split"
   ]
  },
  {
   "cell_type": "code",
   "execution_count": 51,
   "metadata": {},
   "outputs": [
    {
     "data": {
      "text/plain": [
       "<matplotlib.legend.Legend at 0x143f5ef0>"
      ]
     },
     "execution_count": 51,
     "metadata": {},
     "output_type": "execute_result"
    },
    {
     "data": {
      "image/png": "[encoded data removed]",
      "text/plain": [
       "<Figure size 432x288 with 1 Axes>"
      ]
     },
     "metadata": {
      "needs_background": "light"
     },
     "output_type": "display_data"
    }
   ],
   "source": [
    "# 정확도를 그래프로 표현\n",
    "plt.plot(para_split, train_accuracy, linestyle = \"-\", label = \"Train Accuracy\")\n",
    "plt.plot(para_split, test_accuracy, linestyle = \"--\", label = \"Test Accuracy\")\n",
    "plt.xlabel(\"min_samples_split\"); plt.ylabel(\"accuracy\")\n",
    "plt.legend()"
   ]
  },
  {
   "cell_type": "markdown",
   "metadata": {},
   "source": [
    "min_samples_split = 20"
   ]
  },
  {
   "cell_type": "markdown",
   "metadata": {},
   "source": [
    "### 최종 모델 생성"
   ]
  },
  {
   "cell_type": "code",
   "execution_count": 52,
   "metadata": {},
   "outputs": [
    {
     "data": {
      "text/plain": [
       "RandomForestClassifier(bootstrap=True, class_weight=None, criterion='gini',\n",
       "            max_depth=3, max_features='auto', max_leaf_nodes=None,\n",
       "            min_impurity_decrease=0.0, min_impurity_split=None,\n",
       "            min_samples_leaf=10, min_samples_split=20,\n",
       "            min_weight_fraction_leaf=0.0, n_estimators=100, n_jobs=None,\n",
       "            oob_score=False, random_state=1234, verbose=0,\n",
       "            warm_start=False)"
      ]
     },
     "execution_count": 52,
     "metadata": {},
     "output_type": "execute_result"
    }
   ],
   "source": [
    "# 최종 모델\n",
    "rf_final = RandomForestClassifier(min_samples_leaf = 10, min_samples_split = 20, max_depth = 3, n_estimators = 100, random_state=1234)\n",
    "rf_final.fit(df_train_x, df_train_y)"
   ]
  },
  {
   "cell_type": "markdown",
   "metadata": {},
   "source": [
    "#### 예측 & 평가"
   ]
  },
  {
   "cell_type": "code",
   "execution_count": 53,
   "metadata": {},
   "outputs": [
    {
     "name": "stdout",
     "output_type": "stream",
     "text": [
      "Accuracy on training set: 0.925\n",
      "Accuracy on test set: 0.921\n",
      "\n",
      "Confusion matrix: \n",
      "[[145   0]\n",
      " [ 17  54]]\n"
     ]
    }
   ],
   "source": [
    "# 예측\n",
    "y_pred = rf_final.predict(df_test_x)\n",
    "\n",
    "# train 데이터 셋 정확도\n",
    "print(\"Accuracy on training set: {:.3f}\".format(rf_final.score(df_train_x, df_train_y)))\n",
    "# test 데이터 셋 정확도\n",
    "print(\"Accuracy on test set: {:.3f}\\n\".format(rf_final.score(df_test_x, df_test_y)))\n",
    "# confusion matrix\n",
    "print(\"Confusion matrix: \\n{}\".format(confusion_matrix(df_test_y, y_pred)))"
   ]
  },
  {
   "cell_type": "markdown",
   "metadata": {},
   "source": [
    "### 설명변수의 중요도"
   ]
  },
  {
   "cell_type": "code",
   "execution_count": 56,
   "metadata": {},
   "outputs": [
    {
     "data": {
      "text/html": [
       "<div>\n",
       "<style scoped>\n",
       "    .dataframe tbody tr th:only-of-type {\n",
       "        vertical-align: middle;\n",
       "    }\n",
       "\n",
       "    .dataframe tbody tr th {\n",
       "        vertical-align: top;\n",
       "    }\n",
       "\n",
       "    .dataframe thead th {\n",
       "        text-align: right;\n",
       "    }\n",
       "</style>\n",
       "<table border=\"1\" class=\"dataframe\">\n",
       "  <thead>\n",
       "    <tr style=\"text-align: right;\">\n",
       "      <th></th>\n",
       "      <th>Feature</th>\n",
       "      <th>Importance</th>\n",
       "    </tr>\n",
       "  </thead>\n",
       "  <tbody>\n",
       "    <tr>\n",
       "      <th>11</th>\n",
       "      <td>ROLLING_TEMP_T5</td>\n",
       "      <td>3.452e-01</td>\n",
       "    </tr>\n",
       "    <tr>\n",
       "      <th>10</th>\n",
       "      <td>FUR_EXTEMP</td>\n",
       "      <td>1.243e-01</td>\n",
       "    </tr>\n",
       "    <tr>\n",
       "      <th>7</th>\n",
       "      <td>FUR_SZ_TEMP</td>\n",
       "      <td>1.228e-01</td>\n",
       "    </tr>\n",
       "    <tr>\n",
       "      <th>0</th>\n",
       "      <td>PT_THK</td>\n",
       "      <td>6.457e-02</td>\n",
       "    </tr>\n",
       "    <tr>\n",
       "      <th>1</th>\n",
       "      <td>PT_WDTH</td>\n",
       "      <td>5.772e-02</td>\n",
       "    </tr>\n",
       "    <tr>\n",
       "      <th>2</th>\n",
       "      <td>PT_LTH</td>\n",
       "      <td>5.105e-02</td>\n",
       "    </tr>\n",
       "    <tr>\n",
       "      <th>12</th>\n",
       "      <td>ROLLING_DESCALING</td>\n",
       "      <td>3.992e-02</td>\n",
       "    </tr>\n",
       "    <tr>\n",
       "      <th>3</th>\n",
       "      <td>PT_WGT</td>\n",
       "      <td>3.953e-02</td>\n",
       "    </tr>\n",
       "    <tr>\n",
       "      <th>8</th>\n",
       "      <td>FUR_SZ_TIME</td>\n",
       "      <td>3.537e-02</td>\n",
       "    </tr>\n",
       "    <tr>\n",
       "      <th>5</th>\n",
       "      <td>FUR_HZ_TEMP</td>\n",
       "      <td>3.409e-02</td>\n",
       "    </tr>\n",
       "    <tr>\n",
       "      <th>16</th>\n",
       "      <td>HSB_미적용</td>\n",
       "      <td>2.953e-02</td>\n",
       "    </tr>\n",
       "    <tr>\n",
       "      <th>17</th>\n",
       "      <td>HSB_적용</td>\n",
       "      <td>2.513e-02</td>\n",
       "    </tr>\n",
       "    <tr>\n",
       "      <th>9</th>\n",
       "      <td>FUR_TIME</td>\n",
       "      <td>1.581e-02</td>\n",
       "    </tr>\n",
       "    <tr>\n",
       "      <th>6</th>\n",
       "      <td>FUR_HZ_TIME</td>\n",
       "      <td>8.948e-03</td>\n",
       "    </tr>\n",
       "    <tr>\n",
       "      <th>15</th>\n",
       "      <td>FUR_NO_3호기</td>\n",
       "      <td>1.970e-03</td>\n",
       "    </tr>\n",
       "    <tr>\n",
       "      <th>4</th>\n",
       "      <td>FUR_NO_ROW</td>\n",
       "      <td>1.023e-03</td>\n",
       "    </tr>\n",
       "    <tr>\n",
       "      <th>18</th>\n",
       "      <td>WORK_GR_1조</td>\n",
       "      <td>9.672e-04</td>\n",
       "    </tr>\n",
       "    <tr>\n",
       "      <th>19</th>\n",
       "      <td>WORK_GR_2조</td>\n",
       "      <td>6.009e-04</td>\n",
       "    </tr>\n",
       "    <tr>\n",
       "      <th>21</th>\n",
       "      <td>WORK_GR_4조</td>\n",
       "      <td>5.533e-04</td>\n",
       "    </tr>\n",
       "    <tr>\n",
       "      <th>20</th>\n",
       "      <td>WORK_GR_3조</td>\n",
       "      <td>3.182e-04</td>\n",
       "    </tr>\n",
       "    <tr>\n",
       "      <th>14</th>\n",
       "      <td>FUR_NO_2호기</td>\n",
       "      <td>3.099e-04</td>\n",
       "    </tr>\n",
       "    <tr>\n",
       "      <th>13</th>\n",
       "      <td>FUR_NO_1호기</td>\n",
       "      <td>2.427e-04</td>\n",
       "    </tr>\n",
       "  </tbody>\n",
       "</table>\n",
       "</div>"
      ],
      "text/plain": [
       "              Feature  Importance\n",
       "11    ROLLING_TEMP_T5   3.452e-01\n",
       "10         FUR_EXTEMP   1.243e-01\n",
       "7         FUR_SZ_TEMP   1.228e-01\n",
       "0              PT_THK   6.457e-02\n",
       "1             PT_WDTH   5.772e-02\n",
       "2              PT_LTH   5.105e-02\n",
       "12  ROLLING_DESCALING   3.992e-02\n",
       "3              PT_WGT   3.953e-02\n",
       "8         FUR_SZ_TIME   3.537e-02\n",
       "5         FUR_HZ_TEMP   3.409e-02\n",
       "16            HSB_미적용   2.953e-02\n",
       "17             HSB_적용   2.513e-02\n",
       "9            FUR_TIME   1.581e-02\n",
       "6         FUR_HZ_TIME   8.948e-03\n",
       "15         FUR_NO_3호기   1.970e-03\n",
       "4          FUR_NO_ROW   1.023e-03\n",
       "18         WORK_GR_1조   9.672e-04\n",
       "19         WORK_GR_2조   6.009e-04\n",
       "21         WORK_GR_4조   5.533e-04\n",
       "20         WORK_GR_3조   3.182e-04\n",
       "14         FUR_NO_2호기   3.099e-04\n",
       "13         FUR_NO_1호기   2.427e-04"
      ]
     },
     "execution_count": 56,
     "metadata": {},
     "output_type": "execute_result"
    }
   ],
   "source": [
    "# tree.feature_importances_로 설명변수 중요도 확인 및 테이블로 저장\n",
    "df_importance = pd.DataFrame()\n",
    "df_importance[\"Feature\"] = df_train_x.columns\n",
    "df_importance[\"Importance\"] = rf_final.feature_importances_\n",
    "\n",
    "# df_feature_importance의 테이블을 중요도별로 정렬\n",
    "df_importance.sort_values(\"Importance\", ascending=False, inplace = True)\n",
    "df_importance"
   ]
  },
  {
   "cell_type": "code",
   "execution_count": 57,
   "metadata": {},
   "outputs": [
    {
     "data": {
      "text/plain": [
       "Text(0,0.5,'변수')"
      ]
     },
     "execution_count": 57,
     "metadata": {},
     "output_type": "execute_result"
    },
    {
     "data": {
      "image/png": "[encoded data removed]",
      "text/plain": [
       "<Figure size 432x288 with 1 Axes>"
      ]
     },
     "metadata": {
      "needs_background": "light"
     },
     "output_type": "display_data"
    }
   ],
   "source": [
    "# 설명변수 중요도 그래프\n",
    "# 중요도가 높은 변수를 상위에 그림\n",
    "df_importance.sort_values(\"Importance\", ascending=True, inplace = True)\n",
    "coordinates = range(len(df_importance))\n",
    "plt.barh(y = coordinates, width = df_importance[\"Importance\"])\n",
    "plt.yticks(coordinates, df_importance[\"Feature\"])\n",
    "plt.xlabel(\"변수 중요도\")\n",
    "plt.ylabel(\"변수\")"
   ]
  },
  {
   "cell_type": "markdown",
   "metadata": {},
   "source": [
    "## 그래디언트 부스팅"
   ]
  },
  {
   "cell_type": "markdown",
   "metadata": {},
   "source": [
    "기본 옵션으로 트리 생성"
   ]
  },
  {
   "cell_type": "code",
   "execution_count": 58,
   "metadata": {},
   "outputs": [
    {
     "name": "stdout",
     "output_type": "stream",
     "text": [
      "Accuracy on train set: 1.000\n",
      "Accuracy on test set: 1.000\n"
     ]
    }
   ],
   "source": [
    "# 그래디언트 부스팅 모델 생성: GradientBoostingClassifier\n",
    "gb_uncustomized = GradientBoostingClassifier(random_state=1234)\n",
    "gb_uncustomized.fit(df_train_x, df_train_y)\n",
    "# train 데이터 셋 정확도\n",
    "print(\"Accuracy on train set: {:.3f}\".format(gb_uncustomized.score (df_train_x, df_train_y)))\n",
    "# test 데이터 셋 정확도\n",
    "print(\"Accuracy on test set: {:.3f}\".format(gb_uncustomized.score (df_test_x, df_test_y)))"
   ]
  },
  {
   "cell_type": "markdown",
   "metadata": {},
   "source": [
    "#### n_estimators: 트리의 개수 변경에 따른 모델의 정확도 확인"
   ]
  },
  {
   "cell_type": "code",
   "execution_count": 60,
   "metadata": {},
   "outputs": [
    {
     "data": {
      "text/html": [
       "<div>\n",
       "<style scoped>\n",
       "    .dataframe tbody tr th:only-of-type {\n",
       "        vertical-align: middle;\n",
       "    }\n",
       "\n",
       "    .dataframe tbody tr th {\n",
       "        vertical-align: top;\n",
       "    }\n",
       "\n",
       "    .dataframe thead th {\n",
       "        text-align: right;\n",
       "    }\n",
       "</style>\n",
       "<table border=\"1\" class=\"dataframe\">\n",
       "  <thead>\n",
       "    <tr style=\"text-align: right;\">\n",
       "      <th></th>\n",
       "      <th>Estimators</th>\n",
       "      <th>TrainAccuracy</th>\n",
       "      <th>TestAccuracy</th>\n",
       "    </tr>\n",
       "  </thead>\n",
       "  <tbody>\n",
       "    <tr>\n",
       "      <th>0</th>\n",
       "      <td>10</td>\n",
       "      <td>0.958</td>\n",
       "      <td>0.972</td>\n",
       "    </tr>\n",
       "    <tr>\n",
       "      <th>1</th>\n",
       "      <td>20</td>\n",
       "      <td>0.966</td>\n",
       "      <td>0.977</td>\n",
       "    </tr>\n",
       "    <tr>\n",
       "      <th>2</th>\n",
       "      <td>30</td>\n",
       "      <td>0.974</td>\n",
       "      <td>0.977</td>\n",
       "    </tr>\n",
       "    <tr>\n",
       "      <th>3</th>\n",
       "      <td>40</td>\n",
       "      <td>0.988</td>\n",
       "      <td>0.986</td>\n",
       "    </tr>\n",
       "    <tr>\n",
       "      <th>4</th>\n",
       "      <td>50</td>\n",
       "      <td>0.996</td>\n",
       "      <td>0.986</td>\n",
       "    </tr>\n",
       "    <tr>\n",
       "      <th>5</th>\n",
       "      <td>60</td>\n",
       "      <td>1.000</td>\n",
       "      <td>0.995</td>\n",
       "    </tr>\n",
       "    <tr>\n",
       "      <th>6</th>\n",
       "      <td>70</td>\n",
       "      <td>1.000</td>\n",
       "      <td>0.995</td>\n",
       "    </tr>\n",
       "    <tr>\n",
       "      <th>7</th>\n",
       "      <td>80</td>\n",
       "      <td>1.000</td>\n",
       "      <td>1.000</td>\n",
       "    </tr>\n",
       "    <tr>\n",
       "      <th>8</th>\n",
       "      <td>90</td>\n",
       "      <td>1.000</td>\n",
       "      <td>1.000</td>\n",
       "    </tr>\n",
       "    <tr>\n",
       "      <th>9</th>\n",
       "      <td>100</td>\n",
       "      <td>1.000</td>\n",
       "      <td>1.000</td>\n",
       "    </tr>\n",
       "    <tr>\n",
       "      <th>10</th>\n",
       "      <td>110</td>\n",
       "      <td>1.000</td>\n",
       "      <td>1.000</td>\n",
       "    </tr>\n",
       "    <tr>\n",
       "      <th>11</th>\n",
       "      <td>120</td>\n",
       "      <td>1.000</td>\n",
       "      <td>1.000</td>\n",
       "    </tr>\n",
       "    <tr>\n",
       "      <th>12</th>\n",
       "      <td>130</td>\n",
       "      <td>1.000</td>\n",
       "      <td>1.000</td>\n",
       "    </tr>\n",
       "    <tr>\n",
       "      <th>13</th>\n",
       "      <td>140</td>\n",
       "      <td>1.000</td>\n",
       "      <td>1.000</td>\n",
       "    </tr>\n",
       "    <tr>\n",
       "      <th>14</th>\n",
       "      <td>150</td>\n",
       "      <td>1.000</td>\n",
       "      <td>1.000</td>\n",
       "    </tr>\n",
       "  </tbody>\n",
       "</table>\n",
       "</div>"
      ],
      "text/plain": [
       "    Estimators  TrainAccuracy  TestAccuracy\n",
       "0           10          0.958         0.972\n",
       "1           20          0.966         0.977\n",
       "2           30          0.974         0.977\n",
       "3           40          0.988         0.986\n",
       "4           50          0.996         0.986\n",
       "5           60          1.000         0.995\n",
       "6           70          1.000         0.995\n",
       "7           80          1.000         1.000\n",
       "8           90          1.000         1.000\n",
       "9          100          1.000         1.000\n",
       "10         110          1.000         1.000\n",
       "11         120          1.000         1.000\n",
       "12         130          1.000         1.000\n",
       "13         140          1.000         1.000\n",
       "14         150          1.000         1.000"
      ]
     },
     "execution_count": 60,
     "metadata": {},
     "output_type": "execute_result"
    }
   ],
   "source": [
    "# train 및 test 정확도 결과 저장용\n",
    "train_accuracy = []; test_accuracy = []\n",
    "# n_estimatos: 트리 수 변경: 10~150\n",
    "para_n_tree = [n_tree * 10 for n_tree in range(1, 16)]\n",
    "\n",
    "for v_n_estimators in para_n_tree:\n",
    "    gb = GradientBoostingClassifier(n_estimators = v_n_estimators, random_state = 1234)\n",
    "    gb.fit(df_train_x, df_train_y)\n",
    "    train_accuracy.append(gb.score(df_train_x, df_train_y))\n",
    "    test_accuracy.append(gb.score(df_test_x, df_test_y))\n",
    "\n",
    "# 데이터 테이블로 저장\n",
    "df_accuracy_n = pd.DataFrame()\n",
    "df_accuracy_n[\"Estimators\"] = para_n_tree\n",
    "df_accuracy_n[\"TrainAccuracy\"] = train_accuracy\n",
    "df_accuracy_n[\"TestAccuracy\"] = test_accuracy\n",
    "\n",
    "# n_estimators별 정확도 테이블\n",
    "df_accuracy_n"
   ]
  },
  {
   "cell_type": "code",
   "execution_count": 61,
   "metadata": {},
   "outputs": [
    {
     "data": {
      "text/plain": [
       "<matplotlib.legend.Legend at 0x15945860>"
      ]
     },
     "execution_count": 61,
     "metadata": {},
     "output_type": "execute_result"
    },
    {
     "data": {
      "image/png": "[encoded data removed]",
      "text/plain": [
       "<Figure size 432x288 with 1 Axes>"
      ]
     },
     "metadata": {
      "needs_background": "light"
     },
     "output_type": "display_data"
    }
   ],
   "source": [
    "# 정확도를 그래프로 표현\n",
    "plt.plot(para_n_tree, train_accuracy, linestyle = \"-\", label = \"Train Accuracy\")\n",
    "plt.plot(para_n_tree, test_accuracy, linestyle = \"--\", label = \"Test Accuracy\")\n",
    "plt.ylabel(\"accuracy\"); plt.xlabel(\"n_estimators\")\n",
    "plt.legend()"
   ]
  },
  {
   "cell_type": "markdown",
   "metadata": {},
   "source": [
    "#### learning_rate : 학습률 변경"
   ]
  },
  {
   "cell_type": "code",
   "execution_count": 62,
   "metadata": {},
   "outputs": [
    {
     "data": {
      "text/html": [
       "<div>\n",
       "<style scoped>\n",
       "    .dataframe tbody tr th:only-of-type {\n",
       "        vertical-align: middle;\n",
       "    }\n",
       "\n",
       "    .dataframe tbody tr th {\n",
       "        vertical-align: top;\n",
       "    }\n",
       "\n",
       "    .dataframe thead th {\n",
       "        text-align: right;\n",
       "    }\n",
       "</style>\n",
       "<table border=\"1\" class=\"dataframe\">\n",
       "  <thead>\n",
       "    <tr style=\"text-align: right;\">\n",
       "      <th></th>\n",
       "      <th>LearningRate</th>\n",
       "      <th>TrainAccuracy</th>\n",
       "      <th>TestAccuracy</th>\n",
       "    </tr>\n",
       "  </thead>\n",
       "  <tbody>\n",
       "    <tr>\n",
       "      <th>0</th>\n",
       "      <td>0.1</td>\n",
       "      <td>1.0</td>\n",
       "      <td>1.000</td>\n",
       "    </tr>\n",
       "    <tr>\n",
       "      <th>1</th>\n",
       "      <td>0.2</td>\n",
       "      <td>1.0</td>\n",
       "      <td>1.000</td>\n",
       "    </tr>\n",
       "    <tr>\n",
       "      <th>2</th>\n",
       "      <td>0.3</td>\n",
       "      <td>1.0</td>\n",
       "      <td>1.000</td>\n",
       "    </tr>\n",
       "    <tr>\n",
       "      <th>3</th>\n",
       "      <td>0.4</td>\n",
       "      <td>1.0</td>\n",
       "      <td>1.000</td>\n",
       "    </tr>\n",
       "    <tr>\n",
       "      <th>4</th>\n",
       "      <td>0.5</td>\n",
       "      <td>1.0</td>\n",
       "      <td>1.000</td>\n",
       "    </tr>\n",
       "    <tr>\n",
       "      <th>5</th>\n",
       "      <td>0.6</td>\n",
       "      <td>1.0</td>\n",
       "      <td>0.986</td>\n",
       "    </tr>\n",
       "    <tr>\n",
       "      <th>6</th>\n",
       "      <td>0.7</td>\n",
       "      <td>1.0</td>\n",
       "      <td>0.991</td>\n",
       "    </tr>\n",
       "    <tr>\n",
       "      <th>7</th>\n",
       "      <td>0.8</td>\n",
       "      <td>1.0</td>\n",
       "      <td>0.981</td>\n",
       "    </tr>\n",
       "    <tr>\n",
       "      <th>8</th>\n",
       "      <td>0.9</td>\n",
       "      <td>1.0</td>\n",
       "      <td>0.981</td>\n",
       "    </tr>\n",
       "  </tbody>\n",
       "</table>\n",
       "</div>"
      ],
      "text/plain": [
       "   LearningRate  TrainAccuracy  TestAccuracy\n",
       "0           0.1            1.0         1.000\n",
       "1           0.2            1.0         1.000\n",
       "2           0.3            1.0         1.000\n",
       "3           0.4            1.0         1.000\n",
       "4           0.5            1.0         1.000\n",
       "5           0.6            1.0         0.986\n",
       "6           0.7            1.0         0.991\n",
       "7           0.8            1.0         0.981\n",
       "8           0.9            1.0         0.981"
      ]
     },
     "execution_count": 62,
     "metadata": {},
     "output_type": "execute_result"
    }
   ],
   "source": [
    "# train 및 test 정확도 결과 저장용\n",
    "train_accuracy = []; test_accuracy = []\n",
    "# learning_rate 학습률 변경: 0.1 ~ 0.9\n",
    "para_lr = [lr * 0.1 for lr in range(1, 10)]\n",
    "\n",
    "for v_learning_rate in para_lr:\n",
    "    gb = GradientBoostingClassifier(learning_rate = v_learning_rate, n_estimators = 100, random_state = 1234)\n",
    "    gb.fit(df_train_x, df_train_y)\n",
    "    train_accuracy.append(gb.score(df_train_x, df_train_y))\n",
    "    test_accuracy.append(gb.score(df_test_x, df_test_y))\n",
    "\n",
    "# 데이터 테이블로 저장\n",
    "df_accuracy_lr = pd.DataFrame()\n",
    "df_accuracy_lr[\"LearningRate\"] = para_lr\n",
    "df_accuracy_lr[\"TrainAccuracy\"] = train_accuracy\n",
    "df_accuracy_lr[\"TestAccuracy\"] = test_accuracy\n",
    "\n",
    "# LearningRate별 정확도 테이블\n",
    "df_accuracy_lr"
   ]
  },
  {
   "cell_type": "code",
   "execution_count": 64,
   "metadata": {},
   "outputs": [
    {
     "data": {
      "text/plain": [
       "<matplotlib.legend.Legend at 0x14423fd0>"
      ]
     },
     "execution_count": 64,
     "metadata": {},
     "output_type": "execute_result"
    },
    {
     "data": {
      "image/png": "[encoded data removed]",
      "text/plain": [
       "<Figure size 432x288 with 1 Axes>"
      ]
     },
     "metadata": {
      "needs_background": "light"
     },
     "output_type": "display_data"
    }
   ],
   "source": [
    "# LearningRate별 정확도 그래프로 확인\n",
    "plt.plot(para_lr, train_accuracy, linestyle = \"-\", label = \"Train Accuracy\")\n",
    "plt.plot(para_lr, test_accuracy, linestyle = \"--\", label = \"Test Accuracy\")\n",
    "plt.ylabel(\"accuracy\"); plt.xlabel(\"learning_rate\")\n",
    "plt.legend()"
   ]
  },
  {
   "cell_type": "markdown",
   "metadata": {},
   "source": [
    "learning_rate = 0.1"
   ]
  },
  {
   "cell_type": "markdown",
   "metadata": {},
   "source": [
    "#### max_depth: 최대 깊이 변경에 따른 모델의 정확도 확인"
   ]
  },
  {
   "cell_type": "code",
   "execution_count": 65,
   "metadata": {},
   "outputs": [
    {
     "data": {
      "text/html": [
       "<div>\n",
       "<style scoped>\n",
       "    .dataframe tbody tr th:only-of-type {\n",
       "        vertical-align: middle;\n",
       "    }\n",
       "\n",
       "    .dataframe tbody tr th {\n",
       "        vertical-align: top;\n",
       "    }\n",
       "\n",
       "    .dataframe thead th {\n",
       "        text-align: right;\n",
       "    }\n",
       "</style>\n",
       "<table border=\"1\" class=\"dataframe\">\n",
       "  <thead>\n",
       "    <tr style=\"text-align: right;\">\n",
       "      <th></th>\n",
       "      <th>Depth</th>\n",
       "      <th>TrainAccuracy</th>\n",
       "      <th>TestAccuracy</th>\n",
       "    </tr>\n",
       "  </thead>\n",
       "  <tbody>\n",
       "    <tr>\n",
       "      <th>0</th>\n",
       "      <td>1</td>\n",
       "      <td>0.966</td>\n",
       "      <td>0.977</td>\n",
       "    </tr>\n",
       "    <tr>\n",
       "      <th>1</th>\n",
       "      <td>2</td>\n",
       "      <td>0.994</td>\n",
       "      <td>0.995</td>\n",
       "    </tr>\n",
       "    <tr>\n",
       "      <th>2</th>\n",
       "      <td>3</td>\n",
       "      <td>1.000</td>\n",
       "      <td>1.000</td>\n",
       "    </tr>\n",
       "    <tr>\n",
       "      <th>3</th>\n",
       "      <td>4</td>\n",
       "      <td>1.000</td>\n",
       "      <td>1.000</td>\n",
       "    </tr>\n",
       "    <tr>\n",
       "      <th>4</th>\n",
       "      <td>5</td>\n",
       "      <td>1.000</td>\n",
       "      <td>0.995</td>\n",
       "    </tr>\n",
       "    <tr>\n",
       "      <th>5</th>\n",
       "      <td>6</td>\n",
       "      <td>1.000</td>\n",
       "      <td>0.995</td>\n",
       "    </tr>\n",
       "    <tr>\n",
       "      <th>6</th>\n",
       "      <td>7</td>\n",
       "      <td>1.000</td>\n",
       "      <td>0.995</td>\n",
       "    </tr>\n",
       "    <tr>\n",
       "      <th>7</th>\n",
       "      <td>8</td>\n",
       "      <td>1.000</td>\n",
       "      <td>0.991</td>\n",
       "    </tr>\n",
       "    <tr>\n",
       "      <th>8</th>\n",
       "      <td>9</td>\n",
       "      <td>1.000</td>\n",
       "      <td>0.977</td>\n",
       "    </tr>\n",
       "    <tr>\n",
       "      <th>9</th>\n",
       "      <td>10</td>\n",
       "      <td>1.000</td>\n",
       "      <td>0.995</td>\n",
       "    </tr>\n",
       "  </tbody>\n",
       "</table>\n",
       "</div>"
      ],
      "text/plain": [
       "   Depth  TrainAccuracy  TestAccuracy\n",
       "0      1          0.966         0.977\n",
       "1      2          0.994         0.995\n",
       "2      3          1.000         1.000\n",
       "3      4          1.000         1.000\n",
       "4      5          1.000         0.995\n",
       "5      6          1.000         0.995\n",
       "6      7          1.000         0.995\n",
       "7      8          1.000         0.991\n",
       "8      9          1.000         0.977\n",
       "9     10          1.000         0.995"
      ]
     },
     "execution_count": 65,
     "metadata": {},
     "output_type": "execute_result"
    }
   ],
   "source": [
    "# train 및 test 정확도 결과 저장용\n",
    "train_accuracy = []; test_accuracy = []\n",
    "# max_depth: 최대 깊이 변경\n",
    "para_depth = [depth for depth in range(1, 11)]\n",
    "\n",
    "for v_max_depth in para_depth:\n",
    "    gb = GradientBoostingClassifier(max_depth = v_max_depth,\n",
    "                                    n_estimators = 100, learning_rate = 0.1, random_state=1234)\n",
    "    gb.fit(df_train_x, df_train_y)\n",
    "    train_accuracy.append(gb.score(df_train_x, df_train_y))\n",
    "    test_accuracy.append(gb.score(df_test_x, df_test_y))\n",
    "\n",
    "# 데이터 테이블로 저장\n",
    "df_accuracy_depth = pd.DataFrame()\n",
    "df_accuracy_depth[\"Depth\"] = para_depth\n",
    "df_accuracy_depth[\"TrainAccuracy\"] = train_accuracy\n",
    "df_accuracy_depth[\"TestAccuracy\"] = test_accuracy\n",
    "\n",
    "# max_depth별 정확도 테이블\n",
    "df_accuracy_depth"
   ]
  },
  {
   "cell_type": "code",
   "execution_count": 67,
   "metadata": {},
   "outputs": [
    {
     "data": {
      "text/plain": [
       "<matplotlib.legend.Legend at 0x534feb8>"
      ]
     },
     "execution_count": 67,
     "metadata": {},
     "output_type": "execute_result"
    },
    {
     "data": {
      "image/png": "[encoded data removed]",
      "text/plain": [
       "<Figure size 432x288 with 1 Axes>"
      ]
     },
     "metadata": {
      "needs_background": "light"
     },
     "output_type": "display_data"
    }
   ],
   "source": [
    "# 정확도를 그래프로 표현\n",
    "plt.plot(para_depth, train_accuracy, linestyle = \"-\", label = \"Train Accuracy\")\n",
    "plt.plot(para_depth, test_accuracy, linestyle = \"--\", label = \"Test Accuracy\")\n",
    "plt.ylabel(\"accuracy\"); plt.xlabel(\"max_depth\")\n",
    "plt.legend()"
   ]
  },
  {
   "cell_type": "markdown",
   "metadata": {},
   "source": [
    "max_depth = 4"
   ]
  },
  {
   "cell_type": "markdown",
   "metadata": {},
   "source": [
    "#### min_samples_leaf: leaf 수 변경에 따른 모델의 정확도 확인"
   ]
  },
  {
   "cell_type": "code",
   "execution_count": 68,
   "metadata": {},
   "outputs": [
    {
     "data": {
      "text/html": [
       "<div>\n",
       "<style scoped>\n",
       "    .dataframe tbody tr th:only-of-type {\n",
       "        vertical-align: middle;\n",
       "    }\n",
       "\n",
       "    .dataframe tbody tr th {\n",
       "        vertical-align: top;\n",
       "    }\n",
       "\n",
       "    .dataframe thead th {\n",
       "        text-align: right;\n",
       "    }\n",
       "</style>\n",
       "<table border=\"1\" class=\"dataframe\">\n",
       "  <thead>\n",
       "    <tr style=\"text-align: right;\">\n",
       "      <th></th>\n",
       "      <th>MinSamplesLeaf</th>\n",
       "      <th>TrainAccuracy</th>\n",
       "      <th>TestAccuracy</th>\n",
       "    </tr>\n",
       "  </thead>\n",
       "  <tbody>\n",
       "    <tr>\n",
       "      <th>0</th>\n",
       "      <td>10</td>\n",
       "      <td>1.000</td>\n",
       "      <td>0.995</td>\n",
       "    </tr>\n",
       "    <tr>\n",
       "      <th>1</th>\n",
       "      <td>20</td>\n",
       "      <td>1.000</td>\n",
       "      <td>0.991</td>\n",
       "    </tr>\n",
       "    <tr>\n",
       "      <th>2</th>\n",
       "      <td>30</td>\n",
       "      <td>0.986</td>\n",
       "      <td>0.931</td>\n",
       "    </tr>\n",
       "    <tr>\n",
       "      <th>3</th>\n",
       "      <td>40</td>\n",
       "      <td>0.972</td>\n",
       "      <td>0.935</td>\n",
       "    </tr>\n",
       "    <tr>\n",
       "      <th>4</th>\n",
       "      <td>50</td>\n",
       "      <td>0.966</td>\n",
       "      <td>0.944</td>\n",
       "    </tr>\n",
       "    <tr>\n",
       "      <th>5</th>\n",
       "      <td>60</td>\n",
       "      <td>0.962</td>\n",
       "      <td>0.935</td>\n",
       "    </tr>\n",
       "    <tr>\n",
       "      <th>6</th>\n",
       "      <td>70</td>\n",
       "      <td>0.956</td>\n",
       "      <td>0.935</td>\n",
       "    </tr>\n",
       "    <tr>\n",
       "      <th>7</th>\n",
       "      <td>80</td>\n",
       "      <td>0.948</td>\n",
       "      <td>0.917</td>\n",
       "    </tr>\n",
       "    <tr>\n",
       "      <th>8</th>\n",
       "      <td>90</td>\n",
       "      <td>0.946</td>\n",
       "      <td>0.935</td>\n",
       "    </tr>\n",
       "    <tr>\n",
       "      <th>9</th>\n",
       "      <td>100</td>\n",
       "      <td>0.940</td>\n",
       "      <td>0.931</td>\n",
       "    </tr>\n",
       "  </tbody>\n",
       "</table>\n",
       "</div>"
      ],
      "text/plain": [
       "   MinSamplesLeaf  TrainAccuracy  TestAccuracy\n",
       "0              10          1.000         0.995\n",
       "1              20          1.000         0.991\n",
       "2              30          0.986         0.931\n",
       "3              40          0.972         0.935\n",
       "4              50          0.966         0.944\n",
       "5              60          0.962         0.935\n",
       "6              70          0.956         0.935\n",
       "7              80          0.948         0.917\n",
       "8              90          0.946         0.935\n",
       "9             100          0.940         0.931"
      ]
     },
     "execution_count": 68,
     "metadata": {},
     "output_type": "execute_result"
    }
   ],
   "source": [
    "# train 및 test 정확도 결과 저장용\n",
    "train_accuracy = []; test_accuracy = []\n",
    "# min_samples_leaf: 잎사귀 수 제한\n",
    "para_leaf = [n_leaf * 10 for n_leaf in range(1, 11)]\n",
    "\n",
    "for v_min_samples_leaf in para_leaf:\n",
    "    gb = GradientBoostingClassifier(min_samples_leaf = v_min_samples_leaf,\n",
    "                                     max_depth = 4, n_estimators = 100, learning_rate = 0.1, random_state=1234)\n",
    "    gb.fit(df_train_x, df_train_y)\n",
    "    train_accuracy.append(gb.score(df_train_x, df_train_y))\n",
    "    test_accuracy.append(gb.score(df_test_x, df_test_y))\n",
    "\n",
    "# 데이터 테이블로 저장\n",
    "df_accuracy_leaf = pd.DataFrame()\n",
    "df_accuracy_leaf[\"MinSamplesLeaf\"] = para_leaf\n",
    "df_accuracy_leaf[\"TrainAccuracy\"] = train_accuracy\n",
    "df_accuracy_leaf[\"TestAccuracy\"] = test_accuracy\n",
    "\n",
    "# min_samples_leaf별 정확도 테이블\n",
    "df_accuracy_leaf"
   ]
  },
  {
   "cell_type": "code",
   "execution_count": 70,
   "metadata": {},
   "outputs": [
    {
     "data": {
      "text/plain": [
       "<matplotlib.legend.Legend at 0x541fcc0>"
      ]
     },
     "execution_count": 70,
     "metadata": {},
     "output_type": "execute_result"
    },
    {
     "data": {
      "image/png": "[encoded data removed]",
      "text/plain": [
       "<Figure size 432x288 with 1 Axes>"
      ]
     },
     "metadata": {
      "needs_background": "light"
     },
     "output_type": "display_data"
    }
   ],
   "source": [
    "# 정확도를 그래프로 표현\n",
    "plt.plot(para_leaf, train_accuracy, linestyle = \"-\", label = \"Train Accuracy\")\n",
    "plt.plot(para_leaf, test_accuracy, linestyle = \"--\", label = \"Test Accuracy\")\n",
    "plt.ylabel(\"accuracy\"); plt.xlabel(\"min_samples_leaf\")\n",
    "plt.legend()"
   ]
  },
  {
   "cell_type": "markdown",
   "metadata": {},
   "source": [
    "min_samples_leaf = 10"
   ]
  },
  {
   "cell_type": "markdown",
   "metadata": {},
   "source": [
    "#### min_samples_split: 분리 노드의 최소 샘플 수에 따른 모델의 정확도 결과"
   ]
  },
  {
   "cell_type": "code",
   "execution_count": 71,
   "metadata": {},
   "outputs": [
    {
     "data": {
      "text/html": [
       "<div>\n",
       "<style scoped>\n",
       "    .dataframe tbody tr th:only-of-type {\n",
       "        vertical-align: middle;\n",
       "    }\n",
       "\n",
       "    .dataframe tbody tr th {\n",
       "        vertical-align: top;\n",
       "    }\n",
       "\n",
       "    .dataframe thead th {\n",
       "        text-align: right;\n",
       "    }\n",
       "</style>\n",
       "<table border=\"1\" class=\"dataframe\">\n",
       "  <thead>\n",
       "    <tr style=\"text-align: right;\">\n",
       "      <th></th>\n",
       "      <th>MinSamplesSplit</th>\n",
       "      <th>TrainAccuracy</th>\n",
       "      <th>TestAccuracy</th>\n",
       "    </tr>\n",
       "  </thead>\n",
       "  <tbody>\n",
       "    <tr>\n",
       "      <th>0</th>\n",
       "      <td>20</td>\n",
       "      <td>1.0</td>\n",
       "      <td>0.995</td>\n",
       "    </tr>\n",
       "    <tr>\n",
       "      <th>1</th>\n",
       "      <td>30</td>\n",
       "      <td>1.0</td>\n",
       "      <td>0.995</td>\n",
       "    </tr>\n",
       "    <tr>\n",
       "      <th>2</th>\n",
       "      <td>40</td>\n",
       "      <td>1.0</td>\n",
       "      <td>0.995</td>\n",
       "    </tr>\n",
       "    <tr>\n",
       "      <th>3</th>\n",
       "      <td>50</td>\n",
       "      <td>1.0</td>\n",
       "      <td>0.995</td>\n",
       "    </tr>\n",
       "    <tr>\n",
       "      <th>4</th>\n",
       "      <td>60</td>\n",
       "      <td>1.0</td>\n",
       "      <td>0.991</td>\n",
       "    </tr>\n",
       "    <tr>\n",
       "      <th>5</th>\n",
       "      <td>70</td>\n",
       "      <td>1.0</td>\n",
       "      <td>0.991</td>\n",
       "    </tr>\n",
       "    <tr>\n",
       "      <th>6</th>\n",
       "      <td>80</td>\n",
       "      <td>1.0</td>\n",
       "      <td>0.991</td>\n",
       "    </tr>\n",
       "    <tr>\n",
       "      <th>7</th>\n",
       "      <td>90</td>\n",
       "      <td>1.0</td>\n",
       "      <td>0.991</td>\n",
       "    </tr>\n",
       "    <tr>\n",
       "      <th>8</th>\n",
       "      <td>100</td>\n",
       "      <td>1.0</td>\n",
       "      <td>0.991</td>\n",
       "    </tr>\n",
       "  </tbody>\n",
       "</table>\n",
       "</div>"
      ],
      "text/plain": [
       "   MinSamplesSplit  TrainAccuracy  TestAccuracy\n",
       "0               20            1.0         0.995\n",
       "1               30            1.0         0.995\n",
       "2               40            1.0         0.995\n",
       "3               50            1.0         0.995\n",
       "4               60            1.0         0.991\n",
       "5               70            1.0         0.991\n",
       "6               80            1.0         0.991\n",
       "7               90            1.0         0.991\n",
       "8              100            1.0         0.991"
      ]
     },
     "execution_count": 71,
     "metadata": {},
     "output_type": "execute_result"
    }
   ],
   "source": [
    "# train 및 test 정확도 결과 저장용\n",
    "train_accuracy = []; test_accuracy = []\n",
    "# min_samples_split: 분할하기 위한 노드의 최소 샘플 수 \n",
    "para_split = [n_split * 10 for n_split in range(2, 11)]\n",
    "\n",
    "for v_min_samples_split in para_split:\n",
    "    gb = GradientBoostingClassifier(min_samples_split = v_min_samples_split, min_samples_leaf = 10,\n",
    "                                    max_depth = 4,n_estimators = 100, learning_rate = 0.1, random_state=1234)\n",
    "    gb.fit(df_train_x, df_train_y)\n",
    "    train_accuracy.append(gb.score(df_train_x, df_train_y))\n",
    "    test_accuracy.append(gb.score(df_test_x, df_test_y))\n",
    "\n",
    "# 데이터 테이블로 저장\n",
    "df_accuracy_split = pd.DataFrame()\n",
    "df_accuracy_split[\"MinSamplesSplit\"] = para_split\n",
    "df_accuracy_split[\"TrainAccuracy\"] = train_accuracy\n",
    "df_accuracy_split[\"TestAccuracy\"] = test_accuracy\n",
    "\n",
    "# min_samples_leaf별 정확도 테이블\n",
    "df_accuracy_split"
   ]
  },
  {
   "cell_type": "code",
   "execution_count": 73,
   "metadata": {},
   "outputs": [
    {
     "data": {
      "text/plain": [
       "<matplotlib.legend.Legend at 0x162e8400>"
      ]
     },
     "execution_count": 73,
     "metadata": {},
     "output_type": "execute_result"
    },
    {
     "data": {
      "image/png": "[encoded data removed]",
      "text/plain": [
       "<Figure size 432x288 with 1 Axes>"
      ]
     },
     "metadata": {
      "needs_background": "light"
     },
     "output_type": "display_data"
    }
   ],
   "source": [
    "# 정확도를 그래프로 표현\n",
    "plt.plot(para_split, train_accuracy, linestyle = \"-\", label = \"Train Accuracy\")\n",
    "plt.plot(para_split, test_accuracy, linestyle = \"--\", label = \"Test Accuracy\")\n",
    "plt.ylabel(\"accuracy\"); plt.xlabel(\"min_samples_split\")\n",
    "plt.legend()"
   ]
  },
  {
   "cell_type": "markdown",
   "metadata": {},
   "source": [
    "min_samples_split = 20"
   ]
  },
  {
   "cell_type": "markdown",
   "metadata": {},
   "source": [
    "### 최종 모델 선택"
   ]
  },
  {
   "cell_type": "code",
   "execution_count": 74,
   "metadata": {},
   "outputs": [
    {
     "data": {
      "text/plain": [
       "GradientBoostingClassifier(criterion='friedman_mse', init=None,\n",
       "              learning_rate=0.1, loss='deviance', max_depth=4,\n",
       "              max_features=None, max_leaf_nodes=None,\n",
       "              min_impurity_decrease=0.0, min_impurity_split=None,\n",
       "              min_samples_leaf=10, min_samples_split=20,\n",
       "              min_weight_fraction_leaf=0.0, n_estimators=100,\n",
       "              n_iter_no_change=None, presort='auto', random_state=1234,\n",
       "              subsample=1.0, tol=0.0001, validation_fraction=0.1,\n",
       "              verbose=0, warm_start=False)"
      ]
     },
     "execution_count": 74,
     "metadata": {},
     "output_type": "execute_result"
    }
   ],
   "source": [
    "# 최종 모델\n",
    "gb_final = GradientBoostingClassifier(min_samples_leaf = 10, min_samples_split = 20, max_depth = 4, n_estimators = 100,\n",
    "                                      learning_rate = 0.1, random_state=1234)\n",
    "gb_final.fit(df_train_x, df_train_y)"
   ]
  },
  {
   "cell_type": "markdown",
   "metadata": {},
   "source": [
    "### 예측 & 평가"
   ]
  },
  {
   "cell_type": "code",
   "execution_count": 75,
   "metadata": {},
   "outputs": [
    {
     "name": "stdout",
     "output_type": "stream",
     "text": [
      "Accuracy on train set: 1.000\n",
      "Accuracy on test set: 0.995\n",
      "\n",
      "Confusion matrix: \n",
      "[[145   0]\n",
      " [  1  70]]\n"
     ]
    }
   ],
   "source": [
    "# 예측\n",
    "y_pred = gb_final.predict(df_test_x)\n",
    "\n",
    "# train 데이터 셋 정확도\n",
    "print(\"Accuracy on train set: {:.3f}\".format(gb_final.score(df_train_x, df_train_y)))\n",
    "# test 데이터 셋 정확도\n",
    "print(\"Accuracy on test set: {:.3f}\\n\".format(gb_final.score(df_test_x, df_test_y)))\n",
    "# confusion matrix\n",
    "print(\"Confusion matrix: \\n{}\".format(confusion_matrix(df_test_y, y_pred)))"
   ]
  },
  {
   "cell_type": "markdown",
   "metadata": {},
   "source": [
    "### 목표변수 중요도"
   ]
  },
  {
   "cell_type": "code",
   "execution_count": 76,
   "metadata": {},
   "outputs": [
    {
     "data": {
      "text/html": [
       "<div>\n",
       "<style scoped>\n",
       "    .dataframe tbody tr th:only-of-type {\n",
       "        vertical-align: middle;\n",
       "    }\n",
       "\n",
       "    .dataframe tbody tr th {\n",
       "        vertical-align: top;\n",
       "    }\n",
       "\n",
       "    .dataframe thead th {\n",
       "        text-align: right;\n",
       "    }\n",
       "</style>\n",
       "<table border=\"1\" class=\"dataframe\">\n",
       "  <thead>\n",
       "    <tr style=\"text-align: right;\">\n",
       "      <th></th>\n",
       "      <th>Feature</th>\n",
       "      <th>Importance</th>\n",
       "    </tr>\n",
       "  </thead>\n",
       "  <tbody>\n",
       "    <tr>\n",
       "      <th>11</th>\n",
       "      <td>ROLLING_TEMP_T5</td>\n",
       "      <td>6.008e-01</td>\n",
       "    </tr>\n",
       "    <tr>\n",
       "      <th>16</th>\n",
       "      <td>HSB_미적용</td>\n",
       "      <td>1.164e-01</td>\n",
       "    </tr>\n",
       "    <tr>\n",
       "      <th>7</th>\n",
       "      <td>FUR_SZ_TEMP</td>\n",
       "      <td>8.016e-02</td>\n",
       "    </tr>\n",
       "    <tr>\n",
       "      <th>12</th>\n",
       "      <td>ROLLING_DESCALING</td>\n",
       "      <td>5.240e-02</td>\n",
       "    </tr>\n",
       "    <tr>\n",
       "      <th>10</th>\n",
       "      <td>FUR_EXTEMP</td>\n",
       "      <td>4.461e-02</td>\n",
       "    </tr>\n",
       "    <tr>\n",
       "      <th>0</th>\n",
       "      <td>PT_THK</td>\n",
       "      <td>4.311e-02</td>\n",
       "    </tr>\n",
       "    <tr>\n",
       "      <th>17</th>\n",
       "      <td>HSB_적용</td>\n",
       "      <td>4.159e-02</td>\n",
       "    </tr>\n",
       "    <tr>\n",
       "      <th>8</th>\n",
       "      <td>FUR_SZ_TIME</td>\n",
       "      <td>5.159e-03</td>\n",
       "    </tr>\n",
       "    <tr>\n",
       "      <th>9</th>\n",
       "      <td>FUR_TIME</td>\n",
       "      <td>3.607e-03</td>\n",
       "    </tr>\n",
       "    <tr>\n",
       "      <th>2</th>\n",
       "      <td>PT_LTH</td>\n",
       "      <td>2.836e-03</td>\n",
       "    </tr>\n",
       "    <tr>\n",
       "      <th>3</th>\n",
       "      <td>PT_WGT</td>\n",
       "      <td>2.403e-03</td>\n",
       "    </tr>\n",
       "    <tr>\n",
       "      <th>5</th>\n",
       "      <td>FUR_HZ_TEMP</td>\n",
       "      <td>2.145e-03</td>\n",
       "    </tr>\n",
       "    <tr>\n",
       "      <th>21</th>\n",
       "      <td>WORK_GR_4조</td>\n",
       "      <td>2.024e-03</td>\n",
       "    </tr>\n",
       "    <tr>\n",
       "      <th>1</th>\n",
       "      <td>PT_WDTH</td>\n",
       "      <td>1.202e-03</td>\n",
       "    </tr>\n",
       "    <tr>\n",
       "      <th>6</th>\n",
       "      <td>FUR_HZ_TIME</td>\n",
       "      <td>7.694e-04</td>\n",
       "    </tr>\n",
       "    <tr>\n",
       "      <th>15</th>\n",
       "      <td>FUR_NO_3호기</td>\n",
       "      <td>4.740e-04</td>\n",
       "    </tr>\n",
       "    <tr>\n",
       "      <th>4</th>\n",
       "      <td>FUR_NO_ROW</td>\n",
       "      <td>2.712e-04</td>\n",
       "    </tr>\n",
       "    <tr>\n",
       "      <th>13</th>\n",
       "      <td>FUR_NO_1호기</td>\n",
       "      <td>2.817e-05</td>\n",
       "    </tr>\n",
       "    <tr>\n",
       "      <th>19</th>\n",
       "      <td>WORK_GR_2조</td>\n",
       "      <td>2.314e-05</td>\n",
       "    </tr>\n",
       "    <tr>\n",
       "      <th>20</th>\n",
       "      <td>WORK_GR_3조</td>\n",
       "      <td>1.971e-05</td>\n",
       "    </tr>\n",
       "    <tr>\n",
       "      <th>14</th>\n",
       "      <td>FUR_NO_2호기</td>\n",
       "      <td>0.000e+00</td>\n",
       "    </tr>\n",
       "    <tr>\n",
       "      <th>18</th>\n",
       "      <td>WORK_GR_1조</td>\n",
       "      <td>0.000e+00</td>\n",
       "    </tr>\n",
       "  </tbody>\n",
       "</table>\n",
       "</div>"
      ],
      "text/plain": [
       "              Feature  Importance\n",
       "11    ROLLING_TEMP_T5   6.008e-01\n",
       "16            HSB_미적용   1.164e-01\n",
       "7         FUR_SZ_TEMP   8.016e-02\n",
       "12  ROLLING_DESCALING   5.240e-02\n",
       "10         FUR_EXTEMP   4.461e-02\n",
       "0              PT_THK   4.311e-02\n",
       "17             HSB_적용   4.159e-02\n",
       "8         FUR_SZ_TIME   5.159e-03\n",
       "9            FUR_TIME   3.607e-03\n",
       "2              PT_LTH   2.836e-03\n",
       "3              PT_WGT   2.403e-03\n",
       "5         FUR_HZ_TEMP   2.145e-03\n",
       "21         WORK_GR_4조   2.024e-03\n",
       "1             PT_WDTH   1.202e-03\n",
       "6         FUR_HZ_TIME   7.694e-04\n",
       "15         FUR_NO_3호기   4.740e-04\n",
       "4          FUR_NO_ROW   2.712e-04\n",
       "13         FUR_NO_1호기   2.817e-05\n",
       "19         WORK_GR_2조   2.314e-05\n",
       "20         WORK_GR_3조   1.971e-05\n",
       "14         FUR_NO_2호기   0.000e+00\n",
       "18         WORK_GR_1조   0.000e+00"
      ]
     },
     "execution_count": 76,
     "metadata": {},
     "output_type": "execute_result"
    }
   ],
   "source": [
    "# tree.feature_importances_로 설명변수 중요도 확인 및 테이블로 저장\n",
    "df_importance = pd.DataFrame()\n",
    "df_importance[\"Feature\"] = df_train_x.columns\n",
    "df_importance[\"Importance\"] = gb_final.feature_importances_\n",
    "# df_feature_importance의 테이블을 중요도별로 정렬\n",
    "df_importance.sort_values(\"Importance\", ascending=False, inplace = True)\n",
    "df_importance"
   ]
  },
  {
   "cell_type": "code",
   "execution_count": 78,
   "metadata": {},
   "outputs": [
    {
     "data": {
      "text/plain": [
       "Text(0,0.5,'변수')"
      ]
     },
     "execution_count": 78,
     "metadata": {},
     "output_type": "execute_result"
    },
    {
     "data": {
      "image/png": "[encoded data removed]",
      "text/plain": [
       "<Figure size 432x288 with 1 Axes>"
      ]
     },
     "metadata": {
      "needs_background": "light"
     },
     "output_type": "display_data"
    }
   ],
   "source": [
    "# 설명변수 중요도 그래프\n",
    "# 중요도가 높은 변수를 상위에 그림 \n",
    "df_importance .sort_values(\"Importance\", ascending=True, inplace = True)\n",
    "coordinates = range(len(df_importance ))\n",
    "plt.barh(y = coordinates, width = df_importance [\"Importance\"])\n",
    "plt.yticks(coordinates, df_importance [\"Feature\"])\n",
    "plt.xlabel(\"변수 중요도\")\n",
    "plt.ylabel(\"변수\")"
   ]
  },
  {
   "cell_type": "markdown",
   "metadata": {},
   "source": [
    "## 최근접 이웃"
   ]
  },
  {
   "cell_type": "markdown",
   "metadata": {},
   "source": [
    "#### 기본 옵션으로 트리 생성"
   ]
  },
  {
   "cell_type": "code",
   "execution_count": 79,
   "metadata": {},
   "outputs": [
    {
     "name": "stdout",
     "output_type": "stream",
     "text": [
      "Accuracy on train set: 0.788\n",
      "Accuracy on test set: 0.764\n"
     ]
    }
   ],
   "source": [
    "# KNN 모델 생성(default 설정)\n",
    "knn_uncusotomized = KNeighborsClassifier()\n",
    "knn_uncusotomized.fit(df_train_x, df_train_y)\n",
    "# train 데이터 셋 정확도\n",
    "print(\"Accuracy on train set: {:.3f}\".format(knn_uncusotomized.score(df_train_x, df_train_y)))\n",
    "# test 데이터 셋 정확도\n",
    "print(\"Accuracy on test set: {:.3f}\".format(knn_uncusotomized.score(df_test_x, df_test_y)))"
   ]
  },
  {
   "cell_type": "markdown",
   "metadata": {},
   "source": [
    "#### 이웃 수 증가에 따른 정확도 변화"
   ]
  },
  {
   "cell_type": "code",
   "execution_count": 80,
   "metadata": {},
   "outputs": [
    {
     "data": {
      "text/html": [
       "<div>\n",
       "<style scoped>\n",
       "    .dataframe tbody tr th:only-of-type {\n",
       "        vertical-align: middle;\n",
       "    }\n",
       "\n",
       "    .dataframe tbody tr th {\n",
       "        vertical-align: top;\n",
       "    }\n",
       "\n",
       "    .dataframe thead th {\n",
       "        text-align: right;\n",
       "    }\n",
       "</style>\n",
       "<table border=\"1\" class=\"dataframe\">\n",
       "  <thead>\n",
       "    <tr style=\"text-align: right;\">\n",
       "      <th></th>\n",
       "      <th>Neighbors</th>\n",
       "      <th>TrainAccuracy</th>\n",
       "      <th>TestAccuracy</th>\n",
       "    </tr>\n",
       "  </thead>\n",
       "  <tbody>\n",
       "    <tr>\n",
       "      <th>0</th>\n",
       "      <td>1</td>\n",
       "      <td>1.000</td>\n",
       "      <td>0.722</td>\n",
       "    </tr>\n",
       "    <tr>\n",
       "      <th>1</th>\n",
       "      <td>2</td>\n",
       "      <td>0.865</td>\n",
       "      <td>0.755</td>\n",
       "    </tr>\n",
       "    <tr>\n",
       "      <th>2</th>\n",
       "      <td>3</td>\n",
       "      <td>0.827</td>\n",
       "      <td>0.759</td>\n",
       "    </tr>\n",
       "    <tr>\n",
       "      <th>3</th>\n",
       "      <td>4</td>\n",
       "      <td>0.788</td>\n",
       "      <td>0.755</td>\n",
       "    </tr>\n",
       "    <tr>\n",
       "      <th>4</th>\n",
       "      <td>5</td>\n",
       "      <td>0.788</td>\n",
       "      <td>0.764</td>\n",
       "    </tr>\n",
       "    <tr>\n",
       "      <th>5</th>\n",
       "      <td>6</td>\n",
       "      <td>0.786</td>\n",
       "      <td>0.736</td>\n",
       "    </tr>\n",
       "    <tr>\n",
       "      <th>6</th>\n",
       "      <td>7</td>\n",
       "      <td>0.784</td>\n",
       "      <td>0.755</td>\n",
       "    </tr>\n",
       "    <tr>\n",
       "      <th>7</th>\n",
       "      <td>8</td>\n",
       "      <td>0.766</td>\n",
       "      <td>0.731</td>\n",
       "    </tr>\n",
       "    <tr>\n",
       "      <th>8</th>\n",
       "      <td>9</td>\n",
       "      <td>0.782</td>\n",
       "      <td>0.764</td>\n",
       "    </tr>\n",
       "    <tr>\n",
       "      <th>9</th>\n",
       "      <td>10</td>\n",
       "      <td>0.764</td>\n",
       "      <td>0.731</td>\n",
       "    </tr>\n",
       "    <tr>\n",
       "      <th>10</th>\n",
       "      <td>11</td>\n",
       "      <td>0.756</td>\n",
       "      <td>0.750</td>\n",
       "    </tr>\n",
       "    <tr>\n",
       "      <th>11</th>\n",
       "      <td>12</td>\n",
       "      <td>0.758</td>\n",
       "      <td>0.718</td>\n",
       "    </tr>\n",
       "    <tr>\n",
       "      <th>12</th>\n",
       "      <td>13</td>\n",
       "      <td>0.764</td>\n",
       "      <td>0.750</td>\n",
       "    </tr>\n",
       "    <tr>\n",
       "      <th>13</th>\n",
       "      <td>14</td>\n",
       "      <td>0.760</td>\n",
       "      <td>0.731</td>\n",
       "    </tr>\n",
       "    <tr>\n",
       "      <th>14</th>\n",
       "      <td>15</td>\n",
       "      <td>0.752</td>\n",
       "      <td>0.727</td>\n",
       "    </tr>\n",
       "  </tbody>\n",
       "</table>\n",
       "</div>"
      ],
      "text/plain": [
       "    Neighbors  TrainAccuracy  TestAccuracy\n",
       "0           1          1.000         0.722\n",
       "1           2          0.865         0.755\n",
       "2           3          0.827         0.759\n",
       "3           4          0.788         0.755\n",
       "4           5          0.788         0.764\n",
       "5           6          0.786         0.736\n",
       "6           7          0.784         0.755\n",
       "7           8          0.766         0.731\n",
       "8           9          0.782         0.764\n",
       "9          10          0.764         0.731\n",
       "10         11          0.756         0.750\n",
       "11         12          0.758         0.718\n",
       "12         13          0.764         0.750\n",
       "13         14          0.760         0.731\n",
       "14         15          0.752         0.727"
      ]
     },
     "execution_count": 80,
     "metadata": {},
     "output_type": "execute_result"
    }
   ],
   "source": [
    "# train 및 test 정확도 결과 저장용\n",
    "train_accuracy = []; test_accuracy = []\n",
    "# 최대 이웃 수: 1~15\n",
    "para_n_neighbors = [i for i in range(1, 16)]\n",
    "\n",
    "for v_n_neighbors in para_n_neighbors:\n",
    "    knn = KNeighborsClassifier(n_neighbors = v_n_neighbors)\n",
    "    knn.fit(df_train_x, df_train_y)\n",
    "    train_accuracy.append(knn.score(df_train_x, df_train_y))\n",
    "    test_accuracy.append(knn.score(df_test_x, df_test_y))\n",
    "\n",
    "# 데이터 테이블로 저장\n",
    "df_accuracy_neighbors = pd.DataFrame()\n",
    "df_accuracy_neighbors[\"Neighbors\"] = para_n_neighbors\n",
    "df_accuracy_neighbors[\"TrainAccuracy\"] = train_accuracy\n",
    "df_accuracy_neighbors[\"TestAccuracy\"] = test_accuracy\n",
    "df_accuracy_neighbors"
   ]
  },
  {
   "cell_type": "code",
   "execution_count": 81,
   "metadata": {},
   "outputs": [
    {
     "data": {
      "text/plain": [
       "<matplotlib.legend.Legend at 0x164c7668>"
      ]
     },
     "execution_count": 81,
     "metadata": {},
     "output_type": "execute_result"
    },
    {
     "data": {
      "image/png": "[encoded data removed]",
      "text/plain": [
       "<Figure size 432x288 with 1 Axes>"
      ]
     },
     "metadata": {
      "needs_background": "light"
     },
     "output_type": "display_data"
    }
   ],
   "source": [
    "# 정확도를 그래프로 표현\n",
    "plt.plot(para_n_neighbors, train_accuracy, linestyle = \"-\", label = \"Train Accuracy\")\n",
    "plt.plot(para_n_neighbors, test_accuracy, linestyle = \"--\", label = \"Test Accuracy\")\n",
    "plt.ylabel(\"accuracy\"); plt.xlabel(\"n_neighbors\")\n",
    "plt.legend()"
   ]
  },
  {
   "cell_type": "code",
   "execution_count": 82,
   "metadata": {},
   "outputs": [],
   "source": [
    "n_neighbors = 5"
   ]
  },
  {
   "cell_type": "markdown",
   "metadata": {},
   "source": [
    "#### 가중치별 이웃 수 증가에 따른 설명력 변화"
   ]
  },
  {
   "cell_type": "code",
   "execution_count": 84,
   "metadata": {},
   "outputs": [
    {
     "data": {
      "text/html": [
       "<div>\n",
       "<style scoped>\n",
       "    .dataframe tbody tr th:only-of-type {\n",
       "        vertical-align: middle;\n",
       "    }\n",
       "\n",
       "    .dataframe tbody tr th {\n",
       "        vertical-align: top;\n",
       "    }\n",
       "\n",
       "    .dataframe thead th {\n",
       "        text-align: right;\n",
       "    }\n",
       "</style>\n",
       "<table border=\"1\" class=\"dataframe\">\n",
       "  <thead>\n",
       "    <tr style=\"text-align: right;\">\n",
       "      <th></th>\n",
       "      <th>TrainAccuracy_distance</th>\n",
       "      <th>TrainAccuracy_uniform</th>\n",
       "      <th>TestAccuracy_distance</th>\n",
       "      <th>TestAccuracy_uniform</th>\n",
       "    </tr>\n",
       "    <tr>\n",
       "      <th>Neighbors</th>\n",
       "      <th></th>\n",
       "      <th></th>\n",
       "      <th></th>\n",
       "      <th></th>\n",
       "    </tr>\n",
       "  </thead>\n",
       "  <tbody>\n",
       "    <tr>\n",
       "      <th>1</th>\n",
       "      <td>1.0</td>\n",
       "      <td>1.000</td>\n",
       "      <td>0.722</td>\n",
       "      <td>0.722</td>\n",
       "    </tr>\n",
       "    <tr>\n",
       "      <th>2</th>\n",
       "      <td>1.0</td>\n",
       "      <td>0.865</td>\n",
       "      <td>0.722</td>\n",
       "      <td>0.755</td>\n",
       "    </tr>\n",
       "    <tr>\n",
       "      <th>3</th>\n",
       "      <td>1.0</td>\n",
       "      <td>0.827</td>\n",
       "      <td>0.755</td>\n",
       "      <td>0.759</td>\n",
       "    </tr>\n",
       "    <tr>\n",
       "      <th>4</th>\n",
       "      <td>1.0</td>\n",
       "      <td>0.788</td>\n",
       "      <td>0.759</td>\n",
       "      <td>0.755</td>\n",
       "    </tr>\n",
       "    <tr>\n",
       "      <th>5</th>\n",
       "      <td>1.0</td>\n",
       "      <td>0.788</td>\n",
       "      <td>0.759</td>\n",
       "      <td>0.764</td>\n",
       "    </tr>\n",
       "    <tr>\n",
       "      <th>6</th>\n",
       "      <td>1.0</td>\n",
       "      <td>0.786</td>\n",
       "      <td>0.769</td>\n",
       "      <td>0.736</td>\n",
       "    </tr>\n",
       "    <tr>\n",
       "      <th>7</th>\n",
       "      <td>1.0</td>\n",
       "      <td>0.784</td>\n",
       "      <td>0.750</td>\n",
       "      <td>0.755</td>\n",
       "    </tr>\n",
       "    <tr>\n",
       "      <th>8</th>\n",
       "      <td>1.0</td>\n",
       "      <td>0.766</td>\n",
       "      <td>0.745</td>\n",
       "      <td>0.731</td>\n",
       "    </tr>\n",
       "    <tr>\n",
       "      <th>9</th>\n",
       "      <td>1.0</td>\n",
       "      <td>0.782</td>\n",
       "      <td>0.745</td>\n",
       "      <td>0.764</td>\n",
       "    </tr>\n",
       "    <tr>\n",
       "      <th>10</th>\n",
       "      <td>1.0</td>\n",
       "      <td>0.764</td>\n",
       "      <td>0.736</td>\n",
       "      <td>0.731</td>\n",
       "    </tr>\n",
       "  </tbody>\n",
       "</table>\n",
       "</div>"
      ],
      "text/plain": [
       "           TrainAccuracy_distance  TrainAccuracy_uniform  \\\n",
       "Neighbors                                                  \n",
       "1                             1.0                  1.000   \n",
       "2                             1.0                  0.865   \n",
       "3                             1.0                  0.827   \n",
       "4                             1.0                  0.788   \n",
       "5                             1.0                  0.788   \n",
       "6                             1.0                  0.786   \n",
       "7                             1.0                  0.784   \n",
       "8                             1.0                  0.766   \n",
       "9                             1.0                  0.782   \n",
       "10                            1.0                  0.764   \n",
       "\n",
       "           TestAccuracy_distance  TestAccuracy_uniform  \n",
       "Neighbors                                               \n",
       "1                          0.722                 0.722  \n",
       "2                          0.722                 0.755  \n",
       "3                          0.755                 0.759  \n",
       "4                          0.759                 0.755  \n",
       "5                          0.759                 0.764  \n",
       "6                          0.769                 0.736  \n",
       "7                          0.750                 0.755  \n",
       "8                          0.745                 0.731  \n",
       "9                          0.745                 0.764  \n",
       "10                         0.736                 0.731  "
      ]
     },
     "execution_count": 84,
     "metadata": {},
     "output_type": "execute_result"
    }
   ],
   "source": [
    "# train 및 test 정확도 결과 저장용\n",
    "train_accuracy = []; test_accuracy = []\n",
    "# 이웃 수\n",
    "para_n_neighbors = [i for i in range(1,11)] * 2\n",
    "# 가중치(uniform, distance)\n",
    "para_weights = ([\"uniform\"]) * 10 + ([\"distance\"] * 10)\n",
    "\n",
    "for (v_n_neighbors, v_weights) in zip(para_n_neighbors, para_weights):\n",
    "    knn = KNeighborsClassifier(n_neighbors = v_n_neighbors, weights = v_weights)\n",
    "    knn.fit(df_train_x, df_train_y)\n",
    "    train_accuracy.append(knn.score(df_train_x, df_train_y))\n",
    "    test_accuracy.append(knn.score(df_test_x, df_test_y))    \n",
    "    \n",
    "# 데이터 테이블로 저장\n",
    "df_accuracy_weights = pd.DataFrame()\n",
    "df_accuracy_weights[\"Neighbors\"] = para_n_neighbors\n",
    "df_accuracy_weights[\"Weights\"] = para_weights\n",
    "df_accuracy_weights[\"TrainAccuracy\"] = train_accuracy\n",
    "df_accuracy_weights[\"TestAccuracy\"] = test_accuracy\n",
    "\n",
    "df_accuracy_weights_pivot = df_accuracy_weights.pivot(index = \"Neighbors\", columns = \"Weights\", values = [\"TrainAccuracy\", \"TestAccuracy\"])\n",
    "\n",
    "# pivot을 이용할 경우, columns와 values이 2개의 level로 이루어지므로 하나의 level로 변환\n",
    "level0 = df_accuracy_weights_pivot.columns.get_level_values(0)\n",
    "level1 = df_accuracy_weights_pivot.columns.get_level_values(1)\n",
    "df_accuracy_weights_pivot.columns = level0 + \"_\" + level1\n",
    "df_accuracy_weights_pivot"
   ]
  },
  {
   "cell_type": "code",
   "execution_count": 86,
   "metadata": {},
   "outputs": [
    {
     "data": {
      "text/plain": [
       "<matplotlib.axes._subplots.AxesSubplot at 0x1661bb70>"
      ]
     },
     "execution_count": 86,
     "metadata": {},
     "output_type": "execute_result"
    },
    {
     "data": {
      "image/png": "[encoded data removed]",
      "text/plain": [
       "<Figure size 432x288 with 1 Axes>"
      ]
     },
     "metadata": {
      "needs_background": "light"
     },
     "output_type": "display_data"
    }
   ],
   "source": [
    "sns.lineplot(data = df_accuracy_weights_pivot)"
   ]
  },
  {
   "cell_type": "markdown",
   "metadata": {},
   "source": [
    "weights = uniform"
   ]
  },
  {
   "cell_type": "markdown",
   "metadata": {},
   "source": [
    "#### 거리 계산 방법별 이웃 수 증가에 따른 설명력 변화"
   ]
  },
  {
   "cell_type": "code",
   "execution_count": 88,
   "metadata": {},
   "outputs": [
    {
     "data": {
      "text/html": [
       "<div>\n",
       "<style scoped>\n",
       "    .dataframe tbody tr th:only-of-type {\n",
       "        vertical-align: middle;\n",
       "    }\n",
       "\n",
       "    .dataframe tbody tr th {\n",
       "        vertical-align: top;\n",
       "    }\n",
       "\n",
       "    .dataframe thead th {\n",
       "        text-align: right;\n",
       "    }\n",
       "</style>\n",
       "<table border=\"1\" class=\"dataframe\">\n",
       "  <thead>\n",
       "    <tr style=\"text-align: right;\">\n",
       "      <th></th>\n",
       "      <th>TrainAccuracy_euclidean</th>\n",
       "      <th>TrainAccuracy_manhattan</th>\n",
       "      <th>TrainAccuracy_minkowski</th>\n",
       "      <th>TestAccuracy_euclidean</th>\n",
       "      <th>TestAccuracy_manhattan</th>\n",
       "      <th>TestAccuracy_minkowski</th>\n",
       "    </tr>\n",
       "    <tr>\n",
       "      <th>Neighbors</th>\n",
       "      <th></th>\n",
       "      <th></th>\n",
       "      <th></th>\n",
       "      <th></th>\n",
       "      <th></th>\n",
       "      <th></th>\n",
       "    </tr>\n",
       "  </thead>\n",
       "  <tbody>\n",
       "    <tr>\n",
       "      <th>1</th>\n",
       "      <td>1.000</td>\n",
       "      <td>1.000</td>\n",
       "      <td>1.000</td>\n",
       "      <td>0.722</td>\n",
       "      <td>0.722</td>\n",
       "      <td>0.722</td>\n",
       "    </tr>\n",
       "    <tr>\n",
       "      <th>2</th>\n",
       "      <td>0.865</td>\n",
       "      <td>0.869</td>\n",
       "      <td>0.865</td>\n",
       "      <td>0.755</td>\n",
       "      <td>0.750</td>\n",
       "      <td>0.755</td>\n",
       "    </tr>\n",
       "    <tr>\n",
       "      <th>3</th>\n",
       "      <td>0.827</td>\n",
       "      <td>0.849</td>\n",
       "      <td>0.827</td>\n",
       "      <td>0.759</td>\n",
       "      <td>0.764</td>\n",
       "      <td>0.759</td>\n",
       "    </tr>\n",
       "    <tr>\n",
       "      <th>4</th>\n",
       "      <td>0.788</td>\n",
       "      <td>0.806</td>\n",
       "      <td>0.788</td>\n",
       "      <td>0.755</td>\n",
       "      <td>0.773</td>\n",
       "      <td>0.755</td>\n",
       "    </tr>\n",
       "    <tr>\n",
       "      <th>5</th>\n",
       "      <td>0.788</td>\n",
       "      <td>0.810</td>\n",
       "      <td>0.788</td>\n",
       "      <td>0.764</td>\n",
       "      <td>0.787</td>\n",
       "      <td>0.764</td>\n",
       "    </tr>\n",
       "    <tr>\n",
       "      <th>6</th>\n",
       "      <td>0.786</td>\n",
       "      <td>0.778</td>\n",
       "      <td>0.786</td>\n",
       "      <td>0.736</td>\n",
       "      <td>0.769</td>\n",
       "      <td>0.736</td>\n",
       "    </tr>\n",
       "    <tr>\n",
       "      <th>7</th>\n",
       "      <td>0.784</td>\n",
       "      <td>0.800</td>\n",
       "      <td>0.784</td>\n",
       "      <td>0.755</td>\n",
       "      <td>0.773</td>\n",
       "      <td>0.755</td>\n",
       "    </tr>\n",
       "    <tr>\n",
       "      <th>8</th>\n",
       "      <td>0.766</td>\n",
       "      <td>0.782</td>\n",
       "      <td>0.766</td>\n",
       "      <td>0.731</td>\n",
       "      <td>0.750</td>\n",
       "      <td>0.731</td>\n",
       "    </tr>\n",
       "    <tr>\n",
       "      <th>9</th>\n",
       "      <td>0.782</td>\n",
       "      <td>0.780</td>\n",
       "      <td>0.782</td>\n",
       "      <td>0.764</td>\n",
       "      <td>0.782</td>\n",
       "      <td>0.764</td>\n",
       "    </tr>\n",
       "    <tr>\n",
       "      <th>10</th>\n",
       "      <td>0.764</td>\n",
       "      <td>0.768</td>\n",
       "      <td>0.764</td>\n",
       "      <td>0.731</td>\n",
       "      <td>0.745</td>\n",
       "      <td>0.731</td>\n",
       "    </tr>\n",
       "  </tbody>\n",
       "</table>\n",
       "</div>"
      ],
      "text/plain": [
       "           TrainAccuracy_euclidean  TrainAccuracy_manhattan  \\\n",
       "Neighbors                                                     \n",
       "1                            1.000                    1.000   \n",
       "2                            0.865                    0.869   \n",
       "3                            0.827                    0.849   \n",
       "4                            0.788                    0.806   \n",
       "5                            0.788                    0.810   \n",
       "6                            0.786                    0.778   \n",
       "7                            0.784                    0.800   \n",
       "8                            0.766                    0.782   \n",
       "9                            0.782                    0.780   \n",
       "10                           0.764                    0.768   \n",
       "\n",
       "           TrainAccuracy_minkowski  TestAccuracy_euclidean  \\\n",
       "Neighbors                                                    \n",
       "1                            1.000                   0.722   \n",
       "2                            0.865                   0.755   \n",
       "3                            0.827                   0.759   \n",
       "4                            0.788                   0.755   \n",
       "5                            0.788                   0.764   \n",
       "6                            0.786                   0.736   \n",
       "7                            0.784                   0.755   \n",
       "8                            0.766                   0.731   \n",
       "9                            0.782                   0.764   \n",
       "10                           0.764                   0.731   \n",
       "\n",
       "           TestAccuracy_manhattan  TestAccuracy_minkowski  \n",
       "Neighbors                                                  \n",
       "1                           0.722                   0.722  \n",
       "2                           0.750                   0.755  \n",
       "3                           0.764                   0.759  \n",
       "4                           0.773                   0.755  \n",
       "5                           0.787                   0.764  \n",
       "6                           0.769                   0.736  \n",
       "7                           0.773                   0.755  \n",
       "8                           0.750                   0.731  \n",
       "9                           0.782                   0.764  \n",
       "10                          0.745                   0.731  "
      ]
     },
     "execution_count": 88,
     "metadata": {},
     "output_type": "execute_result"
    }
   ],
   "source": [
    "# train 및 test 정확도 결과 저장용\n",
    "train_accuracy = []; test_accuracy = []\n",
    "# 이웃 수\n",
    "para_n_neighbors = [i for i in range(1,11)] * 3\n",
    "# 거리 계산 방법 (minkowski, euclidean, manhattan)\n",
    "para_metric = [\"minkowski\"] * 10 + [\"euclidean\"] * 10 + [\"manhattan\"] * 10\n",
    "\n",
    "for (v_n_neighbors, v_metric) in zip(para_n_neighbors, para_metric):\n",
    "    knn = KNeighborsClassifier(n_neighbors = v_n_neighbors, metric = v_metric, weights = \"uniform\")\n",
    "    knn.fit(df_train_x, df_train_y)\n",
    "    train_accuracy.append(knn.score(df_train_x, df_train_y))\n",
    "    test_accuracy.append(knn.score(df_test_x, df_test_y))    \n",
    "\n",
    "# 데이터 테이블로 저장\n",
    "df_accuracy_metric = pd.DataFrame()\n",
    "df_accuracy_metric[\"Neighbors\"] = para_n_neighbors\n",
    "df_accuracy_metric[\"Metric\"] = para_metric\n",
    "df_accuracy_metric[\"TrainAccuracy\"] = train_accuracy\n",
    "df_accuracy_metric[\"TestAccuracy\"] = test_accuracy\n",
    "\n",
    "df_accuracy_metric_pivot = df_accuracy_metric.pivot(index = \"Neighbors\", columns = \"Metric\", values = [\"TrainAccuracy\", \"TestAccuracy\"])\n",
    "\n",
    "# pivot을 이용할 경우, columns와 values이 2개의 level로 이루어지므로 하나의 level로 변환\n",
    "level0 = df_accuracy_metric_pivot.columns.get_level_values(0)\n",
    "level1 = df_accuracy_metric_pivot.columns.get_level_values(1)\n",
    "df_accuracy_metric_pivot.columns = level0 + \"_\" + level1\n",
    "df_accuracy_metric_pivot"
   ]
  },
  {
   "cell_type": "code",
   "execution_count": 90,
   "metadata": {},
   "outputs": [
    {
     "data": {
      "text/plain": [
       "<matplotlib.axes._subplots.AxesSubplot at 0x1666df60>"
      ]
     },
     "execution_count": 90,
     "metadata": {},
     "output_type": "execute_result"
    },
    {
     "data": {
      "image/png": "[encoded data removed]",
      "text/plain": [
       "<Figure size 432x288 with 1 Axes>"
      ]
     },
     "metadata": {
      "needs_background": "light"
     },
     "output_type": "display_data"
    }
   ],
   "source": [
    "sns.lineplot(data = df_accuracy_metric_pivot)"
   ]
  },
  {
   "cell_type": "markdown",
   "metadata": {},
   "source": [
    "metric = \"manhattan\""
   ]
  },
  {
   "cell_type": "markdown",
   "metadata": {},
   "source": [
    "### 최종 모델"
   ]
  },
  {
   "cell_type": "code",
   "execution_count": 92,
   "metadata": {},
   "outputs": [
    {
     "data": {
      "text/plain": [
       "KNeighborsClassifier(algorithm='auto', leaf_size=30, metric='manhattan',\n",
       "           metric_params=None, n_jobs=None, n_neighbors=5, p=2,\n",
       "           weights='uniform')"
      ]
     },
     "execution_count": 92,
     "metadata": {},
     "output_type": "execute_result"
    }
   ],
   "source": [
    "knn_final = KNeighborsClassifier(n_neighbors = 5, weights = \"uniform\", metric = \"manhattan\")\n",
    "knn_final.fit(df_train_x, df_train_y)"
   ]
  },
  {
   "cell_type": "markdown",
   "metadata": {},
   "source": [
    "### 예측 & 평가"
   ]
  },
  {
   "cell_type": "code",
   "execution_count": 94,
   "metadata": {},
   "outputs": [
    {
     "name": "stdout",
     "output_type": "stream",
     "text": [
      "Accuracy on test set: 0.787\n",
      "\n",
      "Confusion matrix: \n",
      "[[133  12]\n",
      " [ 34  37]]\n"
     ]
    }
   ],
   "source": [
    "# 예측\n",
    "y_pred = knn_final.predict(df_test_x)\n",
    "\n",
    "# test 데이터 셋 정확도\n",
    "print(\"Accuracy on test set: {:.3f}\\n\".format(knn_final.score(df_test_x, df_test_y)))\n",
    "# confusion matrix\n",
    "print(\"Confusion matrix: \\n{}\".format(confusion_matrix(df_test_y, y_pred)))"
   ]
  }
 ],
 "metadata": {
  "kernelspec": {
   "display_name": "Python 3",
   "language": "python",
   "name": "python3"
  },
  "language_info": {
   "codemirror_mode": {
    "name": "ipython",
    "version": 3
   },
   "file_extension": ".py",
   "mimetype": "text/x-python",
   "name": "python",
   "nbconvert_exporter": "python",
   "pygments_lexer": "ipython3",
   "version": "3.7.3"
  }
 },
 "nbformat": 4,
 "nbformat_minor": 2
}
